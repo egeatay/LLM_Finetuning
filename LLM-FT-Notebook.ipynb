{
 "cells": [
  {
   "cell_type": "code",
   "execution_count": null,
   "metadata": {},
   "outputs": [],
   "source": [
    "print(0)"
   ]
  },
  {
   "cell_type": "markdown",
   "metadata": {},
   "source": [
    "---\n",
    "# LLM Finetuning\n",
    "\n",
    "---"
   ]
  },
  {
   "cell_type": "code",
   "execution_count": null,
   "metadata": {},
   "outputs": [],
   "source": [
    "import torch\n",
    "\n",
    "from sklearn.model_selection import train_test_split\n",
    "\n",
    "from transformers import BertTokenizer, BertForSequenceClassification, Trainer, TrainingArguments #, BertModel\n",
    "from datasets import load_dataset, Dataset\n",
    "\n",
    "from torch.optim import AdamW\n",
    "from torch.optim.lr_scheduler import CosineAnnealingLR\n",
    "\n",
    "from sklearn.metrics import accuracy_score\n",
    "\n",
    "#import tensorflow as tf\n",
    "#import numpy as np\n",
    "#import nltk\n",
    "#import datasets\n",
    "\n",
    "import pickle\n"
   ]
  },
  {
   "cell_type": "code",
   "execution_count": null,
   "metadata": {},
   "outputs": [],
   "source": [
    "device = torch.device('cuda') if torch.cuda.is_available() else torch.device('cpu')\n",
    "print(f'Using device: {device}')"
   ]
  },
  {
   "cell_type": "code",
   "execution_count": 4,
   "metadata": {},
   "outputs": [],
   "source": [
    "def compute_metrics(eval_pred):\n",
    "    logits, labels = eval_pred\n",
    "    predictions = torch.argmax(torch.tensor(logits), dim=1)\n",
    "    labels = torch.tensor(labels)\n",
    "    accuracy = accuracy_score(labels, predictions)\n",
    "    return {'accuracy': accuracy}"
   ]
  },
  {
   "cell_type": "code",
   "execution_count": 5,
   "metadata": {},
   "outputs": [],
   "source": [
    "tokenizer = BertTokenizer.from_pretrained('bert-base-uncased')\n",
    "\n",
    "def tokenize_function(example):  \n",
    "    return tokenizer(example['text'], padding='max_length', truncation=True)\n"
   ]
  },
  {
   "cell_type": "code",
   "execution_count": 6,
   "metadata": {},
   "outputs": [],
   "source": [
    "modelsizes = {1:'prajjwal1/bert-tiny', 2:'prajjwal1/bert-mini', 3:'prajjwal1/bert-small'}\n",
    "\n",
    "pre_t_model = modelsizes[3]\n",
    "\n",
    "my_lr = 0.001\n",
    "\n",
    "epox = 3\n"
   ]
  },
  {
   "cell_type": "markdown",
   "metadata": {},
   "source": [
    "---\n",
    "# IMDB\n",
    "\n",
    "---"
   ]
  },
  {
   "cell_type": "code",
   "execution_count": null,
   "metadata": {},
   "outputs": [],
   "source": [
    "\n",
    "dataset = load_dataset('imdb')\n",
    "\n",
    "tokenized_datasets = dataset['train'].map(tokenize_function, batched=True)\n",
    "\n",
    "train_data = tokenized_datasets.to_dict()\n",
    "\n",
    "#with open(r'C:/Users/ege/git/NLP/datasets/imdb.pkl', 'wb') as file:\n",
    "#    pickle.dump(train_data, file)\n"
   ]
  },
  {
   "cell_type": "code",
   "execution_count": null,
   "metadata": {},
   "outputs": [],
   "source": [
    "\n",
    "#with open(r'C:\\Users\\ege\\git\\NLP\\datasets\\imdb.pkl', 'rb') as file:\n",
    "#    train_data = pickle.load(file)\n",
    "\n",
    "\n",
    "train_dataset, validation_dataset = train_test_split(list(zip(train_data['input_ids'], train_data['attention_mask'], train_data['label'])), test_size=0.1)\n",
    "\n",
    "#print(type(tokenized_datasets))\n",
    "\n",
    "train_dataset = [{'input_ids': x[0], 'attention_mask': x[1], 'label': x[2]} for x in train_dataset]\n",
    "validation_dataset = [{'input_ids': x[0], 'attention_mask': x[1], 'label': x[2]} for x in validation_dataset]\n",
    "\n",
    "print(\"Train:\", len(train_dataset))\n",
    "print(\"Val:\", len(validation_dataset))\n",
    "\n",
    "\n",
    "train_dataset_hf = Dataset.from_dict({'input_ids': [x['input_ids'] for x in train_dataset],\n",
    "                                      'attention_mask': [x['attention_mask'] for x in train_dataset],\n",
    "                                      'labels': [x['label'] for x in train_dataset]})\n",
    "\n",
    "validation_dataset_hf = Dataset.from_dict({'input_ids': [x['input_ids'] for x in validation_dataset],\n",
    "                                           'attention_mask': [x['attention_mask'] for x in validation_dataset],\n",
    "                                           'labels': [x['label'] for x in validation_dataset]})\n",
    "\n",
    "#print(type(train_dataset_hf))"
   ]
  },
  {
   "cell_type": "code",
   "execution_count": 9,
   "metadata": {},
   "outputs": [],
   "source": [
    "\n",
    "training_args = TrainingArguments(\n",
    "    output_dir='./results',\n",
    "    eval_strategy=\"epoch\",\n",
    "    learning_rate=my_lr,\n",
    "    per_device_train_batch_size=8,\n",
    "    per_device_eval_batch_size=8,\n",
    "    num_train_epochs=epox,\n",
    "    weight_decay=0.01,\n",
    "    report_to=[],\n",
    ")\n"
   ]
  },
  {
   "cell_type": "code",
   "execution_count": null,
   "metadata": {},
   "outputs": [],
   "source": [
    "model_base = BertForSequenceClassification.from_pretrained(pre_t_model, num_labels=2).to(device)\n",
    "\n",
    "print(\"\\n The total trainable parameters on the baseline model:\", sum([v.numel() for _,v in model_base.named_parameters() if v.requires_grad]))\n",
    "\n",
    "optimizer = AdamW(filter(lambda p: p.requires_grad, model_base.parameters()), lr=my_lr)\n",
    "\n",
    "num_training_steps = len(train_dataset_hf) // training_args.per_device_train_batch_size * training_args.num_train_epochs\n",
    "scheduler = CosineAnnealingLR(optimizer, T_max=num_training_steps)\n",
    "\n",
    "trainer_base = Trainer(\n",
    "    model=model_base,\n",
    "    args=training_args,\n",
    "    train_dataset=train_dataset_hf,\n",
    "    eval_dataset=validation_dataset_hf,\n",
    "    compute_metrics=compute_metrics,\n",
    "    optimizers=(optimizer, scheduler)\n",
    ")"
   ]
  },
  {
   "cell_type": "code",
   "execution_count": null,
   "metadata": {},
   "outputs": [],
   "source": [
    "trainer_base.train()\n",
    "\n",
    "\n",
    "base_metrics = trainer_base.evaluate()\n",
    "print(\"Baseline Evaluation Metrics:\", base_metrics)"
   ]
  },
  {
   "cell_type": "code",
   "execution_count": null,
   "metadata": {},
   "outputs": [],
   "source": [
    "model_bo = BertForSequenceClassification.from_pretrained(pre_t_model, num_labels=2).to(device)\n",
    "\n",
    "\n",
    "print(\"\\n The total trainable parameters before:\", sum([v.numel() for _,v in model_bo.named_parameters() if v.requires_grad]))\n",
    "\n",
    "for k, v in model_bo.named_parameters():\n",
    "    v.requires_grad = ((\"classifier\" in k) or (\"bias\" in k))\n",
    "\n",
    "print(\" after:\", sum([v.numel() for _,v in model_bo.named_parameters() if v.requires_grad]))\n",
    "\n",
    "\n",
    "optimizer = AdamW(filter(lambda p: p.requires_grad, model_bo.parameters()), lr=my_lr)\n",
    "\n",
    "num_training_steps = len(train_dataset_hf) // training_args.per_device_train_batch_size * training_args.num_train_epochs\n",
    "scheduler = CosineAnnealingLR(optimizer, T_max=num_training_steps)\n",
    "\n",
    "bias_trainer = Trainer(\n",
    "    model=model_bo,\n",
    "    args=training_args,\n",
    "    train_dataset=train_dataset_hf,\n",
    "    eval_dataset=validation_dataset_hf,\n",
    "    compute_metrics=compute_metrics,\n",
    "    optimizers=(optimizer, scheduler)\n",
    ")"
   ]
  },
  {
   "cell_type": "code",
   "execution_count": null,
   "metadata": {},
   "outputs": [],
   "source": [
    "bias_trainer.train()\n",
    "\n",
    "bias_o_metrics = bias_trainer.evaluate()\n",
    "print(\"Bias-only Evaluation Metrics:\", bias_o_metrics)"
   ]
  },
  {
   "cell_type": "markdown",
   "metadata": {},
   "source": [
    "---\n",
    "# AG N\n",
    "\n",
    "---"
   ]
  },
  {
   "cell_type": "code",
   "execution_count": null,
   "metadata": {},
   "outputs": [],
   "source": [
    "\n",
    "dataset = load_dataset('ag_news')\n",
    "\n",
    "tokenized_datasets = dataset['train'].map(tokenize_function, batched=True)\n",
    "\n",
    "train_data = tokenized_datasets.to_dict()\n",
    "\n",
    "\n",
    "#with open('C:/Users/ege/git/NLP/datasets/agn.pkl', 'wb') as file:\n",
    "#    pickle.dump(train_data, file)\n"
   ]
  },
  {
   "cell_type": "code",
   "execution_count": null,
   "metadata": {},
   "outputs": [],
   "source": [
    "#with open('C:/Users/ege/git/NLP/datasets/agn.pkl', 'rb') as file:\n",
    "#    train_data = pickle.load(file)\n",
    "\n",
    "train_dataset, validation_dataset = train_test_split(\n",
    "    list(zip(train_data['input_ids'], train_data['attention_mask'], train_data['label'])), \n",
    "    test_size=0.1\n",
    ")\n",
    "\n",
    "train_dataset = [{'input_ids': x[0], 'attention_mask': x[1], 'label': x[2]} for x in train_dataset]\n",
    "validation_dataset = [{'input_ids': x[0], 'attention_mask': x[1], 'label': x[2]} for x in validation_dataset]\n",
    "\n",
    "print(\"Train:\", len(train_dataset))\n",
    "print(\"Val:\", len(validation_dataset))\n",
    "#print(\"Test:\", len(dataset['test']))\n",
    "\n",
    "\n",
    "train_dataset_hf = Dataset.from_dict({'input_ids': [x['input_ids'] for x in train_dataset],\n",
    "                                      'attention_mask': [x['attention_mask'] for x in train_dataset],\n",
    "                                      'labels': [x['label'] for x in train_dataset]})\n",
    "\n",
    "validation_dataset_hf = Dataset.from_dict({'input_ids': [x['input_ids'] for x in validation_dataset],\n",
    "                                           'attention_mask': [x['attention_mask'] for x in validation_dataset],\n",
    "                                           'labels': [x['label'] for x in validation_dataset]})\n"
   ]
  },
  {
   "cell_type": "code",
   "execution_count": null,
   "metadata": {},
   "outputs": [],
   "source": [
    "model_base = BertForSequenceClassification.from_pretrained(pre_t_model, num_labels=4).to(device)\n",
    "\n",
    "optimizer = AdamW(filter(lambda p: p.requires_grad, model_base.parameters()), lr=my_lr)\n",
    "\n",
    "num_training_steps = len(train_dataset_hf) // training_args.per_device_train_batch_size * training_args.num_train_epochs\n",
    "scheduler = CosineAnnealingLR(optimizer, T_max=num_training_steps)\n",
    "\n",
    "trainer_base = Trainer(\n",
    "    model=model_base,\n",
    "    args=training_args,\n",
    "    train_dataset=train_dataset_hf,\n",
    "    eval_dataset=validation_dataset_hf,\n",
    "    compute_metrics=compute_metrics,\n",
    "    optimizers=(optimizer, scheduler)\n",
    ")"
   ]
  },
  {
   "cell_type": "code",
   "execution_count": null,
   "metadata": {},
   "outputs": [],
   "source": [
    "trainer_base.train()\n",
    "\n",
    "\n",
    "base_metrics = trainer_base.evaluate()\n",
    "print(\"Baseline Evaluation Metrics:\", base_metrics)\n"
   ]
  },
  {
   "cell_type": "code",
   "execution_count": null,
   "metadata": {},
   "outputs": [],
   "source": [
    "model_bo = BertForSequenceClassification.from_pretrained(pre_t_model, num_labels=4).to(device)\n",
    "\n",
    "for k, v in model_bo.named_parameters():\n",
    "    v.requires_grad = ((\"classifier\" in k) or (\"bias\" in k))\n",
    "\n",
    "\n",
    "optimizer = AdamW(filter(lambda p: p.requires_grad, model_bo.parameters()), lr=my_lr)\n",
    "\n",
    "num_training_steps = len(train_dataset_hf) // training_args.per_device_train_batch_size * training_args.num_train_epochs\n",
    "scheduler = CosineAnnealingLR(optimizer, T_max=num_training_steps)\n",
    "\n",
    "bias_trainer = Trainer(\n",
    "    model=model_bo,\n",
    "    args=training_args,\n",
    "    train_dataset=train_dataset_hf,\n",
    "    eval_dataset=validation_dataset_hf,\n",
    "    compute_metrics=compute_metrics,\n",
    "    optimizers=(optimizer, scheduler)\n",
    ")"
   ]
  },
  {
   "cell_type": "code",
   "execution_count": null,
   "metadata": {},
   "outputs": [],
   "source": [
    "bias_trainer.train()\n",
    "\n",
    "bias_o_metrics = bias_trainer.evaluate()\n",
    "print(\"Bias-only Evaluation Metrics:\", bias_o_metrics)"
   ]
  },
  {
   "cell_type": "code",
   "execution_count": null,
   "metadata": {},
   "outputs": [],
   "source": [
    "\n",
    "dataset = load_dataset('fancyzhx/yelp_polarity')\n",
    "\n",
    "tokenized_datasets = dataset['train'].map(tokenize_function, batched=True)\n",
    "\n",
    "train_data = tokenized_datasets.to_dict()\n",
    "\n",
    "\n",
    "#with open('C:/Users/ege/git/NLP/datasets/yelp.pkl', 'wb') as file:\n",
    "#    pickle.dump(train_data, file)\n"
   ]
  },
  {
   "cell_type": "code",
   "execution_count": null,
   "metadata": {},
   "outputs": [],
   "source": [
    "\n",
    "#with open('C:/Users/ege/git/NLP/datasets/yelp.pkl', 'rb') as file:\n",
    "#    train_data = pickle.load(file)\n",
    "\n",
    "\n",
    "train_dataset, validation_dataset = train_test_split(list(zip(train_data['input_ids'], train_data['attention_mask'], train_data['label'])), test_size=0.1)\n",
    "\n",
    "train_dataset = [{'input_ids': x[0], 'attention_mask': x[1], 'label': x[2]} for x in train_dataset]\n",
    "validation_dataset = [{'input_ids': x[0], 'attention_mask': x[1], 'label': x[2]} for x in validation_dataset]\n",
    "\n",
    "print(\"Train:\", len(train_dataset))\n",
    "print(\"Val:\", len(validation_dataset))\n",
    "#print(\"Test:\", len(dataset['test']))\n",
    "\n",
    "train_dataset_hf = Dataset.from_dict({'input_ids': [x['input_ids'] for x in train_dataset],\n",
    "                                      'attention_mask': [x['attention_mask'] for x in train_dataset],\n",
    "                                      'labels': [x['label'] for x in train_dataset]})\n",
    "\n",
    "validation_dataset_hf = Dataset.from_dict({'input_ids': [x['input_ids'] for x in validation_dataset],\n",
    "                                           'attention_mask': [x['attention_mask'] for x in validation_dataset],\n",
    "                                           'labels': [x['label'] for x in validation_dataset]})\n",
    "\n",
    "\n",
    "\"\"\"\n",
    "with open('C:/Users/ege/git/NLP/datasets/yelp-train.pkl', 'wb') as file:\n",
    "    pickle.dump(train_dataset_hf, file)\n",
    "\n",
    "with open('C:/Users/ege/git/NLP/datasets/yelp-val.pkl', 'wb') as file:\n",
    "    pickle.dump(validation_dataset_hf, file)\n",
    "\"\"\""
   ]
  },
  {
   "cell_type": "code",
   "execution_count": 22,
   "metadata": {},
   "outputs": [],
   "source": [
    "\"\"\"\n",
    "with open('C:/Users/ege/git/NLP/datasets/yelp-train.pkl', 'rb') as file:\n",
    "    train_dataset_hf = pickle.load(file)\n",
    "\n",
    "with open('C:/Users/ege/git/NLP/datasets/yelp-val.pkl', 'rb') as file:\n",
    "    validation_dataset_hf = pickle.load(file)\n",
    "\"\"\""
   ]
  },
  {
   "cell_type": "code",
   "execution_count": null,
   "metadata": {},
   "outputs": [],
   "source": [
    "model_base = BertForSequenceClassification.from_pretrained(pre_t_model, num_labels=2).to(device)\n",
    "\n",
    "optimizer = AdamW(filter(lambda p: p.requires_grad, model_base.parameters()), lr=my_lr)\n",
    "\n",
    "num_training_steps = len(train_dataset_hf) // training_args.per_device_train_batch_size * training_args.num_train_epochs\n",
    "scheduler = CosineAnnealingLR(optimizer, T_max=num_training_steps)\n",
    "\n",
    "trainer_base = Trainer(\n",
    "    model=model_base,\n",
    "    args=training_args,\n",
    "    train_dataset=train_dataset_hf,\n",
    "    eval_dataset=validation_dataset_hf,\n",
    "    compute_metrics=compute_metrics,\n",
    "    optimizers=(optimizer, scheduler)\n",
    ")"
   ]
  },
  {
   "cell_type": "code",
   "execution_count": null,
   "metadata": {},
   "outputs": [],
   "source": [
    "trainer_base.train()\n",
    "\n",
    "\n",
    "base_metrics = trainer_base.evaluate()\n",
    "print(\"Baseline Evaluation Metrics:\", base_metrics)"
   ]
  },
  {
   "cell_type": "code",
   "execution_count": null,
   "metadata": {},
   "outputs": [],
   "source": [
    "model_bo = BertForSequenceClassification.from_pretrained(pre_t_model, num_labels=2).to(device)\n",
    "\n",
    "\n",
    "for k, v in model_bo.named_parameters():\n",
    "    v.requires_grad = ((\"classifier\" in k) or (\"bias\" in k))\n",
    "\n",
    "\n",
    "optimizer = AdamW(filter(lambda p: p.requires_grad, model_bo.parameters()), lr=my_lr)\n",
    "\n",
    "num_training_steps = len(train_dataset_hf) // training_args.per_device_train_batch_size * training_args.num_train_epochs\n",
    "scheduler = CosineAnnealingLR(optimizer, T_max=num_training_steps)\n",
    "\n",
    "bias_trainer = Trainer(\n",
    "    model=model_bo,\n",
    "    args=training_args,\n",
    "    train_dataset=train_dataset_hf,\n",
    "    eval_dataset=validation_dataset_hf,\n",
    "    compute_metrics=compute_metrics,\n",
    "    optimizers=(optimizer, scheduler)\n",
    ")"
   ]
  },
  {
   "cell_type": "code",
   "execution_count": null,
   "metadata": {},
   "outputs": [],
   "source": [
    "bias_trainer.train()\n",
    "\n",
    "bias_o_metrics = bias_trainer.evaluate()\n",
    "print(\"Bias-only Evaluation Metrics:\", bias_o_metrics)"
   ]
  },
  {
   "cell_type": "code",
   "execution_count": null,
   "metadata": {},
   "outputs": [],
   "source": [
    "print(1)"
   ]
  }
 ],
 "metadata": {
  "kernelspec": {
   "display_name": ".venv",
   "language": "python",
   "name": "python3"
  },
  "language_info": {
   "codemirror_mode": {
    "name": "ipython",
    "version": 3
   },
   "file_extension": ".py",
   "mimetype": "text/x-python",
   "name": "python",
   "nbconvert_exporter": "python",
   "pygments_lexer": "ipython3",
   "version": "3.11.9"
  }
 },
 "nbformat": 4,
 "nbformat_minor": 2
}
