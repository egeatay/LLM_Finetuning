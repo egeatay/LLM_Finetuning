{
 "cells": [
  {
   "cell_type": "code",
   "execution_count": 1,
   "metadata": {},
   "outputs": [
    {
     "name": "stdout",
     "output_type": "stream",
     "text": [
      "0\n"
     ]
    }
   ],
   "source": [
    "print(0)"
   ]
  },
  {
   "cell_type": "markdown",
   "metadata": {},
   "source": [
    "---\n",
    "# LLM Finetuning\n",
    "\n",
    "---"
   ]
  },
  {
   "cell_type": "code",
   "execution_count": 2,
   "metadata": {},
   "outputs": [
    {
     "name": "stdout",
     "output_type": "stream",
     "text": [
      "WARNING:tensorflow:From c:\\Users\\ege\\git\\.venv\\Lib\\site-packages\\tf_keras\\src\\losses.py:2976: The name tf.losses.sparse_softmax_cross_entropy is deprecated. Please use tf.compat.v1.losses.sparse_softmax_cross_entropy instead.\n",
      "\n"
     ]
    }
   ],
   "source": [
    "import torch\n",
    "\n",
    "from sklearn.model_selection import train_test_split\n",
    "\n",
    "from transformers import BertTokenizer, BertForSequenceClassification, Trainer, TrainingArguments #, BertModel\n",
    "from datasets import load_dataset, Dataset\n",
    "\n",
    "from torch.optim import AdamW\n",
    "from torch.optim.lr_scheduler import CosineAnnealingLR\n",
    "\n",
    "from sklearn.metrics import accuracy_score\n",
    "\n",
    "#import tensorflow as tf\n",
    "#import numpy as np\n",
    "#import nltk\n",
    "#import datasets\n",
    "\n",
    "import pickle\n"
   ]
  },
  {
   "cell_type": "code",
   "execution_count": 3,
   "metadata": {},
   "outputs": [
    {
     "name": "stdout",
     "output_type": "stream",
     "text": [
      "Using device: cuda\n"
     ]
    }
   ],
   "source": [
    "device = torch.device('cuda') if torch.cuda.is_available() else torch.device('cpu')\n",
    "print(f'Using device: {device}')"
   ]
  },
  {
   "cell_type": "code",
   "execution_count": 4,
   "metadata": {},
   "outputs": [],
   "source": [
    "def compute_metrics(eval_pred):\n",
    "    logits, labels = eval_pred\n",
    "    predictions = torch.argmax(torch.tensor(logits), dim=1)\n",
    "    labels = torch.tensor(labels)\n",
    "    accuracy = accuracy_score(labels, predictions)\n",
    "    return {'accuracy': accuracy}"
   ]
  },
  {
   "cell_type": "code",
   "execution_count": 5,
   "metadata": {},
   "outputs": [],
   "source": [
    "tokenizer = BertTokenizer.from_pretrained('bert-base-uncased')\n",
    "\n",
    "def tokenize_function(example):  \n",
    "    return tokenizer(example['text'], padding='max_length', truncation=True)\n"
   ]
  },
  {
   "cell_type": "code",
   "execution_count": 6,
   "metadata": {},
   "outputs": [],
   "source": [
    "modelsizes = {1:'prajjwal1/bert-tiny', 2:'prajjwal1/bert-mini', 3:'prajjwal1/bert-small'}\n",
    "\n",
    "pre_t_model = modelsizes[1]\n",
    "\n",
    "my_lr = 0.001\n",
    "\n",
    "epox = 3"
   ]
  },
  {
   "cell_type": "markdown",
   "metadata": {},
   "source": [
    "---\n",
    "# IMDB\n",
    "\n",
    "---"
   ]
  },
  {
   "cell_type": "code",
   "execution_count": 7,
   "metadata": {},
   "outputs": [],
   "source": [
    "\n",
    "dataset = load_dataset('imdb')\n",
    "\n",
    "tokenized_datasets = dataset['train'].map(tokenize_function, batched=True)\n",
    "\n",
    "train_data = tokenized_datasets.to_dict()\n",
    "\n",
    "#with open(r'C:/Users/ege/git/NLP/datasets/imdb.pkl', 'wb') as file:\n",
    "#    pickle.dump(train_data, file)\n"
   ]
  },
  {
   "cell_type": "code",
   "execution_count": 8,
   "metadata": {},
   "outputs": [
    {
     "name": "stdout",
     "output_type": "stream",
     "text": [
      "Train: 22500\n",
      "Val: 2500\n"
     ]
    }
   ],
   "source": [
    "\n",
    "#with open(r'C:\\Users\\ege\\git\\NLP\\datasets\\imdb.pkl', 'rb') as file:\n",
    "#    train_data = pickle.load(file)\n",
    "\n",
    "\n",
    "train_dataset, validation_dataset = train_test_split(list(zip(train_data['input_ids'], train_data['attention_mask'], train_data['label'])), test_size=0.1)\n",
    "\n",
    "#print(type(tokenized_datasets))\n",
    "\n",
    "train_dataset = [{'input_ids': x[0], 'attention_mask': x[1], 'label': x[2]} for x in train_dataset]\n",
    "validation_dataset = [{'input_ids': x[0], 'attention_mask': x[1], 'label': x[2]} for x in validation_dataset]\n",
    "\n",
    "print(\"Train:\", len(train_dataset))\n",
    "print(\"Val:\", len(validation_dataset))\n",
    "\n",
    "\n",
    "train_dataset_hf = Dataset.from_dict({'input_ids': [x['input_ids'] for x in train_dataset],\n",
    "                                      'attention_mask': [x['attention_mask'] for x in train_dataset],\n",
    "                                      'labels': [x['label'] for x in train_dataset]})\n",
    "\n",
    "validation_dataset_hf = Dataset.from_dict({'input_ids': [x['input_ids'] for x in validation_dataset],\n",
    "                                           'attention_mask': [x['attention_mask'] for x in validation_dataset],\n",
    "                                           'labels': [x['label'] for x in validation_dataset]})\n",
    "\n",
    "#print(type(train_dataset_hf))"
   ]
  },
  {
   "cell_type": "code",
   "execution_count": 9,
   "metadata": {},
   "outputs": [],
   "source": [
    "\n",
    "training_args = TrainingArguments(\n",
    "    output_dir='./results',\n",
    "    eval_strategy=\"epoch\",\n",
    "    learning_rate=my_lr,\n",
    "    per_device_train_batch_size=8,\n",
    "    per_device_eval_batch_size=8,\n",
    "    num_train_epochs=epox,\n",
    "    weight_decay=0.01,\n",
    "    report_to=[],\n",
    ")\n"
   ]
  },
  {
   "cell_type": "code",
   "execution_count": 10,
   "metadata": {},
   "outputs": [
    {
     "name": "stderr",
     "output_type": "stream",
     "text": [
      "Some weights of BertForSequenceClassification were not initialized from the model checkpoint at prajjwal1/bert-tiny and are newly initialized: ['classifier.bias', 'classifier.weight']\n",
      "You should probably TRAIN this model on a down-stream task to be able to use it for predictions and inference.\n"
     ]
    },
    {
     "name": "stdout",
     "output_type": "stream",
     "text": [
      "\n",
      " The total trainable parameters on the baseline model: 4386178\n"
     ]
    }
   ],
   "source": [
    "model_base = BertForSequenceClassification.from_pretrained(pre_t_model, num_labels=2).to(device)\n",
    "\n",
    "print(\"\\n The total trainable parameters on the baseline model:\", sum([v.numel() for _,v in model_base.named_parameters() if v.requires_grad]))\n",
    "\n",
    "optimizer = AdamW(filter(lambda p: p.requires_grad, model_base.parameters()), lr=my_lr)\n",
    "\n",
    "num_training_steps = len(train_dataset_hf) // training_args.per_device_train_batch_size * training_args.num_train_epochs\n",
    "scheduler = CosineAnnealingLR(optimizer, T_max=num_training_steps)\n",
    "\n",
    "trainer_base = Trainer(\n",
    "    model=model_base,\n",
    "    args=training_args,\n",
    "    train_dataset=train_dataset_hf,\n",
    "    eval_dataset=validation_dataset_hf,\n",
    "    compute_metrics=compute_metrics,\n",
    "    optimizers=(optimizer, scheduler)\n",
    ")"
   ]
  },
  {
   "cell_type": "code",
   "execution_count": 11,
   "metadata": {},
   "outputs": [
    {
     "data": {
      "application/vnd.jupyter.widget-view+json": {
       "model_id": "2b843e9528234aedb6c2a0cca2fbf28d",
       "version_major": 2,
       "version_minor": 0
      },
      "text/plain": [
       "  0%|          | 0/8439 [00:00<?, ?it/s]"
      ]
     },
     "metadata": {},
     "output_type": "display_data"
    },
    {
     "data": {
      "application/vnd.jupyter.widget-view+json": {
       "model_id": "5b012bf54d064506b619dc9eeabfb49b",
       "version_major": 2,
       "version_minor": 0
      },
      "text/plain": [
       "model.safetensors:   0%|          | 0.00/17.7M [00:00<?, ?B/s]"
      ]
     },
     "metadata": {},
     "output_type": "display_data"
    },
    {
     "name": "stdout",
     "output_type": "stream",
     "text": [
      "{'loss': 0.6384, 'grad_norm': 2.881664752960205, 'learning_rate': 0.0009913572595317598, 'epoch': 0.18}\n",
      "{'loss': 0.6465, 'grad_norm': 4.051089763641357, 'learning_rate': 0.0009657278259782398, 'epoch': 0.36}\n",
      "{'loss': 0.6238, 'grad_norm': 10.590774536132812, 'learning_rate': 0.0009239977335096455, 'epoch': 0.53}\n",
      "{'loss': 0.6243, 'grad_norm': 1.5676418542861938, 'learning_rate': 0.0008676096315616631, 'epoch': 0.71}\n",
      "{'loss': 0.6134, 'grad_norm': 1.2421149015426636, 'learning_rate': 0.0007985129110568284, 'epoch': 0.89}\n"
     ]
    },
    {
     "data": {
      "application/vnd.jupyter.widget-view+json": {
       "model_id": "750cbf720178479582ecc2995550fac1",
       "version_major": 2,
       "version_minor": 0
      },
      "text/plain": [
       "  0%|          | 0/313 [00:00<?, ?it/s]"
      ]
     },
     "metadata": {},
     "output_type": "display_data"
    },
    {
     "name": "stdout",
     "output_type": "stream",
     "text": [
      "{'eval_loss': 0.5919720530509949, 'eval_accuracy': 0.7264, 'eval_runtime': 1.9941, 'eval_samples_per_second': 1253.696, 'eval_steps_per_second': 156.963, 'epoch': 1.0}\n",
      "{'loss': 0.605, 'grad_norm': 1.2453041076660156, 'learning_rate': 0.0007190963120852617, 'epoch': 1.07}\n",
      "{'loss': 0.609, 'grad_norm': 2.9887382984161377, 'learning_rate': 0.0006321053428620858, 'epoch': 1.24}\n",
      "{'loss': 0.6144, 'grad_norm': 4.765998840332031, 'learning_rate': 0.0005405473648676087, 'epoch': 1.42}\n",
      "{'loss': 0.6208, 'grad_norm': 11.15176773071289, 'learning_rate': 0.000447587625468245, 'epoch': 1.6}\n",
      "{'loss': 0.621, 'grad_norm': 11.793036460876465, 'learning_rate': 0.00035643983227049005, 'epoch': 1.78}\n",
      "{'loss': 0.6235, 'grad_norm': 3.8998804092407227, 'learning_rate': 0.00027025505215778884, 'epoch': 1.96}\n"
     ]
    },
    {
     "data": {
      "application/vnd.jupyter.widget-view+json": {
       "model_id": "43f26f0ba1ea4a39816aa0d2c8b67660",
       "version_major": 2,
       "version_minor": 0
      },
      "text/plain": [
       "  0%|          | 0/313 [00:00<?, ?it/s]"
      ]
     },
     "metadata": {},
     "output_type": "display_data"
    },
    {
     "name": "stdout",
     "output_type": "stream",
     "text": [
      "{'eval_loss': 0.6148188710212708, 'eval_accuracy': 0.7028, 'eval_runtime': 1.8705, 'eval_samples_per_second': 1336.533, 'eval_steps_per_second': 167.334, 'epoch': 2.0}\n",
      "{'loss': 0.6157, 'grad_norm': 3.6160497665405273, 'learning_rate': 0.00019201277587744715, 'epoch': 2.13}\n",
      "{'loss': 0.6253, 'grad_norm': 4.627112865447998, 'learning_rate': 0.00012441791417960822, 'epoch': 2.31}\n",
      "{'loss': 0.6361, 'grad_norm': 4.108634948730469, 'learning_rate': 6.98072864508354e-05, 'epoch': 2.49}\n",
      "{'loss': 0.6599, 'grad_norm': 4.4647016525268555, 'learning_rate': 3.006883462019922e-05, 'epoch': 2.67}\n",
      "{'loss': 0.6499, 'grad_norm': 1.1900697946548462, 'learning_rate': 6.576355190827588e-06, 'epoch': 2.84}\n"
     ]
    },
    {
     "data": {
      "application/vnd.jupyter.widget-view+json": {
       "model_id": "d6a99e5e4f04410490714e7e3802cee8",
       "version_major": 2,
       "version_minor": 0
      },
      "text/plain": [
       "  0%|          | 0/313 [00:00<?, ?it/s]"
      ]
     },
     "metadata": {},
     "output_type": "display_data"
    },
    {
     "name": "stdout",
     "output_type": "stream",
     "text": [
      "{'eval_loss': 0.6363691091537476, 'eval_accuracy': 0.6224, 'eval_runtime': 1.9294, 'eval_samples_per_second': 1295.728, 'eval_steps_per_second': 162.225, 'epoch': 3.0}\n",
      "{'train_runtime': 126.9305, 'train_samples_per_second': 531.787, 'train_steps_per_second': 66.485, 'train_loss': 0.628055985214897, 'epoch': 3.0}\n"
     ]
    },
    {
     "data": {
      "application/vnd.jupyter.widget-view+json": {
       "model_id": "2781f197986648a18cec46c2e5c27fc8",
       "version_major": 2,
       "version_minor": 0
      },
      "text/plain": [
       "  0%|          | 0/313 [00:00<?, ?it/s]"
      ]
     },
     "metadata": {},
     "output_type": "display_data"
    },
    {
     "name": "stdout",
     "output_type": "stream",
     "text": [
      "Baseline Evaluation Metrics: {'eval_loss': 0.6363691091537476, 'eval_accuracy': 0.6224, 'eval_runtime': 2.0197, 'eval_samples_per_second': 1237.785, 'eval_steps_per_second': 154.971, 'epoch': 3.0}\n"
     ]
    }
   ],
   "source": [
    "trainer_base.train()\n",
    "\n",
    "\n",
    "base_metrics = trainer_base.evaluate()\n",
    "print(\"Baseline Evaluation Metrics:\", base_metrics)"
   ]
  },
  {
   "cell_type": "code",
   "execution_count": 12,
   "metadata": {},
   "outputs": [
    {
     "name": "stderr",
     "output_type": "stream",
     "text": [
      "Some weights of BertForSequenceClassification were not initialized from the model checkpoint at prajjwal1/bert-tiny and are newly initialized: ['classifier.bias', 'classifier.weight']\n",
      "You should probably TRAIN this model on a down-stream task to be able to use it for predictions and inference.\n"
     ]
    },
    {
     "name": "stdout",
     "output_type": "stream",
     "text": [
      "\n",
      " The total trainable parameters before: 4386178\n",
      " after: 3330\n"
     ]
    }
   ],
   "source": [
    "model_bo = BertForSequenceClassification.from_pretrained(pre_t_model, num_labels=2).to(device)\n",
    "\n",
    "\n",
    "print(\"\\n The total trainable parameters before:\", sum([v.numel() for _,v in model_bo.named_parameters() if v.requires_grad]))\n",
    "\n",
    "for k, v in model_bo.named_parameters():\n",
    "    v.requires_grad = ((\"classifier\" in k) or (\"bias\" in k))\n",
    "\n",
    "print(\" after:\", sum([v.numel() for _,v in model_bo.named_parameters() if v.requires_grad]))\n",
    "\n",
    "\n",
    "optimizer = AdamW(filter(lambda p: p.requires_grad, model_bo.parameters()), lr=my_lr)\n",
    "\n",
    "num_training_steps = len(train_dataset_hf) // training_args.per_device_train_batch_size * training_args.num_train_epochs\n",
    "scheduler = CosineAnnealingLR(optimizer, T_max=num_training_steps)\n",
    "\n",
    "bias_trainer = Trainer(\n",
    "    model=model_bo,\n",
    "    args=training_args,\n",
    "    train_dataset=train_dataset_hf,\n",
    "    eval_dataset=validation_dataset_hf,\n",
    "    compute_metrics=compute_metrics,\n",
    "    optimizers=(optimizer, scheduler)\n",
    ")"
   ]
  },
  {
   "cell_type": "code",
   "execution_count": 13,
   "metadata": {},
   "outputs": [
    {
     "data": {
      "application/vnd.jupyter.widget-view+json": {
       "model_id": "5257bdf269eb4edf957fc186688b0c33",
       "version_major": 2,
       "version_minor": 0
      },
      "text/plain": [
       "  0%|          | 0/8439 [00:00<?, ?it/s]"
      ]
     },
     "metadata": {},
     "output_type": "display_data"
    },
    {
     "name": "stdout",
     "output_type": "stream",
     "text": [
      "{'loss': 0.6445, 'grad_norm': 1.7688113451004028, 'learning_rate': 0.0009913572595317598, 'epoch': 0.18}\n",
      "{'loss': 0.5996, 'grad_norm': 2.289224863052368, 'learning_rate': 0.0009657278259782398, 'epoch': 0.36}\n",
      "{'loss': 0.5717, 'grad_norm': 1.9591431617736816, 'learning_rate': 0.0009239977335096455, 'epoch': 0.53}\n",
      "{'loss': 0.5653, 'grad_norm': 1.0617870092391968, 'learning_rate': 0.0008676096315616631, 'epoch': 0.71}\n",
      "{'loss': 0.5559, 'grad_norm': 1.5690187215805054, 'learning_rate': 0.0007985129110568284, 'epoch': 0.89}\n"
     ]
    },
    {
     "data": {
      "application/vnd.jupyter.widget-view+json": {
       "model_id": "708800129ac24e248d64350575611097",
       "version_major": 2,
       "version_minor": 0
      },
      "text/plain": [
       "  0%|          | 0/313 [00:00<?, ?it/s]"
      ]
     },
     "metadata": {},
     "output_type": "display_data"
    },
    {
     "name": "stdout",
     "output_type": "stream",
     "text": [
      "{'eval_loss': 0.5413217544555664, 'eval_accuracy': 0.7248, 'eval_runtime': 1.9397, 'eval_samples_per_second': 1288.886, 'eval_steps_per_second': 161.369, 'epoch': 1.0}\n",
      "{'loss': 0.5431, 'grad_norm': 1.9532030820846558, 'learning_rate': 0.0007190963120852617, 'epoch': 1.07}\n",
      "{'loss': 0.5252, 'grad_norm': 2.4829888343811035, 'learning_rate': 0.0006321053428620858, 'epoch': 1.24}\n",
      "{'loss': 0.5116, 'grad_norm': 1.3111385107040405, 'learning_rate': 0.0005405473648676087, 'epoch': 1.42}\n",
      "{'loss': 0.5089, 'grad_norm': 0.8862146735191345, 'learning_rate': 0.000447587625468245, 'epoch': 1.6}\n",
      "{'loss': 0.5031, 'grad_norm': 2.504058599472046, 'learning_rate': 0.00035643983227049005, 'epoch': 1.78}\n",
      "{'loss': 0.5045, 'grad_norm': 2.343111276626587, 'learning_rate': 0.00027025505215778884, 'epoch': 1.96}\n"
     ]
    },
    {
     "data": {
      "application/vnd.jupyter.widget-view+json": {
       "model_id": "f36d2f9ade694ea2bca07f164b1e6dbf",
       "version_major": 2,
       "version_minor": 0
      },
      "text/plain": [
       "  0%|          | 0/313 [00:00<?, ?it/s]"
      ]
     },
     "metadata": {},
     "output_type": "display_data"
    },
    {
     "name": "stdout",
     "output_type": "stream",
     "text": [
      "{'eval_loss': 0.47035160660743713, 'eval_accuracy': 0.78, 'eval_runtime': 1.8754, 'eval_samples_per_second': 1333.015, 'eval_steps_per_second': 166.894, 'epoch': 2.0}\n",
      "{'loss': 0.4906, 'grad_norm': 1.1119333505630493, 'learning_rate': 0.00019201277587744715, 'epoch': 2.13}\n",
      "{'loss': 0.488, 'grad_norm': 1.352243423461914, 'learning_rate': 0.00012441791417960822, 'epoch': 2.31}\n",
      "{'loss': 0.4909, 'grad_norm': 1.6634961366653442, 'learning_rate': 6.98072864508354e-05, 'epoch': 2.49}\n",
      "{'loss': 0.4861, 'grad_norm': 2.299226999282837, 'learning_rate': 3.006883462019922e-05, 'epoch': 2.67}\n",
      "{'loss': 0.4831, 'grad_norm': 1.7252436876296997, 'learning_rate': 6.576355190827588e-06, 'epoch': 2.84}\n"
     ]
    },
    {
     "data": {
      "application/vnd.jupyter.widget-view+json": {
       "model_id": "7cb2709a3aad410fb7864b6883069e8c",
       "version_major": 2,
       "version_minor": 0
      },
      "text/plain": [
       "  0%|          | 0/313 [00:00<?, ?it/s]"
      ]
     },
     "metadata": {},
     "output_type": "display_data"
    },
    {
     "name": "stdout",
     "output_type": "stream",
     "text": [
      "{'eval_loss': 0.46440595388412476, 'eval_accuracy': 0.7876, 'eval_runtime': 1.9311, 'eval_samples_per_second': 1294.581, 'eval_steps_per_second': 162.082, 'epoch': 3.0}\n",
      "{'train_runtime': 106.3299, 'train_samples_per_second': 634.817, 'train_steps_per_second': 79.366, 'train_loss': 0.5270893880295123, 'epoch': 3.0}\n"
     ]
    },
    {
     "data": {
      "application/vnd.jupyter.widget-view+json": {
       "model_id": "26355608e489495a994a286fff6347d4",
       "version_major": 2,
       "version_minor": 0
      },
      "text/plain": [
       "  0%|          | 0/313 [00:00<?, ?it/s]"
      ]
     },
     "metadata": {},
     "output_type": "display_data"
    },
    {
     "name": "stdout",
     "output_type": "stream",
     "text": [
      "Bias-only Evaluation Metrics: {'eval_loss': 0.46440595388412476, 'eval_accuracy': 0.7876, 'eval_runtime': 1.9372, 'eval_samples_per_second': 1290.541, 'eval_steps_per_second': 161.576, 'epoch': 3.0}\n"
     ]
    }
   ],
   "source": [
    "bias_trainer.train()\n",
    "\n",
    "bias_o_metrics = bias_trainer.evaluate()\n",
    "print(\"Bias-only Evaluation Metrics:\", bias_o_metrics)"
   ]
  },
  {
   "cell_type": "markdown",
   "metadata": {},
   "source": [
    "---\n",
    "# AG N\n",
    "\n",
    "---"
   ]
  },
  {
   "cell_type": "code",
   "execution_count": 14,
   "metadata": {},
   "outputs": [],
   "source": [
    "\n",
    "dataset = load_dataset('ag_news')\n",
    "\n",
    "tokenized_datasets = dataset['train'].map(tokenize_function, batched=True)\n",
    "\n",
    "train_data = tokenized_datasets.to_dict()\n",
    "\n",
    "\n",
    "#with open('C:/Users/ege/git/NLP/datasets/agn.pkl', 'wb') as file:\n",
    "#    pickle.dump(train_data, file)\n"
   ]
  },
  {
   "cell_type": "code",
   "execution_count": 15,
   "metadata": {},
   "outputs": [
    {
     "name": "stdout",
     "output_type": "stream",
     "text": [
      "Train: 108000\n",
      "Val: 12000\n"
     ]
    }
   ],
   "source": [
    "#with open('C:/Users/ege/git/NLP/datasets/agn.pkl', 'rb') as file:\n",
    "#    train_data = pickle.load(file)\n",
    "\n",
    "train_dataset, validation_dataset = train_test_split(\n",
    "    list(zip(train_data['input_ids'], train_data['attention_mask'], train_data['label'])), \n",
    "    test_size=0.1\n",
    ")\n",
    "\n",
    "train_dataset = [{'input_ids': x[0], 'attention_mask': x[1], 'label': x[2]} for x in train_dataset]\n",
    "validation_dataset = [{'input_ids': x[0], 'attention_mask': x[1], 'label': x[2]} for x in validation_dataset]\n",
    "\n",
    "print(\"Train:\", len(train_dataset))\n",
    "print(\"Val:\", len(validation_dataset))\n",
    "#print(\"Test:\", len(dataset['test']))\n",
    "\n",
    "\n",
    "train_dataset_hf = Dataset.from_dict({'input_ids': [x['input_ids'] for x in train_dataset],\n",
    "                                      'attention_mask': [x['attention_mask'] for x in train_dataset],\n",
    "                                      'labels': [x['label'] for x in train_dataset]})\n",
    "\n",
    "validation_dataset_hf = Dataset.from_dict({'input_ids': [x['input_ids'] for x in validation_dataset],\n",
    "                                           'attention_mask': [x['attention_mask'] for x in validation_dataset],\n",
    "                                           'labels': [x['label'] for x in validation_dataset]})\n"
   ]
  },
  {
   "cell_type": "code",
   "execution_count": 16,
   "metadata": {},
   "outputs": [
    {
     "name": "stderr",
     "output_type": "stream",
     "text": [
      "Some weights of BertForSequenceClassification were not initialized from the model checkpoint at prajjwal1/bert-tiny and are newly initialized: ['classifier.bias', 'classifier.weight']\n",
      "You should probably TRAIN this model on a down-stream task to be able to use it for predictions and inference.\n"
     ]
    }
   ],
   "source": [
    "model_base = BertForSequenceClassification.from_pretrained(pre_t_model, num_labels=4).to(device)\n",
    "\n",
    "optimizer = AdamW(filter(lambda p: p.requires_grad, model_base.parameters()), lr=my_lr)\n",
    "\n",
    "num_training_steps = len(train_dataset_hf) // training_args.per_device_train_batch_size * training_args.num_train_epochs\n",
    "scheduler = CosineAnnealingLR(optimizer, T_max=num_training_steps)\n",
    "\n",
    "trainer_base = Trainer(\n",
    "    model=model_base,\n",
    "    args=training_args,\n",
    "    train_dataset=train_dataset_hf,\n",
    "    eval_dataset=validation_dataset_hf,\n",
    "    compute_metrics=compute_metrics,\n",
    "    optimizers=(optimizer, scheduler)\n",
    ")"
   ]
  },
  {
   "cell_type": "code",
   "execution_count": 17,
   "metadata": {},
   "outputs": [
    {
     "data": {
      "application/vnd.jupyter.widget-view+json": {
       "model_id": "5dc2586d218f42f09ccd3a305beeecbd",
       "version_major": 2,
       "version_minor": 0
      },
      "text/plain": [
       "  0%|          | 0/40500 [00:00<?, ?it/s]"
      ]
     },
     "metadata": {},
     "output_type": "display_data"
    },
    {
     "name": "stdout",
     "output_type": "stream",
     "text": [
      "{'loss': 0.623, 'grad_norm': 6.52887487411499, 'learning_rate': 0.0009996239762521157, 'epoch': 0.04}\n",
      "{'loss': 0.602, 'grad_norm': 18.90766143798828, 'learning_rate': 0.000998496470583894, 'epoch': 0.07}\n",
      "{'loss': 0.5608, 'grad_norm': 26.298551559448242, 'learning_rate': 0.0009966191788709695, 'epoch': 0.11}\n",
      "{'loss': 0.5327, 'grad_norm': 3.426032304763794, 'learning_rate': 0.0009939949247383998, 'epoch': 0.15}\n",
      "{'loss': 0.5353, 'grad_norm': 4.635737419128418, 'learning_rate': 0.0009906276553136876, 'epoch': 0.19}\n",
      "{'loss': 0.459, 'grad_norm': 4.3768110275268555, 'learning_rate': 0.0009865224352899075, 'epoch': 0.22}\n",
      "{'loss': 0.4585, 'grad_norm': 9.536322593688965, 'learning_rate': 0.0009816854393079391, 'epoch': 0.26}\n",
      "{'loss': 0.4379, 'grad_norm': 2.895192861557007, 'learning_rate': 0.0009761239426692084, 'epoch': 0.3}\n",
      "{'loss': 0.4027, 'grad_norm': 0.3314124047756195, 'learning_rate': 0.0009698463103929548, 'epoch': 0.33}\n",
      "{'loss': 0.3984, 'grad_norm': 0.36109113693237305, 'learning_rate': 0.0009628619846344476, 'epoch': 0.37}\n",
      "{'loss': 0.3794, 'grad_norm': 0.1718381643295288, 'learning_rate': 0.0009551814704830754, 'epoch': 0.41}\n",
      "{'loss': 0.4087, 'grad_norm': 2.307323455810547, 'learning_rate': 0.0009468163201617087, 'epoch': 0.44}\n",
      "{'loss': 0.4005, 'grad_norm': 1.1961040496826172, 'learning_rate': 0.0009377791156510471, 'epoch': 0.48}\n",
      "{'loss': 0.3699, 'grad_norm': 0.27323493361473083, 'learning_rate': 0.000928083449765135, 'epoch': 0.52}\n",
      "{'loss': 0.3891, 'grad_norm': 1.0845634937286377, 'learning_rate': 0.0009177439057064708, 'epoch': 0.56}\n",
      "{'loss': 0.3629, 'grad_norm': 1.95618736743927, 'learning_rate': 0.0009067760351314844, 'epoch': 0.59}\n",
      "{'loss': 0.3598, 'grad_norm': 5.629650592803955, 'learning_rate': 0.0008951963347593791, 'epoch': 0.63}\n",
      "{'loss': 0.3536, 'grad_norm': 4.355015754699707, 'learning_rate': 0.0008830222215594889, 'epoch': 0.67}\n",
      "{'loss': 0.3294, 'grad_norm': 9.156064987182617, 'learning_rate': 0.0008702720065545024, 'epoch': 0.7}\n",
      "{'loss': 0.3381, 'grad_norm': 0.6101571917533875, 'learning_rate': 0.0008569648672789499, 'epoch': 0.74}\n",
      "{'loss': 0.3356, 'grad_norm': 0.16513271629810333, 'learning_rate': 0.0008431208189343684, 'epoch': 0.78}\n",
      "{'loss': 0.3272, 'grad_norm': 3.3602516651153564, 'learning_rate': 0.0008287606842845334, 'epoch': 0.81}\n",
      "{'loss': 0.3418, 'grad_norm': 1.8076471090316772, 'learning_rate': 0.0008139060623360508, 'epoch': 0.85}\n",
      "{'loss': 0.3238, 'grad_norm': 0.136046901345253, 'learning_rate': 0.0007985792958513946, 'epoch': 0.89}\n",
      "{'loss': 0.3309, 'grad_norm': 0.30294930934906006, 'learning_rate': 0.0007828034377432703, 'epoch': 0.93}\n",
      "{'loss': 0.3242, 'grad_norm': 11.677196502685547, 'learning_rate': 0.000766602216400846, 'epoch': 0.96}\n",
      "{'loss': 0.3214, 'grad_norm': 0.30162402987480164, 'learning_rate': 0.0007499999999999994, 'epoch': 1.0}\n"
     ]
    },
    {
     "data": {
      "application/vnd.jupyter.widget-view+json": {
       "model_id": "c3131c4663254bb28b7f303b9c8d3cb7",
       "version_major": 2,
       "version_minor": 0
      },
      "text/plain": [
       "  0%|          | 0/1500 [00:00<?, ?it/s]"
      ]
     },
     "metadata": {},
     "output_type": "display_data"
    },
    {
     "name": "stdout",
     "output_type": "stream",
     "text": [
      "{'eval_loss': 0.33774396777153015, 'eval_accuracy': 0.9085833333333333, 'eval_runtime': 9.2516, 'eval_samples_per_second': 1297.068, 'eval_steps_per_second': 162.134, 'epoch': 1.0}\n",
      "{'loss': 0.2448, 'grad_norm': 3.579455614089966, 'learning_rate': 0.0007330217598512688, 'epoch': 1.04}\n",
      "{'loss': 0.2432, 'grad_norm': 5.710777282714844, 'learning_rate': 0.000715693032840626, 'epoch': 1.07}\n",
      "{'loss': 0.2528, 'grad_norm': 0.19930502772331238, 'learning_rate': 0.0006980398830195779, 'epoch': 1.11}\n",
      "{'loss': 0.2521, 'grad_norm': 0.14150141179561615, 'learning_rate': 0.0006800888624023555, 'epoch': 1.15}\n",
      "{'loss': 0.2512, 'grad_norm': 3.360746145248413, 'learning_rate': 0.0006618669710291599, 'epoch': 1.19}\n",
      "{'loss': 0.2686, 'grad_norm': 0.9398163557052612, 'learning_rate': 0.0006434016163555446, 'epoch': 1.22}\n",
      "{'loss': 0.2524, 'grad_norm': 3.7759838104248047, 'learning_rate': 0.0006247205720289912, 'epoch': 1.26}\n",
      "{'loss': 0.2325, 'grad_norm': 0.1811368614435196, 'learning_rate': 0.0006058519361147064, 'epoch': 1.3}\n",
      "{'loss': 0.2552, 'grad_norm': 0.6380818486213684, 'learning_rate': 0.0005868240888334661, 'epoch': 1.33}\n",
      "{'loss': 0.2307, 'grad_norm': 0.07051216810941696, 'learning_rate': 0.0005676656498750665, 'epoch': 1.37}\n",
      "{'loss': 0.2411, 'grad_norm': 2.5439674854278564, 'learning_rate': 0.0005484054353515907, 'epoch': 1.41}\n",
      "{'loss': 0.2401, 'grad_norm': 0.5426948666572571, 'learning_rate': 0.0005290724144552397, 'epoch': 1.44}\n",
      "{'loss': 0.2316, 'grad_norm': 6.836849212646484, 'learning_rate': 0.0005096956658859137, 'epoch': 1.48}\n",
      "{'loss': 0.241, 'grad_norm': 7.27222204208374, 'learning_rate': 0.0004903043341140899, 'epoch': 1.52}\n",
      "{'loss': 0.2393, 'grad_norm': 2.2973339557647705, 'learning_rate': 0.0004709275855447649, 'epoch': 1.56}\n",
      "{'loss': 0.2386, 'grad_norm': 3.155890464782715, 'learning_rate': 0.00045159456464841265, 'epoch': 1.59}\n",
      "{'loss': 0.2333, 'grad_norm': 2.1607813835144043, 'learning_rate': 0.00043233435012493635, 'epoch': 1.63}\n",
      "{'loss': 0.2465, 'grad_norm': 8.888496398925781, 'learning_rate': 0.0004131759111665358, 'epoch': 1.67}\n",
      "{'loss': 0.2259, 'grad_norm': 1.2567435503005981, 'learning_rate': 0.000394148063885295, 'epoch': 1.7}\n",
      "{'loss': 0.2469, 'grad_norm': 0.30486977100372314, 'learning_rate': 0.00037527942797100977, 'epoch': 1.74}\n",
      "{'loss': 0.236, 'grad_norm': 2.2751333713531494, 'learning_rate': 0.00035659838364445465, 'epoch': 1.78}\n",
      "{'loss': 0.2177, 'grad_norm': 0.3058333396911621, 'learning_rate': 0.0003381330289708393, 'epoch': 1.81}\n",
      "{'loss': 0.2123, 'grad_norm': 0.11979243904352188, 'learning_rate': 0.0003199111375976446, 'epoch': 1.85}\n",
      "{'loss': 0.2254, 'grad_norm': 7.489673137664795, 'learning_rate': 0.0003019601169804212, 'epoch': 1.89}\n",
      "{'loss': 0.2385, 'grad_norm': 8.737870216369629, 'learning_rate': 0.00028430696715937305, 'epoch': 1.93}\n",
      "{'loss': 0.2173, 'grad_norm': 0.09194662421941757, 'learning_rate': 0.0002669782401487307, 'epoch': 1.96}\n",
      "{'loss': 0.2186, 'grad_norm': 0.6852020025253296, 'learning_rate': 0.00024999999999999984, 'epoch': 2.0}\n"
     ]
    },
    {
     "data": {
      "application/vnd.jupyter.widget-view+json": {
       "model_id": "a539ea811fc34c3abc7ba665945a51df",
       "version_major": 2,
       "version_minor": 0
      },
      "text/plain": [
       "  0%|          | 0/1500 [00:00<?, ?it/s]"
      ]
     },
     "metadata": {},
     "output_type": "display_data"
    },
    {
     "name": "stdout",
     "output_type": "stream",
     "text": [
      "{'eval_loss': 0.2597005069255829, 'eval_accuracy': 0.9251666666666667, 'eval_runtime': 8.9632, 'eval_samples_per_second': 1338.804, 'eval_steps_per_second': 167.35, 'epoch': 2.0}\n",
      "{'loss': 0.1714, 'grad_norm': 1.8038910627365112, 'learning_rate': 0.00023339778359915425, 'epoch': 2.04}\n",
      "{'loss': 0.1523, 'grad_norm': 0.5998036861419678, 'learning_rate': 0.00021719656225673072, 'epoch': 2.07}\n",
      "{'loss': 0.1503, 'grad_norm': 0.06428992003202438, 'learning_rate': 0.0002014207041486068, 'epoch': 2.11}\n",
      "{'loss': 0.1503, 'grad_norm': 2.199031352996826, 'learning_rate': 0.00018609393766395055, 'epoch': 2.15}\n",
      "{'loss': 0.1462, 'grad_norm': 3.2295351028442383, 'learning_rate': 0.0001712393157154678, 'epoch': 2.19}\n",
      "{'loss': 0.1461, 'grad_norm': 3.1945831775665283, 'learning_rate': 0.00015687918106563315, 'epoch': 2.22}\n",
      "{'loss': 0.1544, 'grad_norm': 0.20841926336288452, 'learning_rate': 0.0001430351327210503, 'epoch': 2.26}\n",
      "{'loss': 0.1407, 'grad_norm': 3.0840165615081787, 'learning_rate': 0.00012972799344549717, 'epoch': 2.3}\n",
      "{'loss': 0.1488, 'grad_norm': 0.05038588121533394, 'learning_rate': 0.00011697777844051061, 'epoch': 2.33}\n",
      "{'loss': 0.1388, 'grad_norm': 0.029389461502432823, 'learning_rate': 0.00010480366524062003, 'epoch': 2.37}\n",
      "{'loss': 0.1351, 'grad_norm': 0.05588546767830849, 'learning_rate': 9.322396486851577e-05, 'epoch': 2.41}\n",
      "{'loss': 0.1473, 'grad_norm': 5.415757179260254, 'learning_rate': 8.225609429353139e-05, 'epoch': 2.44}\n",
      "{'loss': 0.1456, 'grad_norm': 2.94403076171875, 'learning_rate': 7.191655023486643e-05, 'epoch': 2.48}\n",
      "{'loss': 0.1499, 'grad_norm': 0.21665458381175995, 'learning_rate': 6.222088434895412e-05, 'epoch': 2.52}\n",
      "{'loss': 0.158, 'grad_norm': 2.824192762374878, 'learning_rate': 5.318367983829352e-05, 'epoch': 2.56}\n",
      "{'loss': 0.1626, 'grad_norm': 0.3399733901023865, 'learning_rate': 4.4818529516926295e-05, 'epoch': 2.59}\n",
      "{'loss': 0.1647, 'grad_norm': 0.13368402421474457, 'learning_rate': 3.713801536555445e-05, 'epoch': 2.63}\n",
      "{'loss': 0.162, 'grad_norm': 5.356428623199463, 'learning_rate': 3.0153689607045524e-05, 'epoch': 2.67}\n",
      "{'loss': 0.133, 'grad_norm': 0.2581133544445038, 'learning_rate': 2.3876057330792067e-05, 'epoch': 2.7}\n",
      "{'loss': 0.1237, 'grad_norm': 2.131730556488037, 'learning_rate': 1.8314560692059606e-05, 'epoch': 2.74}\n",
      "{'loss': 0.157, 'grad_norm': 0.03557963669300079, 'learning_rate': 1.3477564710087887e-05, 'epoch': 2.78}\n",
      "{'loss': 0.145, 'grad_norm': 0.08967781811952591, 'learning_rate': 9.372344686307509e-06, 'epoch': 2.81}\n",
      "{'loss': 0.1298, 'grad_norm': 0.20764458179473877, 'learning_rate': 6.005075261595404e-06, 'epoch': 2.85}\n",
      "{'loss': 0.1313, 'grad_norm': 2.111287832260132, 'learning_rate': 3.3808211290284453e-06, 'epoch': 2.89}\n",
      "{'loss': 0.1696, 'grad_norm': 0.3680252432823181, 'learning_rate': 1.5035294161039676e-06, 'epoch': 2.93}\n",
      "{'loss': 0.1342, 'grad_norm': 0.14359354972839355, 'learning_rate': 3.760237478849745e-07, 'epoch': 2.96}\n",
      "{'loss': 0.1572, 'grad_norm': 0.07685723155736923, 'learning_rate': 0.0, 'epoch': 3.0}\n"
     ]
    },
    {
     "data": {
      "application/vnd.jupyter.widget-view+json": {
       "model_id": "d70c215118fa4e9eb487c5bdf8fdf6d8",
       "version_major": 2,
       "version_minor": 0
      },
      "text/plain": [
       "  0%|          | 0/1500 [00:00<?, ?it/s]"
      ]
     },
     "metadata": {},
     "output_type": "display_data"
    },
    {
     "name": "stdout",
     "output_type": "stream",
     "text": [
      "{'eval_loss': 0.29290860891342163, 'eval_accuracy': 0.9286666666666666, 'eval_runtime': 8.8333, 'eval_samples_per_second': 1358.489, 'eval_steps_per_second': 169.811, 'epoch': 3.0}\n",
      "{'train_runtime': 592.7552, 'train_samples_per_second': 546.6, 'train_steps_per_second': 68.325, 'train_loss': 0.2647604305126049, 'epoch': 3.0}\n"
     ]
    },
    {
     "data": {
      "application/vnd.jupyter.widget-view+json": {
       "model_id": "60f3d1870e8547699d54a54d7ad168b9",
       "version_major": 2,
       "version_minor": 0
      },
      "text/plain": [
       "  0%|          | 0/1500 [00:00<?, ?it/s]"
      ]
     },
     "metadata": {},
     "output_type": "display_data"
    },
    {
     "name": "stdout",
     "output_type": "stream",
     "text": [
      "Baseline Evaluation Metrics: {'eval_loss': 0.29290860891342163, 'eval_accuracy': 0.9286666666666666, 'eval_runtime': 9.2696, 'eval_samples_per_second': 1294.553, 'eval_steps_per_second': 161.819, 'epoch': 3.0}\n"
     ]
    }
   ],
   "source": [
    "trainer_base.train()\n",
    "\n",
    "\n",
    "base_metrics = trainer_base.evaluate()\n",
    "print(\"Baseline Evaluation Metrics:\", base_metrics)\n"
   ]
  },
  {
   "cell_type": "code",
   "execution_count": 18,
   "metadata": {},
   "outputs": [
    {
     "name": "stderr",
     "output_type": "stream",
     "text": [
      "Some weights of BertForSequenceClassification were not initialized from the model checkpoint at prajjwal1/bert-tiny and are newly initialized: ['classifier.bias', 'classifier.weight']\n",
      "You should probably TRAIN this model on a down-stream task to be able to use it for predictions and inference.\n"
     ]
    }
   ],
   "source": [
    "model_bo = BertForSequenceClassification.from_pretrained(pre_t_model, num_labels=4).to(device)\n",
    "\n",
    "for k, v in model_bo.named_parameters():\n",
    "    v.requires_grad = ((\"classifier\" in k) or (\"bias\" in k))\n",
    "\n",
    "\n",
    "optimizer = AdamW(filter(lambda p: p.requires_grad, model_bo.parameters()), lr=my_lr)\n",
    "\n",
    "num_training_steps = len(train_dataset_hf) // training_args.per_device_train_batch_size * training_args.num_train_epochs\n",
    "scheduler = CosineAnnealingLR(optimizer, T_max=num_training_steps)\n",
    "\n",
    "bias_trainer = Trainer(\n",
    "    model=model_bo,\n",
    "    args=training_args,\n",
    "    train_dataset=train_dataset_hf,\n",
    "    eval_dataset=validation_dataset_hf,\n",
    "    compute_metrics=compute_metrics,\n",
    "    optimizers=(optimizer, scheduler)\n",
    ")"
   ]
  },
  {
   "cell_type": "code",
   "execution_count": 19,
   "metadata": {},
   "outputs": [
    {
     "data": {
      "application/vnd.jupyter.widget-view+json": {
       "model_id": "0de1eabbb0b24f8dbac30840ccfd04da",
       "version_major": 2,
       "version_minor": 0
      },
      "text/plain": [
       "  0%|          | 0/40500 [00:00<?, ?it/s]"
      ]
     },
     "metadata": {},
     "output_type": "display_data"
    },
    {
     "name": "stdout",
     "output_type": "stream",
     "text": [
      "{'loss': 0.7799, 'grad_norm': 1.6287389993667603, 'learning_rate': 0.0009996239762521157, 'epoch': 0.04}\n",
      "{'loss': 0.5315, 'grad_norm': 1.3879408836364746, 'learning_rate': 0.000998496470583894, 'epoch': 0.07}\n",
      "{'loss': 0.4902, 'grad_norm': 2.950274705886841, 'learning_rate': 0.0009966191788709695, 'epoch': 0.11}\n",
      "{'loss': 0.4596, 'grad_norm': 2.4422459602355957, 'learning_rate': 0.0009939949247383998, 'epoch': 0.15}\n",
      "{'loss': 0.4847, 'grad_norm': 2.190997362136841, 'learning_rate': 0.0009906276553136876, 'epoch': 0.19}\n",
      "{'loss': 0.4569, 'grad_norm': 2.0108556747436523, 'learning_rate': 0.0009865224352899075, 'epoch': 0.22}\n",
      "{'loss': 0.4472, 'grad_norm': 2.3280515670776367, 'learning_rate': 0.0009816854393079391, 'epoch': 0.26}\n",
      "{'loss': 0.4306, 'grad_norm': 1.058864712715149, 'learning_rate': 0.0009761239426692084, 'epoch': 0.3}\n",
      "{'loss': 0.423, 'grad_norm': 0.17063932120800018, 'learning_rate': 0.0009698463103929548, 'epoch': 0.33}\n",
      "{'loss': 0.4322, 'grad_norm': 1.2033809423446655, 'learning_rate': 0.0009628619846344476, 'epoch': 0.37}\n",
      "{'loss': 0.4103, 'grad_norm': 2.1293234825134277, 'learning_rate': 0.0009551814704830754, 'epoch': 0.41}\n",
      "{'loss': 0.4184, 'grad_norm': 1.8060643672943115, 'learning_rate': 0.0009468163201617087, 'epoch': 0.44}\n",
      "{'loss': 0.4478, 'grad_norm': 1.5600221157073975, 'learning_rate': 0.0009377791156510471, 'epoch': 0.48}\n",
      "{'loss': 0.4419, 'grad_norm': 0.59339439868927, 'learning_rate': 0.000928083449765135, 'epoch': 0.52}\n",
      "{'loss': 0.4436, 'grad_norm': 1.472186803817749, 'learning_rate': 0.0009177439057064708, 'epoch': 0.56}\n",
      "{'loss': 0.4299, 'grad_norm': 1.9969518184661865, 'learning_rate': 0.0009067760351314844, 'epoch': 0.59}\n",
      "{'loss': 0.4179, 'grad_norm': 3.0436744689941406, 'learning_rate': 0.0008951963347593791, 'epoch': 0.63}\n",
      "{'loss': 0.4496, 'grad_norm': 2.7225470542907715, 'learning_rate': 0.0008830222215594889, 'epoch': 0.67}\n",
      "{'loss': 0.3987, 'grad_norm': 0.2984064221382141, 'learning_rate': 0.0008702720065545024, 'epoch': 0.7}\n",
      "{'loss': 0.4208, 'grad_norm': 1.572532296180725, 'learning_rate': 0.0008569648672789499, 'epoch': 0.74}\n",
      "{'loss': 0.4208, 'grad_norm': 0.9321967363357544, 'learning_rate': 0.0008431208189343684, 'epoch': 0.78}\n",
      "{'loss': 0.4162, 'grad_norm': 2.336259603500366, 'learning_rate': 0.0008287606842845334, 'epoch': 0.81}\n",
      "{'loss': 0.4361, 'grad_norm': 1.9361275434494019, 'learning_rate': 0.0008139060623360508, 'epoch': 0.85}\n",
      "{'loss': 0.4073, 'grad_norm': 0.3361692726612091, 'learning_rate': 0.0007985792958513946, 'epoch': 0.89}\n",
      "{'loss': 0.3994, 'grad_norm': 1.9132155179977417, 'learning_rate': 0.0007828034377432703, 'epoch': 0.93}\n",
      "{'loss': 0.4244, 'grad_norm': 1.8834898471832275, 'learning_rate': 0.000766602216400846, 'epoch': 0.96}\n",
      "{'loss': 0.3903, 'grad_norm': 1.4158610105514526, 'learning_rate': 0.0007499999999999994, 'epoch': 1.0}\n"
     ]
    },
    {
     "data": {
      "application/vnd.jupyter.widget-view+json": {
       "model_id": "08e88c40fa5644b78c8f45acfe9dc733",
       "version_major": 2,
       "version_minor": 0
      },
      "text/plain": [
       "  0%|          | 0/1500 [00:00<?, ?it/s]"
      ]
     },
     "metadata": {},
     "output_type": "display_data"
    },
    {
     "name": "stdout",
     "output_type": "stream",
     "text": [
      "{'eval_loss': 0.37920036911964417, 'eval_accuracy': 0.871, 'eval_runtime': 8.8836, 'eval_samples_per_second': 1350.801, 'eval_steps_per_second': 168.85, 'epoch': 1.0}\n",
      "{'loss': 0.3925, 'grad_norm': 2.4410951137542725, 'learning_rate': 0.0007330217598512688, 'epoch': 1.04}\n",
      "{'loss': 0.4197, 'grad_norm': 2.512885093688965, 'learning_rate': 0.000715693032840626, 'epoch': 1.07}\n",
      "{'loss': 0.4143, 'grad_norm': 1.9350003004074097, 'learning_rate': 0.0006980398830195779, 'epoch': 1.11}\n",
      "{'loss': 0.403, 'grad_norm': 0.9242910742759705, 'learning_rate': 0.0006800888624023555, 'epoch': 1.15}\n",
      "{'loss': 0.3994, 'grad_norm': 2.113967180252075, 'learning_rate': 0.0006618669710291599, 'epoch': 1.19}\n",
      "{'loss': 0.4356, 'grad_norm': 1.4415346384048462, 'learning_rate': 0.0006434016163555446, 'epoch': 1.22}\n",
      "{'loss': 0.3956, 'grad_norm': 1.478810429573059, 'learning_rate': 0.0006247205720289912, 'epoch': 1.26}\n",
      "{'loss': 0.3998, 'grad_norm': 0.8033536672592163, 'learning_rate': 0.0006058519361147064, 'epoch': 1.3}\n",
      "{'loss': 0.4248, 'grad_norm': 0.8498076796531677, 'learning_rate': 0.0005868240888334661, 'epoch': 1.33}\n",
      "{'loss': 0.4152, 'grad_norm': 0.2948961555957794, 'learning_rate': 0.0005676656498750665, 'epoch': 1.37}\n",
      "{'loss': 0.3964, 'grad_norm': 2.3848178386688232, 'learning_rate': 0.0005484054353515907, 'epoch': 1.41}\n",
      "{'loss': 0.3878, 'grad_norm': 1.2585904598236084, 'learning_rate': 0.0005290724144552397, 'epoch': 1.44}\n",
      "{'loss': 0.3985, 'grad_norm': 2.48930287361145, 'learning_rate': 0.0005096956658859137, 'epoch': 1.48}\n",
      "{'loss': 0.4065, 'grad_norm': 1.530693769454956, 'learning_rate': 0.0004903043341140899, 'epoch': 1.52}\n",
      "{'loss': 0.4147, 'grad_norm': 1.5531929731369019, 'learning_rate': 0.0004709275855447649, 'epoch': 1.56}\n",
      "{'loss': 0.4025, 'grad_norm': 2.0730433464050293, 'learning_rate': 0.00045159456464841265, 'epoch': 1.59}\n",
      "{'loss': 0.4104, 'grad_norm': 1.4170663356781006, 'learning_rate': 0.00043233435012493635, 'epoch': 1.63}\n",
      "{'loss': 0.3972, 'grad_norm': 1.4450122117996216, 'learning_rate': 0.0004131759111665358, 'epoch': 1.67}\n",
      "{'loss': 0.3905, 'grad_norm': 0.7513391375541687, 'learning_rate': 0.000394148063885295, 'epoch': 1.7}\n",
      "{'loss': 0.4244, 'grad_norm': 1.2406020164489746, 'learning_rate': 0.00037527942797100977, 'epoch': 1.74}\n",
      "{'loss': 0.4119, 'grad_norm': 1.461507797241211, 'learning_rate': 0.00035659838364445465, 'epoch': 1.78}\n",
      "{'loss': 0.403, 'grad_norm': 1.803216814994812, 'learning_rate': 0.0003381330289708393, 'epoch': 1.81}\n",
      "{'loss': 0.3974, 'grad_norm': 0.7518826723098755, 'learning_rate': 0.0003199111375976446, 'epoch': 1.85}\n",
      "{'loss': 0.3995, 'grad_norm': 2.07798433303833, 'learning_rate': 0.0003019601169804212, 'epoch': 1.89}\n",
      "{'loss': 0.409, 'grad_norm': 1.9124009609222412, 'learning_rate': 0.00028430696715937305, 'epoch': 1.93}\n",
      "{'loss': 0.3999, 'grad_norm': 0.36627453565597534, 'learning_rate': 0.0002669782401487307, 'epoch': 1.96}\n",
      "{'loss': 0.3973, 'grad_norm': 1.299014925956726, 'learning_rate': 0.00024999999999999984, 'epoch': 2.0}\n"
     ]
    },
    {
     "data": {
      "application/vnd.jupyter.widget-view+json": {
       "model_id": "bb47ab3acc554bcfbc2a49474b72d8ee",
       "version_major": 2,
       "version_minor": 0
      },
      "text/plain": [
       "  0%|          | 0/1500 [00:00<?, ?it/s]"
      ]
     },
     "metadata": {},
     "output_type": "display_data"
    },
    {
     "name": "stdout",
     "output_type": "stream",
     "text": [
      "{'eval_loss': 0.3634941875934601, 'eval_accuracy': 0.8771666666666667, 'eval_runtime': 8.8475, 'eval_samples_per_second': 1356.322, 'eval_steps_per_second': 169.54, 'epoch': 2.0}\n",
      "{'loss': 0.4166, 'grad_norm': 1.6198127269744873, 'learning_rate': 0.00023339778359915425, 'epoch': 2.04}\n",
      "{'loss': 0.4061, 'grad_norm': 1.3523964881896973, 'learning_rate': 0.00021719656225673072, 'epoch': 2.07}\n",
      "{'loss': 0.3999, 'grad_norm': 1.3780587911605835, 'learning_rate': 0.0002014207041486068, 'epoch': 2.11}\n",
      "{'loss': 0.3951, 'grad_norm': 1.654579520225525, 'learning_rate': 0.00018609393766395055, 'epoch': 2.15}\n",
      "{'loss': 0.3908, 'grad_norm': 1.672650933265686, 'learning_rate': 0.0001712393157154678, 'epoch': 2.19}\n",
      "{'loss': 0.3669, 'grad_norm': 2.9738245010375977, 'learning_rate': 0.00015687918106563315, 'epoch': 2.22}\n",
      "{'loss': 0.4048, 'grad_norm': 0.7107691168785095, 'learning_rate': 0.0001430351327210503, 'epoch': 2.26}\n",
      "{'loss': 0.3902, 'grad_norm': 2.18562388420105, 'learning_rate': 0.00012972799344549717, 'epoch': 2.3}\n",
      "{'loss': 0.3906, 'grad_norm': 1.810121774673462, 'learning_rate': 0.00011697777844051061, 'epoch': 2.33}\n",
      "{'loss': 0.3999, 'grad_norm': 0.6010351181030273, 'learning_rate': 0.00010480366524062003, 'epoch': 2.37}\n",
      "{'loss': 0.3847, 'grad_norm': 0.304953396320343, 'learning_rate': 9.322396486851577e-05, 'epoch': 2.41}\n",
      "{'loss': 0.3835, 'grad_norm': 1.723217487335205, 'learning_rate': 8.225609429353139e-05, 'epoch': 2.44}\n",
      "{'loss': 0.3945, 'grad_norm': 2.0110816955566406, 'learning_rate': 7.191655023486643e-05, 'epoch': 2.48}\n",
      "{'loss': 0.422, 'grad_norm': 0.2344036102294922, 'learning_rate': 6.222088434895412e-05, 'epoch': 2.52}\n",
      "{'loss': 0.4108, 'grad_norm': 2.648935556411743, 'learning_rate': 5.318367983829352e-05, 'epoch': 2.56}\n",
      "{'loss': 0.3889, 'grad_norm': 1.9834638833999634, 'learning_rate': 4.4818529516926295e-05, 'epoch': 2.59}\n",
      "{'loss': 0.3868, 'grad_norm': 0.6728652715682983, 'learning_rate': 3.713801536555445e-05, 'epoch': 2.63}\n",
      "{'loss': 0.3963, 'grad_norm': 1.0789775848388672, 'learning_rate': 3.0153689607045524e-05, 'epoch': 2.67}\n",
      "{'loss': 0.3915, 'grad_norm': 0.7917612791061401, 'learning_rate': 2.3876057330792067e-05, 'epoch': 2.7}\n",
      "{'loss': 0.3926, 'grad_norm': 1.5196545124053955, 'learning_rate': 1.8314560692059606e-05, 'epoch': 2.74}\n",
      "{'loss': 0.4057, 'grad_norm': 2.722296953201294, 'learning_rate': 1.3477564710087887e-05, 'epoch': 2.78}\n",
      "{'loss': 0.3801, 'grad_norm': 0.515707790851593, 'learning_rate': 9.372344686307509e-06, 'epoch': 2.81}\n",
      "{'loss': 0.3761, 'grad_norm': 3.216053009033203, 'learning_rate': 6.005075261595404e-06, 'epoch': 2.85}\n",
      "{'loss': 0.4021, 'grad_norm': 1.1043959856033325, 'learning_rate': 3.3808211290284453e-06, 'epoch': 2.89}\n",
      "{'loss': 0.3968, 'grad_norm': 0.8632947206497192, 'learning_rate': 1.5035294161039676e-06, 'epoch': 2.93}\n",
      "{'loss': 0.3738, 'grad_norm': 1.9893591403961182, 'learning_rate': 3.760237478849745e-07, 'epoch': 2.96}\n",
      "{'loss': 0.4066, 'grad_norm': 1.6586472988128662, 'learning_rate': 0.0, 'epoch': 3.0}\n"
     ]
    },
    {
     "data": {
      "application/vnd.jupyter.widget-view+json": {
       "model_id": "6df5aaeb08014bf4be4d8b17ad8e0696",
       "version_major": 2,
       "version_minor": 0
      },
      "text/plain": [
       "  0%|          | 0/1500 [00:00<?, ?it/s]"
      ]
     },
     "metadata": {},
     "output_type": "display_data"
    },
    {
     "name": "stdout",
     "output_type": "stream",
     "text": [
      "{'eval_loss': 0.3626594543457031, 'eval_accuracy': 0.8791666666666667, 'eval_runtime': 8.9671, 'eval_samples_per_second': 1338.223, 'eval_steps_per_second': 167.278, 'epoch': 3.0}\n",
      "{'train_runtime': 498.1922, 'train_samples_per_second': 650.351, 'train_steps_per_second': 81.294, 'train_loss': 0.4161712567364728, 'epoch': 3.0}\n"
     ]
    },
    {
     "data": {
      "application/vnd.jupyter.widget-view+json": {
       "model_id": "5acf519cfc1b4109adc23a7bee8c322c",
       "version_major": 2,
       "version_minor": 0
      },
      "text/plain": [
       "  0%|          | 0/1500 [00:00<?, ?it/s]"
      ]
     },
     "metadata": {},
     "output_type": "display_data"
    },
    {
     "name": "stdout",
     "output_type": "stream",
     "text": [
      "Bias-only Evaluation Metrics: {'eval_loss': 0.3626594543457031, 'eval_accuracy': 0.8791666666666667, 'eval_runtime': 9.0612, 'eval_samples_per_second': 1324.324, 'eval_steps_per_second': 165.54, 'epoch': 3.0}\n"
     ]
    }
   ],
   "source": [
    "bias_trainer.train()\n",
    "\n",
    "bias_o_metrics = bias_trainer.evaluate()\n",
    "print(\"Bias-only Evaluation Metrics:\", bias_o_metrics)"
   ]
  },
  {
   "cell_type": "markdown",
   "metadata": {},
   "source": [
    "---\n",
    "# Yelp\n",
    "\n",
    "---"
   ]
  },
  {
   "cell_type": "code",
   "execution_count": 20,
   "metadata": {},
   "outputs": [],
   "source": [
    "\n",
    "dataset = load_dataset('fancyzhx/yelp_polarity')\n",
    "\n",
    "tokenized_datasets = dataset['train'].map(tokenize_function, batched=True)\n",
    "\n",
    "train_data = tokenized_datasets.to_dict()\n",
    "\n",
    "\n",
    "#with open('C:/Users/ege/git/NLP/datasets/yelp.pkl', 'wb') as file:\n",
    "#    pickle.dump(train_data, file)\n"
   ]
  },
  {
   "cell_type": "code",
   "execution_count": 21,
   "metadata": {},
   "outputs": [
    {
     "name": "stdout",
     "output_type": "stream",
     "text": [
      "Train: 504000\n",
      "Val: 56000\n"
     ]
    },
    {
     "data": {
      "text/plain": [
       "\"\\nwith open('C:/Users/ege/git/NLP/datasets/yelp-train.pkl', 'wb') as file:\\n    pickle.dump(train_dataset_hf, file)\\n\\nwith open('C:/Users/ege/git/NLP/datasets/yelp-val.pkl', 'wb') as file:\\n    pickle.dump(validation_dataset_hf, file)\\n\""
      ]
     },
     "execution_count": 21,
     "metadata": {},
     "output_type": "execute_result"
    }
   ],
   "source": [
    "\n",
    "#with open('C:/Users/ege/git/NLP/datasets/yelp.pkl', 'rb') as file:\n",
    "#    train_data = pickle.load(file)\n",
    "\n",
    "\n",
    "train_dataset, validation_dataset = train_test_split(list(zip(train_data['input_ids'], train_data['attention_mask'], train_data['label'])), test_size=0.1)\n",
    "\n",
    "train_dataset = [{'input_ids': x[0], 'attention_mask': x[1], 'label': x[2]} for x in train_dataset]\n",
    "validation_dataset = [{'input_ids': x[0], 'attention_mask': x[1], 'label': x[2]} for x in validation_dataset]\n",
    "\n",
    "print(\"Train:\", len(train_dataset))\n",
    "print(\"Val:\", len(validation_dataset))\n",
    "#print(\"Test:\", len(dataset['test']))\n",
    "\n",
    "train_dataset_hf = Dataset.from_dict({'input_ids': [x['input_ids'] for x in train_dataset],\n",
    "                                      'attention_mask': [x['attention_mask'] for x in train_dataset],\n",
    "                                      'labels': [x['label'] for x in train_dataset]})\n",
    "\n",
    "validation_dataset_hf = Dataset.from_dict({'input_ids': [x['input_ids'] for x in validation_dataset],\n",
    "                                           'attention_mask': [x['attention_mask'] for x in validation_dataset],\n",
    "                                           'labels': [x['label'] for x in validation_dataset]})\n",
    "\n",
    "\n",
    "\"\"\"\n",
    "with open('C:/Users/ege/git/NLP/datasets/yelp-train.pkl', 'wb') as file:\n",
    "    pickle.dump(train_dataset_hf, file)\n",
    "\n",
    "with open('C:/Users/ege/git/NLP/datasets/yelp-val.pkl', 'wb') as file:\n",
    "    pickle.dump(validation_dataset_hf, file)\n",
    "\"\"\""
   ]
  },
  {
   "cell_type": "code",
   "execution_count": 22,
   "metadata": {},
   "outputs": [
    {
     "data": {
      "text/plain": [
       "\"\\nwith open('C:/Users/ege/git/NLP/datasets/yelp-train.pkl', 'rb') as file:\\n    train_dataset_hf = pickle.load(file)\\n\\nwith open('C:/Users/ege/git/NLP/datasets/yelp-val.pkl', 'rb') as file:\\n    validation_dataset_hf = pickle.load(file)\\n\""
      ]
     },
     "execution_count": 22,
     "metadata": {},
     "output_type": "execute_result"
    }
   ],
   "source": [
    "\"\"\"\n",
    "with open('C:/Users/ege/git/NLP/datasets/yelp-train.pkl', 'rb') as file:\n",
    "    train_dataset_hf = pickle.load(file)\n",
    "\n",
    "with open('C:/Users/ege/git/NLP/datasets/yelp-val.pkl', 'rb') as file:\n",
    "    validation_dataset_hf = pickle.load(file)\n",
    "\"\"\""
   ]
  },
  {
   "cell_type": "code",
   "execution_count": 23,
   "metadata": {},
   "outputs": [
    {
     "name": "stderr",
     "output_type": "stream",
     "text": [
      "Some weights of BertForSequenceClassification were not initialized from the model checkpoint at prajjwal1/bert-tiny and are newly initialized: ['classifier.bias', 'classifier.weight']\n",
      "You should probably TRAIN this model on a down-stream task to be able to use it for predictions and inference.\n"
     ]
    }
   ],
   "source": [
    "model_base = BertForSequenceClassification.from_pretrained(pre_t_model, num_labels=2).to(device)\n",
    "\n",
    "optimizer = AdamW(filter(lambda p: p.requires_grad, model_base.parameters()), lr=my_lr)\n",
    "\n",
    "num_training_steps = len(train_dataset_hf) // training_args.per_device_train_batch_size * training_args.num_train_epochs\n",
    "scheduler = CosineAnnealingLR(optimizer, T_max=num_training_steps)\n",
    "\n",
    "trainer_base = Trainer(\n",
    "    model=model_base,\n",
    "    args=training_args,\n",
    "    train_dataset=train_dataset_hf,\n",
    "    eval_dataset=validation_dataset_hf,\n",
    "    compute_metrics=compute_metrics,\n",
    "    optimizers=(optimizer, scheduler)\n",
    ")"
   ]
  },
  {
   "cell_type": "code",
   "execution_count": 24,
   "metadata": {},
   "outputs": [
    {
     "data": {
      "application/vnd.jupyter.widget-view+json": {
       "model_id": "a13fb3bc419246d6a5a4b4a1e5e031f4",
       "version_major": 2,
       "version_minor": 0
      },
      "text/plain": [
       "  0%|          | 0/189000 [00:00<?, ?it/s]"
      ]
     },
     "metadata": {},
     "output_type": "display_data"
    },
    {
     "name": "stdout",
     "output_type": "stream",
     "text": [
      "{'loss': 0.5474, 'grad_norm': 27.016056060791016, 'learning_rate': 0.0009999827315381878, 'epoch': 0.01}\n",
      "{'loss': 0.5582, 'grad_norm': 1.2602927684783936, 'learning_rate': 0.0009999309273455508, 'epoch': 0.02}\n",
      "{'loss': 0.5842, 'grad_norm': 1.9077694416046143, 'learning_rate': 0.0009998445910004079, 'epoch': 0.02}\n",
      "{'loss': 0.5973, 'grad_norm': 3.1886630058288574, 'learning_rate': 0.0009997237284663364, 'epoch': 0.03}\n",
      "{'loss': 0.5988, 'grad_norm': 1.525062084197998, 'learning_rate': 0.0009995683480917817, 'epoch': 0.04}\n",
      "{'loss': 0.6403, 'grad_norm': 12.969871520996094, 'learning_rate': 0.0009993784606094616, 'epoch': 0.05}\n",
      "{'loss': 0.6168, 'grad_norm': 6.565064430236816, 'learning_rate': 0.0009991540791356366, 'epoch': 0.06}\n",
      "{'loss': 0.6212, 'grad_norm': 4.467358589172363, 'learning_rate': 0.0009988952191691935, 'epoch': 0.06}\n",
      "{'loss': 0.5964, 'grad_norm': 88.54228973388672, 'learning_rate': 0.0009986018985905876, 'epoch': 0.07}\n",
      "{'loss': 0.5739, 'grad_norm': 3.242130994796753, 'learning_rate': 0.0009982741376606044, 'epoch': 0.08}\n",
      "{'loss': 0.5732, 'grad_norm': 2.257058620452881, 'learning_rate': 0.0009979119590189504, 'epoch': 0.09}\n",
      "{'loss': 0.5671, 'grad_norm': 25.496129989624023, 'learning_rate': 0.0009975153876826993, 'epoch': 0.1}\n",
      "{'loss': 0.5864, 'grad_norm': 8.493901252746582, 'learning_rate': 0.0009970844510445538, 'epoch': 0.1}\n",
      "{'loss': 0.5989, 'grad_norm': 3.288303852081299, 'learning_rate': 0.000996619178870973, 'epoch': 0.11}\n",
      "{'loss': 0.6133, 'grad_norm': 4.531379222869873, 'learning_rate': 0.0009961196033000895, 'epoch': 0.12}\n",
      "{'loss': 0.5746, 'grad_norm': 8.227042198181152, 'learning_rate': 0.0009955857588395088, 'epoch': 0.13}\n",
      "{'loss': 0.5719, 'grad_norm': 10.830390930175781, 'learning_rate': 0.0009950176823639236, 'epoch': 0.13}\n",
      "{'loss': 0.555, 'grad_norm': 2.07104229927063, 'learning_rate': 0.000994415413112565, 'epoch': 0.14}\n",
      "{'loss': 0.5178, 'grad_norm': 0.8776375651359558, 'learning_rate': 0.0009937789926864845, 'epoch': 0.15}\n",
      "{'loss': 0.5101, 'grad_norm': 4.650055885314941, 'learning_rate': 0.000993108465045692, 'epoch': 0.16}\n",
      "{'loss': 0.5128, 'grad_norm': 2.6568872928619385, 'learning_rate': 0.0009924038765061086, 'epoch': 0.17}\n",
      "{'loss': 0.5071, 'grad_norm': 2.580024480819702, 'learning_rate': 0.0009916652757363728, 'epoch': 0.17}\n",
      "{'loss': 0.4915, 'grad_norm': 1.0257132053375244, 'learning_rate': 0.0009908927137544862, 'epoch': 0.18}\n",
      "{'loss': 0.5093, 'grad_norm': 1.6673355102539062, 'learning_rate': 0.0009900862439242738, 'epoch': 0.19}\n",
      "{'loss': 0.525, 'grad_norm': 2.6572859287261963, 'learning_rate': 0.0009892459219517126, 'epoch': 0.2}\n",
      "{'loss': 0.5467, 'grad_norm': 9.363859176635742, 'learning_rate': 0.000988371805881074, 'epoch': 0.21}\n",
      "{'loss': 0.5718, 'grad_norm': 1.8719379901885986, 'learning_rate': 0.0009874639560909114, 'epoch': 0.21}\n",
      "{'loss': 0.5422, 'grad_norm': 1.7185391187667847, 'learning_rate': 0.0009865224352899101, 'epoch': 0.22}\n",
      "{'loss': 0.5432, 'grad_norm': 1.9809757471084595, 'learning_rate': 0.0009855473085125352, 'epoch': 0.23}\n",
      "{'loss': 0.5235, 'grad_norm': 1.8566818237304688, 'learning_rate': 0.0009845386431145396, 'epoch': 0.24}\n",
      "{'loss': 0.5328, 'grad_norm': 3.248969793319702, 'learning_rate': 0.000983496508768321, 'epoch': 0.25}\n",
      "{'loss': 0.5105, 'grad_norm': 10.473340034484863, 'learning_rate': 0.0009824209774581152, 'epoch': 0.25}\n",
      "{'loss': 0.5399, 'grad_norm': 6.912351131439209, 'learning_rate': 0.0009813121234750048, 'epoch': 0.26}\n",
      "{'loss': 0.517, 'grad_norm': 1.7328494787216187, 'learning_rate': 0.000980170023411794, 'epoch': 0.27}\n",
      "{'loss': 0.5131, 'grad_norm': 5.283919334411621, 'learning_rate': 0.000978994756157737, 'epoch': 0.28}\n",
      "{'loss': 0.5123, 'grad_norm': 2.859534502029419, 'learning_rate': 0.0009777864028930612, 'epoch': 0.29}\n",
      "{'loss': 0.5165, 'grad_norm': 6.010898590087891, 'learning_rate': 0.0009765450470833758, 'epoch': 0.29}\n",
      "{'loss': 0.5074, 'grad_norm': 2.5713796615600586, 'learning_rate': 0.0009752707744739031, 'epoch': 0.3}\n",
      "{'loss': 0.495, 'grad_norm': 2.996866226196289, 'learning_rate': 0.0009739636730835557, 'epoch': 0.31}\n",
      "{'loss': 0.5065, 'grad_norm': 1.976391077041626, 'learning_rate': 0.0009726238331988534, 'epoch': 0.32}\n",
      "{'loss': 0.5127, 'grad_norm': 2.0561025142669678, 'learning_rate': 0.0009712513473676916, 'epoch': 0.33}\n",
      "{'loss': 0.4991, 'grad_norm': 1.4225454330444336, 'learning_rate': 0.0009698463103929469, 'epoch': 0.33}\n",
      "{'loss': 0.484, 'grad_norm': 1.3714423179626465, 'learning_rate': 0.0009684088193259277, 'epoch': 0.34}\n",
      "{'loss': 0.4816, 'grad_norm': 2.9600584506988525, 'learning_rate': 0.0009669389734596737, 'epoch': 0.35}\n",
      "{'loss': 0.4979, 'grad_norm': 8.813101768493652, 'learning_rate': 0.0009654368743220934, 'epoch': 0.36}\n",
      "{'loss': 0.4703, 'grad_norm': 2.106076240539551, 'learning_rate': 0.0009639026256689524, 'epoch': 0.37}\n",
      "{'loss': 0.4867, 'grad_norm': 10.620097160339355, 'learning_rate': 0.0009623363334767109, 'epoch': 0.37}\n",
      "{'loss': 0.466, 'grad_norm': 5.795157432556152, 'learning_rate': 0.0009607381059351946, 'epoch': 0.38}\n",
      "{'loss': 0.4741, 'grad_norm': 2.1420702934265137, 'learning_rate': 0.0009591080534401286, 'epoch': 0.39}\n",
      "{'loss': 0.4647, 'grad_norm': 2.580249547958374, 'learning_rate': 0.000957446288585508, 'epoch': 0.4}\n",
      "{'loss': 0.4719, 'grad_norm': 1.802603840827942, 'learning_rate': 0.0009557529261558284, 'epoch': 0.4}\n",
      "{'loss': 0.4958, 'grad_norm': 5.874564170837402, 'learning_rate': 0.0009540280831181446, 'epoch': 0.41}\n",
      "{'loss': 0.4849, 'grad_norm': 7.829079627990723, 'learning_rate': 0.0009522718786140007, 'epoch': 0.42}\n",
      "{'loss': 0.4823, 'grad_norm': 4.475027084350586, 'learning_rate': 0.0009504844339512008, 'epoch': 0.43}\n",
      "{'loss': 0.487, 'grad_norm': 1.6942330598831177, 'learning_rate': 0.0009486658725954228, 'epoch': 0.44}\n",
      "{'loss': 0.4732, 'grad_norm': 3.540482759475708, 'learning_rate': 0.0009468163201616972, 'epoch': 0.44}\n",
      "{'loss': 0.473, 'grad_norm': 1.2872198820114136, 'learning_rate': 0.0009449359044057262, 'epoch': 0.45}\n",
      "{'loss': 0.4762, 'grad_norm': 3.196640729904175, 'learning_rate': 0.00094302475521506, 'epoch': 0.46}\n",
      "{'loss': 0.4857, 'grad_norm': 3.1920018196105957, 'learning_rate': 0.0009410830046001245, 'epoch': 0.47}\n",
      "{'loss': 0.4813, 'grad_norm': 3.382459878921509, 'learning_rate': 0.0009391107866851081, 'epoch': 0.48}\n",
      "{'loss': 0.4933, 'grad_norm': 3.925471067428589, 'learning_rate': 0.0009371082376986863, 'epoch': 0.48}\n",
      "{'loss': 0.4795, 'grad_norm': 1.7898303270339966, 'learning_rate': 0.000935075495964624, 'epoch': 0.49}\n",
      "{'loss': 0.4682, 'grad_norm': 51.575565338134766, 'learning_rate': 0.0009330127018922136, 'epoch': 0.5}\n",
      "{'loss': 0.4839, 'grad_norm': 1.9172738790512085, 'learning_rate': 0.0009309199979665752, 'epoch': 0.51}\n",
      "{'loss': 0.4898, 'grad_norm': 1.9741003513336182, 'learning_rate': 0.000928797528738824, 'epoch': 0.52}\n",
      "{'loss': 0.4682, 'grad_norm': 1.632642149925232, 'learning_rate': 0.0009266454408160716, 'epoch': 0.52}\n",
      "{'loss': 0.4834, 'grad_norm': 17.619422912597656, 'learning_rate': 0.0009244638828513117, 'epoch': 0.53}\n",
      "{'loss': 0.4676, 'grad_norm': 2.0540175437927246, 'learning_rate': 0.0009222530055331474, 'epoch': 0.54}\n",
      "{'loss': 0.483, 'grad_norm': 30.55910873413086, 'learning_rate': 0.000920012961575379, 'epoch': 0.55}\n",
      "{'loss': 0.4668, 'grad_norm': 6.655344009399414, 'learning_rate': 0.0009177439057064629, 'epoch': 0.56}\n",
      "{'loss': 0.4753, 'grad_norm': 1.2220895290374756, 'learning_rate': 0.000915445994658814, 'epoch': 0.56}\n",
      "{'loss': 0.4617, 'grad_norm': 2.3421013355255127, 'learning_rate': 0.0009131193871579912, 'epoch': 0.57}\n",
      "{'loss': 0.4882, 'grad_norm': 1.0143715143203735, 'learning_rate': 0.000910764243911724, 'epoch': 0.58}\n",
      "{'loss': 0.4748, 'grad_norm': 1.6312702894210815, 'learning_rate': 0.0009083807275988194, 'epoch': 0.59}\n",
      "{'loss': 0.4559, 'grad_norm': 2.1262481212615967, 'learning_rate': 0.0009059690028579189, 'epoch': 0.6}\n",
      "{'loss': 0.4795, 'grad_norm': 1.367913007736206, 'learning_rate': 0.0009035292362761306, 'epoch': 0.6}\n",
      "{'loss': 0.4846, 'grad_norm': 1.2999736070632935, 'learning_rate': 0.000901061596377514, 'epoch': 0.61}\n",
      "{'loss': 0.4731, 'grad_norm': 1.301363468170166, 'learning_rate': 0.0008985662536114528, 'epoch': 0.62}\n",
      "{'loss': 0.4637, 'grad_norm': 1.5561033487319946, 'learning_rate': 0.0008960433803408727, 'epoch': 0.63}\n",
      "{'loss': 0.4592, 'grad_norm': 1.0461299419403076, 'learning_rate': 0.0008934931508303355, 'epoch': 0.63}\n",
      "{'loss': 0.4561, 'grad_norm': 0.9904038906097412, 'learning_rate': 0.0008909157412340074, 'epoch': 0.64}\n",
      "{'loss': 0.4572, 'grad_norm': 1.8229800462722778, 'learning_rate': 0.0008883113295834827, 'epoch': 0.65}\n",
      "{'loss': 0.4697, 'grad_norm': 1.8538089990615845, 'learning_rate': 0.0008856800957754941, 'epoch': 0.66}\n",
      "{'loss': 0.4681, 'grad_norm': 5.417445659637451, 'learning_rate': 0.0008830222215594848, 'epoch': 0.67}\n",
      "{'loss': 0.4533, 'grad_norm': 1.1686075925827026, 'learning_rate': 0.0008803378905250499, 'epoch': 0.67}\n",
      "{'loss': 0.4477, 'grad_norm': 2.9911279678344727, 'learning_rate': 0.000877627288089263, 'epoch': 0.68}\n",
      "{'loss': 0.4546, 'grad_norm': 3.0068976879119873, 'learning_rate': 0.0008748906014838618, 'epoch': 0.69}\n",
      "{'loss': 0.4472, 'grad_norm': 0.9464380145072937, 'learning_rate': 0.0008721280197423219, 'epoch': 0.7}\n",
      "{'loss': 0.4397, 'grad_norm': 1.809721827507019, 'learning_rate': 0.0008693397336867905, 'epoch': 0.71}\n",
      "{'loss': 0.4558, 'grad_norm': 3.296201705932617, 'learning_rate': 0.0008665259359149114, 'epoch': 0.71}\n",
      "{'loss': 0.4411, 'grad_norm': 1.5767875909805298, 'learning_rate': 0.0008636868207865227, 'epoch': 0.72}\n",
      "{'loss': 0.4444, 'grad_norm': 2.1718533039093018, 'learning_rate': 0.0008608225844102289, 'epoch': 0.73}\n",
      "{'loss': 0.4564, 'grad_norm': 1.8365482091903687, 'learning_rate': 0.0008579334246298567, 'epoch': 0.74}\n",
      "{'loss': 0.4592, 'grad_norm': 1.369178295135498, 'learning_rate': 0.0008550195410107888, 'epoch': 0.75}\n",
      "{'loss': 0.4486, 'grad_norm': 2.939441680908203, 'learning_rate': 0.0008520811348261747, 'epoch': 0.75}\n",
      "{'loss': 0.4647, 'grad_norm': 1.621062159538269, 'learning_rate': 0.0008491184090430356, 'epoch': 0.76}\n",
      "{'loss': 0.4753, 'grad_norm': 1.0683033466339111, 'learning_rate': 0.0008461315683082395, 'epoch': 0.77}\n",
      "{'loss': 0.4607, 'grad_norm': 2.4474408626556396, 'learning_rate': 0.0008431208189343662, 'epoch': 0.78}\n",
      "{'loss': 0.4373, 'grad_norm': 181.9477081298828, 'learning_rate': 0.000840086368885461, 'epoch': 0.79}\n",
      "{'loss': 0.4701, 'grad_norm': 1.3341915607452393, 'learning_rate': 0.000837028427762659, 'epoch': 0.79}\n",
      "{'loss': 0.454, 'grad_norm': 14.494023323059082, 'learning_rate': 0.0008339472067897209, 'epoch': 0.8}\n",
      "{'loss': 0.4499, 'grad_norm': 0.9423088431358337, 'learning_rate': 0.0008308429187984308, 'epoch': 0.81}\n",
      "{'loss': 0.4426, 'grad_norm': 1.1832680702209473, 'learning_rate': 0.0008277157782139064, 'epoch': 0.82}\n",
      "{'loss': 0.4665, 'grad_norm': 3.49436354637146, 'learning_rate': 0.0008245660010397774, 'epoch': 0.83}\n",
      "{'loss': 0.4457, 'grad_norm': 0.9544880390167236, 'learning_rate': 0.0008213938048432697, 'epoch': 0.83}\n",
      "{'loss': 0.4433, 'grad_norm': 3.9126293659210205, 'learning_rate': 0.0008181994087401825, 'epoch': 0.84}\n",
      "{'loss': 0.4452, 'grad_norm': 5.298624515533447, 'learning_rate': 0.0008149830333797412, 'epoch': 0.85}\n",
      "{'loss': 0.4225, 'grad_norm': 1.1838792562484741, 'learning_rate': 0.0008117449009293674, 'epoch': 0.86}\n",
      "{'loss': 0.4293, 'grad_norm': 7.07655668258667, 'learning_rate': 0.0008084852350593266, 'epoch': 0.87}\n",
      "{'loss': 0.4305, 'grad_norm': 0.8617282509803772, 'learning_rate': 0.0008052042609272838, 'epoch': 0.87}\n",
      "{'loss': 0.4466, 'grad_norm': 0.7088009715080261, 'learning_rate': 0.0008019022051627403, 'epoch': 0.88}\n",
      "{'loss': 0.4193, 'grad_norm': 2.030012369155884, 'learning_rate': 0.0007985792958513954, 'epoch': 0.89}\n",
      "{'loss': 0.4177, 'grad_norm': 1.8125663995742798, 'learning_rate': 0.0007952357625193784, 'epoch': 0.9}\n",
      "{'loss': 0.4052, 'grad_norm': 3.813032627105713, 'learning_rate': 0.0007918718361173983, 'epoch': 0.9}\n",
      "{'loss': 0.4355, 'grad_norm': 2.904238700866699, 'learning_rate': 0.000788487749004796, 'epoch': 0.91}\n",
      "{'loss': 0.4375, 'grad_norm': 2.4230661392211914, 'learning_rate': 0.0007850837349334848, 'epoch': 0.92}\n",
      "{'loss': 0.4237, 'grad_norm': 0.9578124284744263, 'learning_rate': 0.0007816600290318134, 'epoch': 0.93}\n",
      "{'loss': 0.4229, 'grad_norm': 0.769651472568512, 'learning_rate': 0.0007782168677883215, 'epoch': 0.94}\n",
      "{'loss': 0.4415, 'grad_norm': 1.3119069337844849, 'learning_rate': 0.0007747544890354045, 'epoch': 0.94}\n",
      "{'loss': 0.4131, 'grad_norm': 0.39109209179878235, 'learning_rate': 0.0007712731319328822, 'epoch': 0.95}\n",
      "{'loss': 0.4301, 'grad_norm': 0.7731707096099854, 'learning_rate': 0.0007677730369514809, 'epoch': 0.96}\n",
      "{'loss': 0.4583, 'grad_norm': 2.6820600032806396, 'learning_rate': 0.0007642544458562289, 'epoch': 0.97}\n",
      "{'loss': 0.4436, 'grad_norm': 7.6781158447265625, 'learning_rate': 0.00076071760168975, 'epoch': 0.98}\n",
      "{'loss': 0.4334, 'grad_norm': 16.55705451965332, 'learning_rate': 0.0007571627487554779, 'epoch': 0.98}\n",
      "{'loss': 0.4236, 'grad_norm': 0.6412314772605896, 'learning_rate': 0.0007535901326007822, 'epoch': 0.99}\n",
      "{'loss': 0.4305, 'grad_norm': 0.362580806016922, 'learning_rate': 0.0007500000000000003, 'epoch': 1.0}\n"
     ]
    },
    {
     "data": {
      "application/vnd.jupyter.widget-view+json": {
       "model_id": "c65749deb77d4d17ba78383a7171da18",
       "version_major": 2,
       "version_minor": 0
      },
      "text/plain": [
       "  0%|          | 0/7000 [00:00<?, ?it/s]"
      ]
     },
     "metadata": {},
     "output_type": "display_data"
    },
    {
     "name": "stdout",
     "output_type": "stream",
     "text": [
      "{'eval_loss': 0.4237401783466339, 'eval_accuracy': 0.829375, 'eval_runtime': 42.2303, 'eval_samples_per_second': 1326.062, 'eval_steps_per_second': 165.758, 'epoch': 1.0}\n",
      "{'loss': 0.4245, 'grad_norm': 0.5322812795639038, 'learning_rate': 0.000746392598937408, 'epoch': 1.01}\n",
      "{'loss': 0.441, 'grad_norm': 1.0613926649093628, 'learning_rate': 0.0007427681785900739, 'epoch': 1.02}\n",
      "{'loss': 0.4427, 'grad_norm': 1.8324155807495117, 'learning_rate': 0.0007391269893106565, 'epoch': 1.02}\n",
      "{'loss': 0.421, 'grad_norm': 1.2388644218444824, 'learning_rate': 0.0007354692826101063, 'epoch': 1.03}\n",
      "{'loss': 0.439, 'grad_norm': 0.6214081645011902, 'learning_rate': 0.0007317953111402983, 'epoch': 1.04}\n",
      "{'loss': 0.4318, 'grad_norm': 26.533971786499023, 'learning_rate': 0.0007281053286765773, 'epoch': 1.05}\n",
      "{'loss': 0.4232, 'grad_norm': 1.0832068920135498, 'learning_rate': 0.0007243995901002281, 'epoch': 1.06}\n",
      "{'loss': 0.4418, 'grad_norm': 2.0614871978759766, 'learning_rate': 0.0007206783513808714, 'epoch': 1.06}\n",
      "{'loss': 0.4326, 'grad_norm': 2.3956832885742188, 'learning_rate': 0.0007169418695587796, 'epoch': 1.07}\n",
      "{'loss': 0.4225, 'grad_norm': 11.250455856323242, 'learning_rate': 0.0007131904027271277, 'epoch': 1.08}\n",
      "{'loss': 0.4193, 'grad_norm': 1.0366864204406738, 'learning_rate': 0.0007094242100141628, 'epoch': 1.09}\n",
      "{'loss': 0.429, 'grad_norm': 32.06032943725586, 'learning_rate': 0.0007056435515653061, 'epoch': 1.1}\n",
      "{'loss': 0.4322, 'grad_norm': 0.5609185099601746, 'learning_rate': 0.0007018486885251816, 'epoch': 1.1}\n",
      "{'loss': 0.4212, 'grad_norm': 4.0787434577941895, 'learning_rate': 0.0006980398830195795, 'epoch': 1.11}\n",
      "{'loss': 0.416, 'grad_norm': 2.131809949874878, 'learning_rate': 0.0006942173981373494, 'epoch': 1.12}\n",
      "{'loss': 0.432, 'grad_norm': 1.7966853380203247, 'learning_rate': 0.0006903814979122268, 'epoch': 1.13}\n",
      "{'loss': 0.4317, 'grad_norm': 1.0086125135421753, 'learning_rate': 0.0006865324473046005, 'epoch': 1.13}\n",
      "{'loss': 0.4182, 'grad_norm': 8.68288516998291, 'learning_rate': 0.0006826705121832004, 'epoch': 1.14}\n",
      "{'loss': 0.4455, 'grad_norm': 1.0181845426559448, 'learning_rate': 0.0006787959593067451, 'epoch': 1.15}\n",
      "{'loss': 0.4193, 'grad_norm': 1.091943621635437, 'learning_rate': 0.000674909056305511, 'epoch': 1.16}\n",
      "{'loss': 0.4302, 'grad_norm': 9.521748542785645, 'learning_rate': 0.0006710100716628377, 'epoch': 1.17}\n",
      "{'loss': 0.4212, 'grad_norm': 9.903935432434082, 'learning_rate': 0.0006670992746965958, 'epoch': 1.17}\n",
      "{'loss': 0.4324, 'grad_norm': 0.4258059859275818, 'learning_rate': 0.0006631769355405813, 'epoch': 1.18}\n",
      "{'loss': 0.429, 'grad_norm': 2.8291189670562744, 'learning_rate': 0.0006592433251258466, 'epoch': 1.19}\n",
      "{'loss': 0.4081, 'grad_norm': 2.5572733879089355, 'learning_rate': 0.000655298715161996, 'epoch': 1.2}\n",
      "{'loss': 0.418, 'grad_norm': 14.289140701293945, 'learning_rate': 0.0006513433781184182, 'epoch': 1.21}\n",
      "{'loss': 0.4221, 'grad_norm': 2.3716464042663574, 'learning_rate': 0.0006473775872054565, 'epoch': 1.21}\n",
      "{'loss': 0.4154, 'grad_norm': 0.506769061088562, 'learning_rate': 0.0006434016163555477, 'epoch': 1.22}\n",
      "{'loss': 0.4387, 'grad_norm': 2.1296257972717285, 'learning_rate': 0.000639415740204298, 'epoch': 1.23}\n",
      "{'loss': 0.4233, 'grad_norm': 7.980812072753906, 'learning_rate': 0.0006354202340715055, 'epoch': 1.24}\n",
      "{'loss': 0.4385, 'grad_norm': 0.637790322303772, 'learning_rate': 0.0006314153739421495, 'epoch': 1.25}\n",
      "{'loss': 0.429, 'grad_norm': 0.9810717105865479, 'learning_rate': 0.0006274014364473281, 'epoch': 1.25}\n",
      "{'loss': 0.4161, 'grad_norm': 4.392428874969482, 'learning_rate': 0.0006233786988451483, 'epoch': 1.26}\n",
      "{'loss': 0.4211, 'grad_norm': 1.3031206130981445, 'learning_rate': 0.0006193474390015721, 'epoch': 1.27}\n",
      "{'loss': 0.4156, 'grad_norm': 4.932034492492676, 'learning_rate': 0.0006153079353712223, 'epoch': 1.28}\n",
      "{'loss': 0.4393, 'grad_norm': 0.8270381093025208, 'learning_rate': 0.0006112604669781588, 'epoch': 1.29}\n",
      "{'loss': 0.4403, 'grad_norm': 0.49997907876968384, 'learning_rate': 0.0006072053133965967, 'epoch': 1.29}\n",
      "{'loss': 0.4167, 'grad_norm': 1.6389135122299194, 'learning_rate': 0.0006031427547315905, 'epoch': 1.3}\n",
      "{'loss': 0.4106, 'grad_norm': 95.2410659790039, 'learning_rate': 0.0005990730715996998, 'epoch': 1.31}\n",
      "{'loss': 0.4263, 'grad_norm': 0.48668187856674194, 'learning_rate': 0.0005949965451095959, 'epoch': 1.32}\n",
      "{'loss': 0.4278, 'grad_norm': 0.7787043452262878, 'learning_rate': 0.000590913456842647, 'epoch': 1.33}\n",
      "{'loss': 0.4169, 'grad_norm': 0.8098440170288086, 'learning_rate': 0.0005868240888334663, 'epoch': 1.33}\n",
      "{'loss': 0.4296, 'grad_norm': 1.1321965456008911, 'learning_rate': 0.0005827287235504365, 'epoch': 1.34}\n",
      "{'loss': 0.4319, 'grad_norm': 25.026111602783203, 'learning_rate': 0.0005786276438761936, 'epoch': 1.35}\n",
      "{'loss': 0.4261, 'grad_norm': 7.983646392822266, 'learning_rate': 0.0005745211330880892, 'epoch': 1.36}\n",
      "{'loss': 0.4528, 'grad_norm': 1.3829692602157593, 'learning_rate': 0.0005704094748386198, 'epoch': 1.37}\n",
      "{'loss': 0.4168, 'grad_norm': 1.3550467491149902, 'learning_rate': 0.0005662929531358416, 'epoch': 1.37}\n",
      "{'loss': 0.4129, 'grad_norm': 3.724104166030884, 'learning_rate': 0.0005621718523237435, 'epoch': 1.38}\n",
      "{'loss': 0.4175, 'grad_norm': 0.8540652394294739, 'learning_rate': 0.0005580464570626158, 'epoch': 1.39}\n",
      "{'loss': 0.4086, 'grad_norm': 0.6203211545944214, 'learning_rate': 0.0005539170523093804, 'epoch': 1.4}\n",
      "{'loss': 0.4024, 'grad_norm': 0.6382874250411987, 'learning_rate': 0.0005497839232979086, 'epoch': 1.4}\n",
      "{'loss': 0.4002, 'grad_norm': 24.769039154052734, 'learning_rate': 0.0005456473555193241, 'epoch': 1.41}\n",
      "{'loss': 0.413, 'grad_norm': 0.9943060278892517, 'learning_rate': 0.0005415076347022775, 'epoch': 1.42}\n",
      "{'loss': 0.4106, 'grad_norm': 1.5947226285934448, 'learning_rate': 0.0005373650467932127, 'epoch': 1.43}\n",
      "{'loss': 0.4138, 'grad_norm': 21.52625274658203, 'learning_rate': 0.0005332198779366119, 'epoch': 1.44}\n",
      "{'loss': 0.4073, 'grad_norm': 0.4069420397281647, 'learning_rate': 0.0005290724144552388, 'epoch': 1.44}\n",
      "{'loss': 0.4029, 'grad_norm': 4.873697757720947, 'learning_rate': 0.0005249229428303491, 'epoch': 1.45}\n",
      "{'loss': 0.3889, 'grad_norm': 0.811012864112854, 'learning_rate': 0.0005207717496819131, 'epoch': 1.46}\n",
      "{'loss': 0.3951, 'grad_norm': 0.548527717590332, 'learning_rate': 0.0005166191217488125, 'epoch': 1.47}\n",
      "{'loss': 0.424, 'grad_norm': 1.822322130203247, 'learning_rate': 0.0005124653458690354, 'epoch': 1.48}\n",
      "{'loss': 0.3893, 'grad_norm': 0.6572882533073425, 'learning_rate': 0.0005083107089598615, 'epoch': 1.48}\n",
      "{'loss': 0.4021, 'grad_norm': 0.5142682194709778, 'learning_rate': 0.0005041554979980473, 'epoch': 1.49}\n",
      "{'loss': 0.4002, 'grad_norm': 1.5020380020141602, 'learning_rate': 0.0004999999999999977, 'epoch': 1.5}\n",
      "{'loss': 0.3975, 'grad_norm': 0.4234312176704407, 'learning_rate': 0.0004958445020019477, 'epoch': 1.51}\n",
      "{'loss': 0.3925, 'grad_norm': 1.0960572957992554, 'learning_rate': 0.0004916892910401335, 'epoch': 1.52}\n",
      "{'loss': 0.4158, 'grad_norm': 0.6858976483345032, 'learning_rate': 0.0004875346541309599, 'epoch': 1.52}\n",
      "{'loss': 0.386, 'grad_norm': 0.4478888213634491, 'learning_rate': 0.0004833808782511831, 'epoch': 1.53}\n",
      "{'loss': 0.4093, 'grad_norm': 0.5923078656196594, 'learning_rate': 0.000479228250318083, 'epoch': 1.54}\n",
      "{'loss': 0.4048, 'grad_norm': 6.5154709815979, 'learning_rate': 0.0004750770571696477, 'epoch': 1.55}\n",
      "{'loss': 0.3957, 'grad_norm': 0.34817254543304443, 'learning_rate': 0.0004709275855447582, 'epoch': 1.56}\n",
      "{'loss': 0.3963, 'grad_norm': 0.9143161773681641, 'learning_rate': 0.0004667801220633835, 'epoch': 1.56}\n",
      "{'loss': 0.39, 'grad_norm': 76.27195739746094, 'learning_rate': 0.00046263495320678305, 'epoch': 1.57}\n",
      "{'loss': 0.4062, 'grad_norm': 1.091594934463501, 'learning_rate': 0.00045849236529771695, 'epoch': 1.58}\n",
      "{'loss': 0.3905, 'grad_norm': 0.7727333307266235, 'learning_rate': 0.00045435264448067097, 'epoch': 1.59}\n",
      "{'loss': 0.3834, 'grad_norm': 50.269798278808594, 'learning_rate': 0.00045021607670208677, 'epoch': 1.6}\n",
      "{'loss': 0.398, 'grad_norm': 126.90414428710938, 'learning_rate': 0.0004460829476906153, 'epoch': 1.6}\n",
      "{'loss': 0.403, 'grad_norm': 0.5301705598831177, 'learning_rate': 0.00044195354293738, 'epoch': 1.61}\n",
      "{'loss': 0.3845, 'grad_norm': 11.02977180480957, 'learning_rate': 0.00043782814767625265, 'epoch': 1.62}\n",
      "{'loss': 0.4193, 'grad_norm': 0.7310512065887451, 'learning_rate': 0.00043370704686415505, 'epoch': 1.63}\n",
      "{'loss': 0.4001, 'grad_norm': 0.64816814661026, 'learning_rate': 0.0004295905251613773, 'epoch': 1.63}\n",
      "{'loss': 0.4199, 'grad_norm': 78.39912414550781, 'learning_rate': 0.00042547886691190844, 'epoch': 1.64}\n",
      "{'loss': 0.405, 'grad_norm': 2.097778081893921, 'learning_rate': 0.00042137235612380323, 'epoch': 1.65}\n",
      "{'loss': 0.3907, 'grad_norm': 14.58336067199707, 'learning_rate': 0.0004172712764495598, 'epoch': 1.66}\n",
      "{'loss': 0.3901, 'grad_norm': 0.3999951481819153, 'learning_rate': 0.00041317591116652954, 'epoch': 1.67}\n",
      "{'loss': 0.3971, 'grad_norm': 15.434737205505371, 'learning_rate': 0.00040908654315734855, 'epoch': 1.67}\n",
      "{'loss': 0.3828, 'grad_norm': 1.18742835521698, 'learning_rate': 0.0004050034548903993, 'epoch': 1.68}\n",
      "{'loss': 0.3828, 'grad_norm': 4.870490074157715, 'learning_rate': 0.0004009269284002956, 'epoch': 1.69}\n",
      "{'loss': 0.3913, 'grad_norm': 2.6636810302734375, 'learning_rate': 0.00039685724526840647, 'epoch': 1.7}\n",
      "{'loss': 0.402, 'grad_norm': 1.412839651107788, 'learning_rate': 0.00039279468660340073, 'epoch': 1.71}\n",
      "{'loss': 0.4148, 'grad_norm': 0.7515702247619629, 'learning_rate': 0.0003887395330218373, 'epoch': 1.71}\n",
      "{'loss': 0.4121, 'grad_norm': 0.6727334856987, 'learning_rate': 0.0003846920646287746, 'epoch': 1.72}\n",
      "{'loss': 0.4015, 'grad_norm': 0.6544691920280457, 'learning_rate': 0.0003806525609984258, 'epoch': 1.73}\n",
      "{'loss': 0.387, 'grad_norm': 1.9030455350875854, 'learning_rate': 0.0003766213011548478, 'epoch': 1.74}\n",
      "{'loss': 0.4015, 'grad_norm': 0.5362163186073303, 'learning_rate': 0.00037259856355266626, 'epoch': 1.75}\n",
      "{'loss': 0.3893, 'grad_norm': 3.7974109649658203, 'learning_rate': 0.00036858462605784633, 'epoch': 1.75}\n",
      "{'loss': 0.4107, 'grad_norm': 3.3630621433258057, 'learning_rate': 0.00036457976592849225, 'epoch': 1.76}\n",
      "{'loss': 0.3882, 'grad_norm': 2.930595636367798, 'learning_rate': 0.0003605842597957003, 'epoch': 1.77}\n",
      "{'loss': 0.3714, 'grad_norm': 0.5540707111358643, 'learning_rate': 0.0003565983836444507, 'epoch': 1.78}\n",
      "{'loss': 0.3898, 'grad_norm': 7.438179016113281, 'learning_rate': 0.0003526224127945441, 'epoch': 1.79}\n",
      "{'loss': 0.3924, 'grad_norm': 1.0268646478652954, 'learning_rate': 0.0003486566218815836, 'epoch': 1.79}\n",
      "{'loss': 0.3828, 'grad_norm': 24.882369995117188, 'learning_rate': 0.00034470128483800414, 'epoch': 1.8}\n",
      "{'loss': 0.3996, 'grad_norm': 1.7499840259552002, 'learning_rate': 0.0003407566748741544, 'epoch': 1.81}\n",
      "{'loss': 0.3869, 'grad_norm': 2.065887212753296, 'learning_rate': 0.0003368230644594195, 'epoch': 1.82}\n",
      "{'loss': 0.3796, 'grad_norm': 1.468375563621521, 'learning_rate': 0.0003329007253034034, 'epoch': 1.83}\n",
      "{'loss': 0.372, 'grad_norm': 4.282350540161133, 'learning_rate': 0.00032898992833716226, 'epoch': 1.83}\n",
      "{'loss': 0.3839, 'grad_norm': 0.44892099499702454, 'learning_rate': 0.0003250909436944895, 'epoch': 1.84}\n",
      "{'loss': 0.3657, 'grad_norm': 1.5831583738327026, 'learning_rate': 0.0003212040406932541, 'epoch': 1.85}\n",
      "{'loss': 0.4023, 'grad_norm': 0.7473353743553162, 'learning_rate': 0.00031732948781679963, 'epoch': 1.86}\n",
      "{'loss': 0.3783, 'grad_norm': 1.383739948272705, 'learning_rate': 0.00031346755269539927, 'epoch': 1.87}\n",
      "{'loss': 0.3666, 'grad_norm': 0.9039741158485413, 'learning_rate': 0.0003096185020877707, 'epoch': 1.87}\n",
      "{'loss': 0.3806, 'grad_norm': 12.169913291931152, 'learning_rate': 0.0003057826018626484, 'epoch': 1.88}\n",
      "{'loss': 0.3693, 'grad_norm': 0.8290478587150574, 'learning_rate': 0.0003019601169804173, 'epoch': 1.89}\n",
      "{'loss': 0.3991, 'grad_norm': 3.351656675338745, 'learning_rate': 0.00029815131147481407, 'epoch': 1.9}\n",
      "{'loss': 0.3687, 'grad_norm': 1.675708293914795, 'learning_rate': 0.0002943564484346892, 'epoch': 1.9}\n",
      "{'loss': 0.3715, 'grad_norm': 0.45293113589286804, 'learning_rate': 0.0002905757899858323, 'epoch': 1.91}\n",
      "{'loss': 0.3659, 'grad_norm': 3.315748453140259, 'learning_rate': 0.00028680959727286795, 'epoch': 1.92}\n",
      "{'loss': 0.3832, 'grad_norm': 2.593790292739868, 'learning_rate': 0.0002830581304412158, 'epoch': 1.93}\n",
      "{'loss': 0.3376, 'grad_norm': 4.245895862579346, 'learning_rate': 0.00027932164861912295, 'epoch': 1.94}\n",
      "{'loss': 0.3654, 'grad_norm': 20.732927322387695, 'learning_rate': 0.00027560040989976455, 'epoch': 1.94}\n",
      "{'loss': 0.3497, 'grad_norm': 4.45156717300415, 'learning_rate': 0.0002718946713234148, 'epoch': 1.95}\n",
      "{'loss': 0.3646, 'grad_norm': 0.5932064652442932, 'learning_rate': 0.00026820468885969424, 'epoch': 1.96}\n",
      "{'loss': 0.3662, 'grad_norm': 0.6910091638565063, 'learning_rate': 0.000264530717389887, 'epoch': 1.97}\n",
      "{'loss': 0.3481, 'grad_norm': 3.8136837482452393, 'learning_rate': 0.0002608730106893377, 'epoch': 1.98}\n",
      "{'loss': 0.3572, 'grad_norm': 0.6891023516654968, 'learning_rate': 0.00025723182140992106, 'epoch': 1.98}\n",
      "{'loss': 0.3743, 'grad_norm': 1.7807292938232422, 'learning_rate': 0.0002536074010625877, 'epoch': 1.99}\n",
      "{'loss': 0.3514, 'grad_norm': 1.0421395301818848, 'learning_rate': 0.0002499999999999965, 'epoch': 2.0}\n"
     ]
    },
    {
     "data": {
      "application/vnd.jupyter.widget-view+json": {
       "model_id": "113d0480e8e445dd87233be151af003e",
       "version_major": 2,
       "version_minor": 0
      },
      "text/plain": [
       "  0%|          | 0/7000 [00:00<?, ?it/s]"
      ]
     },
     "metadata": {},
     "output_type": "display_data"
    },
    {
     "name": "stdout",
     "output_type": "stream",
     "text": [
      "{'eval_loss': 0.37215036153793335, 'eval_accuracy': 0.8515714285714285, 'eval_runtime': 41.1002, 'eval_samples_per_second': 1362.524, 'eval_steps_per_second': 170.315, 'epoch': 2.0}\n",
      "{'loss': 0.3591, 'grad_norm': 5.145537853240967, 'learning_rate': 0.0002464098673992169, 'epoch': 2.01}\n",
      "{'loss': 0.3466, 'grad_norm': 0.7021046876907349, 'learning_rate': 0.00024283725124451996, 'epoch': 2.02}\n",
      "{'loss': 0.3261, 'grad_norm': 4.521476745605469, 'learning_rate': 0.00023928239831024807, 'epoch': 2.02}\n",
      "{'loss': 0.3557, 'grad_norm': 37.373878479003906, 'learning_rate': 0.0002357455541437694, 'epoch': 2.03}\n",
      "{'loss': 0.3647, 'grad_norm': 1.9204293489456177, 'learning_rate': 0.00023222696304851776, 'epoch': 2.04}\n",
      "{'loss': 0.3402, 'grad_norm': 6.177971363067627, 'learning_rate': 0.00022872686806711714, 'epoch': 2.05}\n",
      "{'loss': 0.344, 'grad_norm': 2.4199740886688232, 'learning_rate': 0.0002252455109645942, 'epoch': 2.06}\n",
      "{'loss': 0.3405, 'grad_norm': 1.5955873727798462, 'learning_rate': 0.00022178313221167675, 'epoch': 2.06}\n",
      "{'loss': 0.3466, 'grad_norm': 1.0265452861785889, 'learning_rate': 0.00021833997096818632, 'epoch': 2.07}\n",
      "{'loss': 0.3509, 'grad_norm': 2.015273094177246, 'learning_rate': 0.0002149162650665163, 'epoch': 2.08}\n",
      "{'loss': 0.327, 'grad_norm': 1.1889082193374634, 'learning_rate': 0.0002115122509952056, 'epoch': 2.09}\n",
      "{'loss': 0.3258, 'grad_norm': 2.5535128116607666, 'learning_rate': 0.00020812816388260215, 'epoch': 2.1}\n",
      "{'loss': 0.3445, 'grad_norm': 0.5165044069290161, 'learning_rate': 0.0002047642374806219, 'epoch': 2.1}\n",
      "{'loss': 0.332, 'grad_norm': 0.2823677361011505, 'learning_rate': 0.00020142070414860401, 'epoch': 2.11}\n",
      "{'loss': 0.3093, 'grad_norm': 1.8624827861785889, 'learning_rate': 0.00019809779483725832, 'epoch': 2.12}\n",
      "{'loss': 0.3299, 'grad_norm': 1.443713903427124, 'learning_rate': 0.00019479573907271505, 'epoch': 2.13}\n",
      "{'loss': 0.3263, 'grad_norm': 2.747647762298584, 'learning_rate': 0.00019151476494067056, 'epoch': 2.13}\n",
      "{'loss': 0.3209, 'grad_norm': 1.178652048110962, 'learning_rate': 0.00018825509907062987, 'epoch': 2.14}\n",
      "{'loss': 0.3051, 'grad_norm': 3.8117082118988037, 'learning_rate': 0.00018501696662025582, 'epoch': 2.15}\n",
      "{'loss': 0.3305, 'grad_norm': 0.8446080684661865, 'learning_rate': 0.00018180059125981468, 'epoch': 2.16}\n",
      "{'loss': 0.3256, 'grad_norm': 4.487117767333984, 'learning_rate': 0.0001786061951567266, 'epoch': 2.17}\n",
      "{'loss': 0.313, 'grad_norm': 0.2999304234981537, 'learning_rate': 0.00017543399896022022, 'epoch': 2.17}\n",
      "{'loss': 0.3256, 'grad_norm': 1.097843885421753, 'learning_rate': 0.00017228422178609148, 'epoch': 2.18}\n",
      "{'loss': 0.3203, 'grad_norm': 1.6288070678710938, 'learning_rate': 0.00016915708120156744, 'epoch': 2.19}\n",
      "{'loss': 0.3128, 'grad_norm': 0.5497726798057556, 'learning_rate': 0.00016605279321027858, 'epoch': 2.2}\n",
      "{'loss': 0.3254, 'grad_norm': 2.9211080074310303, 'learning_rate': 0.0001629715722373396, 'epoch': 2.21}\n",
      "{'loss': 0.3245, 'grad_norm': 1.3888310194015503, 'learning_rate': 0.00015991363111453764, 'epoch': 2.21}\n",
      "{'loss': 0.3192, 'grad_norm': 4.511696815490723, 'learning_rate': 0.00015687918106563055, 'epoch': 2.22}\n",
      "{'loss': 0.3109, 'grad_norm': 2.179182529449463, 'learning_rate': 0.00015386843169175752, 'epoch': 2.23}\n",
      "{'loss': 0.3049, 'grad_norm': 10.591055870056152, 'learning_rate': 0.0001508815909569612, 'epoch': 2.24}\n",
      "{'loss': 0.3263, 'grad_norm': 1.8722877502441406, 'learning_rate': 0.00014791886517382172, 'epoch': 2.25}\n",
      "{'loss': 0.3062, 'grad_norm': 1.9912564754486084, 'learning_rate': 0.00014498045898920768, 'epoch': 2.25}\n",
      "{'loss': 0.3055, 'grad_norm': 0.6912914514541626, 'learning_rate': 0.00014206657537013854, 'epoch': 2.26}\n",
      "{'loss': 0.3086, 'grad_norm': 1.0426331758499146, 'learning_rate': 0.00013917741558976663, 'epoch': 2.27}\n",
      "{'loss': 0.3051, 'grad_norm': 0.31796199083328247, 'learning_rate': 0.00013631317921347343, 'epoch': 2.28}\n",
      "{'loss': 0.3112, 'grad_norm': 2.9761428833007812, 'learning_rate': 0.00013347406408508472, 'epoch': 2.29}\n",
      "{'loss': 0.305, 'grad_norm': 1.5367704629898071, 'learning_rate': 0.0001306602663132048, 'epoch': 2.29}\n",
      "{'loss': 0.3049, 'grad_norm': 2.068295478820801, 'learning_rate': 0.00012787198025767158, 'epoch': 2.3}\n",
      "{'loss': 0.3122, 'grad_norm': 0.495738685131073, 'learning_rate': 0.00012510939851613032, 'epoch': 2.31}\n",
      "{'loss': 0.3212, 'grad_norm': 3.106691360473633, 'learning_rate': 0.0001223727119107301, 'epoch': 2.32}\n",
      "{'loss': 0.3022, 'grad_norm': 1.0215049982070923, 'learning_rate': 0.00011966210947494351, 'epoch': 2.33}\n",
      "{'loss': 0.3024, 'grad_norm': 1.003774881362915, 'learning_rate': 0.00011697777844050885, 'epoch': 2.33}\n",
      "{'loss': 0.2997, 'grad_norm': 0.42539769411087036, 'learning_rate': 0.00011431990422449805, 'epoch': 2.34}\n",
      "{'loss': 0.2889, 'grad_norm': 3.541100025177002, 'learning_rate': 0.00011168867041650883, 'epoch': 2.35}\n",
      "{'loss': 0.3015, 'grad_norm': 1.2513759136199951, 'learning_rate': 0.00010908425876598306, 'epoch': 2.36}\n",
      "{'loss': 0.3068, 'grad_norm': 1.222025990486145, 'learning_rate': 0.00010650684916965351, 'epoch': 2.37}\n",
      "{'loss': 0.2998, 'grad_norm': 0.6250848770141602, 'learning_rate': 0.00010395661965911698, 'epoch': 2.37}\n",
      "{'loss': 0.2839, 'grad_norm': 1.3618637323379517, 'learning_rate': 0.00010143374638853694, 'epoch': 2.38}\n",
      "{'loss': 0.2879, 'grad_norm': 0.513192892074585, 'learning_rate': 9.89384036224764e-05, 'epoch': 2.39}\n",
      "{'loss': 0.297, 'grad_norm': 0.7633306980133057, 'learning_rate': 9.64707637238603e-05, 'epoch': 2.4}\n",
      "{'loss': 0.2967, 'grad_norm': 5.3306427001953125, 'learning_rate': 9.403099714207015e-05, 'epoch': 2.4}\n",
      "{'loss': 0.302, 'grad_norm': 1.2153394222259521, 'learning_rate': 9.161927240117005e-05, 'epoch': 2.41}\n",
      "{'loss': 0.2787, 'grad_norm': 3.899242877960205, 'learning_rate': 8.923575608826652e-05, 'epoch': 2.42}\n",
      "{'loss': 0.2773, 'grad_norm': 0.563068687915802, 'learning_rate': 8.688061284200114e-05, 'epoch': 2.43}\n",
      "{'loss': 0.2904, 'grad_norm': 0.5131638050079346, 'learning_rate': 8.455400534117866e-05, 'epoch': 2.44}\n",
      "{'loss': 0.2909, 'grad_norm': 2.3579909801483154, 'learning_rate': 8.225609429353037e-05, 'epoch': 2.44}\n",
      "{'loss': 0.2976, 'grad_norm': 4.562033653259277, 'learning_rate': 7.998703842461281e-05, 'epoch': 2.45}\n",
      "{'loss': 0.3094, 'grad_norm': 1.1335641145706177, 'learning_rate': 7.77469944668445e-05, 'epoch': 2.46}\n",
      "{'loss': 0.2743, 'grad_norm': 4.560076713562012, 'learning_rate': 7.553611714867988e-05, 'epoch': 2.47}\n",
      "{'loss': 0.2773, 'grad_norm': 1.1948670148849487, 'learning_rate': 7.335455918392062e-05, 'epoch': 2.48}\n",
      "{'loss': 0.2935, 'grad_norm': 2.9165873527526855, 'learning_rate': 7.120247126116892e-05, 'epoch': 2.48}\n",
      "{'loss': 0.2688, 'grad_norm': 1.6005795001983643, 'learning_rate': 6.908000203341678e-05, 'epoch': 2.49}\n",
      "{'loss': 0.3005, 'grad_norm': 2.1841771602630615, 'learning_rate': 6.698729810777942e-05, 'epoch': 2.5}\n",
      "{'loss': 0.2744, 'grad_norm': 1.661230206489563, 'learning_rate': 6.49245040353682e-05, 'epoch': 2.51}\n",
      "{'loss': 0.2693, 'grad_norm': 2.2638962268829346, 'learning_rate': 6.289176230130584e-05, 'epoch': 2.52}\n",
      "{'loss': 0.2789, 'grad_norm': 3.7405378818511963, 'learning_rate': 6.088921331488441e-05, 'epoch': 2.52}\n",
      "{'loss': 0.2798, 'grad_norm': 9.60641860961914, 'learning_rate': 5.8916995399866655e-05, 'epoch': 2.53}\n",
      "{'loss': 0.2849, 'grad_norm': 2.909057855606079, 'learning_rate': 5.697524478493177e-05, 'epoch': 2.54}\n",
      "{'loss': 0.2908, 'grad_norm': 0.9685735106468201, 'learning_rate': 5.506409559426466e-05, 'epoch': 2.55}\n",
      "{'loss': 0.2739, 'grad_norm': 0.11975224316120148, 'learning_rate': 5.318367983829289e-05, 'epoch': 2.56}\n",
      "{'loss': 0.2768, 'grad_norm': 0.7981066703796387, 'learning_rate': 5.133412740456716e-05, 'epoch': 2.56}\n",
      "{'loss': 0.2542, 'grad_norm': 2.20666241645813, 'learning_rate': 4.951556604878958e-05, 'epoch': 2.57}\n",
      "{'loss': 0.2705, 'grad_norm': 0.8869869709014893, 'learning_rate': 4.772812138598956e-05, 'epoch': 2.58}\n",
      "{'loss': 0.2685, 'grad_norm': 3.277477741241455, 'learning_rate': 4.597191688184664e-05, 'epoch': 2.59}\n",
      "{'loss': 0.2812, 'grad_norm': 0.669316291809082, 'learning_rate': 4.4247073844162534e-05, 'epoch': 2.6}\n",
      "{'loss': 0.2669, 'grad_norm': 0.8154492378234863, 'learning_rate': 4.255371141448179e-05, 'epoch': 2.6}\n",
      "{'loss': 0.2728, 'grad_norm': 4.134735107421875, 'learning_rate': 4.0891946559862215e-05, 'epoch': 2.61}\n",
      "{'loss': 0.2742, 'grad_norm': 0.436689555644989, 'learning_rate': 3.9261894064795426e-05, 'epoch': 2.62}\n",
      "{'loss': 0.2771, 'grad_norm': 7.726727485656738, 'learning_rate': 3.766366652327848e-05, 'epoch': 2.63}\n",
      "{'loss': 0.2861, 'grad_norm': 0.6108153462409973, 'learning_rate': 3.609737433103657e-05, 'epoch': 2.63}\n",
      "{'loss': 0.2766, 'grad_norm': 2.2990808486938477, 'learning_rate': 3.456312567789721e-05, 'epoch': 2.64}\n",
      "{'loss': 0.2695, 'grad_norm': 1.0966135263442993, 'learning_rate': 3.306102654031753e-05, 'epoch': 2.65}\n",
      "{'loss': 0.2733, 'grad_norm': 2.240293264389038, 'learning_rate': 3.1591180674063915e-05, 'epoch': 2.66}\n",
      "{'loss': 0.2601, 'grad_norm': 2.245779037475586, 'learning_rate': 3.0153689607045202e-05, 'epoch': 2.67}\n",
      "{'loss': 0.2666, 'grad_norm': 0.28148093819618225, 'learning_rate': 2.8748652632299765e-05, 'epoch': 2.67}\n",
      "{'loss': 0.2661, 'grad_norm': 8.055095672607422, 'learning_rate': 2.7376166801137074e-05, 'epoch': 2.68}\n",
      "{'loss': 0.2623, 'grad_norm': 2.4800121784210205, 'learning_rate': 2.6036326916433665e-05, 'epoch': 2.69}\n",
      "{'loss': 0.2731, 'grad_norm': 1.0972667932510376, 'learning_rate': 2.4729225526085132e-05, 'epoch': 2.7}\n",
      "{'loss': 0.2709, 'grad_norm': 2.67216157913208, 'learning_rate': 2.345495291661315e-05, 'epoch': 2.71}\n",
      "{'loss': 0.27, 'grad_norm': 2.849896192550659, 'learning_rate': 2.221359710692938e-05, 'epoch': 2.71}\n",
      "{'loss': 0.2578, 'grad_norm': 0.7161394953727722, 'learning_rate': 2.1005243842255252e-05, 'epoch': 2.72}\n",
      "{'loss': 0.2748, 'grad_norm': 0.8112223148345947, 'learning_rate': 1.9829976588199807e-05, 'epoch': 2.73}\n",
      "{'loss': 0.277, 'grad_norm': 1.7653863430023193, 'learning_rate': 1.8687876524993672e-05, 'epoch': 2.74}\n",
      "{'loss': 0.2635, 'grad_norm': 1.1003682613372803, 'learning_rate': 1.757902254188226e-05, 'epoch': 2.75}\n",
      "{'loss': 0.2615, 'grad_norm': 1.4548825025558472, 'learning_rate': 1.6503491231676197e-05, 'epoch': 2.75}\n",
      "{'loss': 0.2781, 'grad_norm': 0.5396703481674194, 'learning_rate': 1.5461356885460844e-05, 'epoch': 2.76}\n",
      "{'loss': 0.2575, 'grad_norm': 2.7927205562591553, 'learning_rate': 1.4452691487464886e-05, 'epoch': 2.77}\n",
      "{'loss': 0.2712, 'grad_norm': 2.7437994480133057, 'learning_rate': 1.3477564710087961e-05, 'epoch': 2.78}\n",
      "{'loss': 0.2607, 'grad_norm': 2.3670847415924072, 'learning_rate': 1.2536043909088062e-05, 'epoch': 2.79}\n",
      "{'loss': 0.2637, 'grad_norm': 1.973034143447876, 'learning_rate': 1.162819411892927e-05, 'epoch': 2.79}\n",
      "{'loss': 0.2791, 'grad_norm': 2.087346076965332, 'learning_rate': 1.0754078048289139e-05, 'epoch': 2.8}\n",
      "{'loss': 0.2569, 'grad_norm': 2.3658547401428223, 'learning_rate': 9.913756075727901e-06, 'epoch': 2.81}\n",
      "{'loss': 0.2492, 'grad_norm': 0.34990882873535156, 'learning_rate': 9.107286245516942e-06, 'epoch': 2.82}\n",
      "{'loss': 0.2647, 'grad_norm': 1.0597732067108154, 'learning_rate': 8.334724263630135e-06, 'epoch': 2.83}\n",
      "{'loss': 0.2525, 'grad_norm': 7.166179656982422, 'learning_rate': 7.596123493895839e-06, 'epoch': 2.83}\n",
      "{'loss': 0.2614, 'grad_norm': 2.6007461547851562, 'learning_rate': 6.891534954310753e-06, 'epoch': 2.84}\n",
      "{'loss': 0.2812, 'grad_norm': 3.479219675064087, 'learning_rate': 6.2210073135160345e-06, 'epoch': 2.85}\n",
      "{'loss': 0.2724, 'grad_norm': 2.651686668395996, 'learning_rate': 5.584586887435621e-06, 'epoch': 2.86}\n",
      "{'loss': 0.2569, 'grad_norm': 3.9098470211029053, 'learning_rate': 4.98231763607665e-06, 'epoch': 2.87}\n",
      "{'loss': 0.2579, 'grad_norm': 11.214137077331543, 'learning_rate': 4.4142411604934994e-06, 'epoch': 2.87}\n",
      "{'loss': 0.2483, 'grad_norm': 2.8630146980285645, 'learning_rate': 3.88039669991387e-06, 'epoch': 2.88}\n",
      "{'loss': 0.2531, 'grad_norm': 10.518815040588379, 'learning_rate': 3.3808211290284016e-06, 'epoch': 2.89}\n",
      "{'loss': 0.2802, 'grad_norm': 1.820604681968689, 'learning_rate': 2.9155489554438585e-06, 'epoch': 2.9}\n",
      "{'loss': 0.2609, 'grad_norm': 3.914822816848755, 'learning_rate': 2.4846123172992313e-06, 'epoch': 2.9}\n",
      "{'loss': 0.2643, 'grad_norm': 2.4996211528778076, 'learning_rate': 2.0880409810460338e-06, 'epoch': 2.91}\n",
      "{'loss': 0.2608, 'grad_norm': 1.3345879316329956, 'learning_rate': 1.725862339392212e-06, 'epoch': 2.92}\n",
      "{'loss': 0.2652, 'grad_norm': 1.8963587284088135, 'learning_rate': 1.3981014094098976e-06, 'epoch': 2.93}\n",
      "{'loss': 0.2551, 'grad_norm': 0.4322461783885956, 'learning_rate': 1.104780830807477e-06, 'epoch': 2.94}\n",
      "{'loss': 0.2496, 'grad_norm': 0.4739512801170349, 'learning_rate': 8.459208643658891e-07, 'epoch': 2.94}\n",
      "{'loss': 0.2648, 'grad_norm': 0.5563646554946899, 'learning_rate': 6.215393905388115e-07, 'epoch': 2.95}\n",
      "{'loss': 0.2633, 'grad_norm': 0.21800275146961212, 'learning_rate': 4.3165190821791137e-07, 'epoch': 2.96}\n",
      "{'loss': 0.2666, 'grad_norm': 1.8232349157333374, 'learning_rate': 2.762715336622133e-07, 'epoch': 2.97}\n",
      "{'loss': 0.2708, 'grad_norm': 0.2838509678840637, 'learning_rate': 1.5540899959187384e-07, 'epoch': 2.98}\n",
      "{'loss': 0.2818, 'grad_norm': 0.45856910943984985, 'learning_rate': 6.907265444716493e-08, 'epoch': 2.98}\n",
      "{'loss': 0.2704, 'grad_norm': 0.9405120611190796, 'learning_rate': 1.7268461811547803e-08, 'epoch': 2.99}\n",
      "{'loss': 0.2576, 'grad_norm': 5.2008490562438965, 'learning_rate': 0.0, 'epoch': 3.0}\n"
     ]
    },
    {
     "data": {
      "application/vnd.jupyter.widget-view+json": {
       "model_id": "28621bc3f1d74970b388e80e6c999d6f",
       "version_major": 2,
       "version_minor": 0
      },
      "text/plain": [
       "  0%|          | 0/7000 [00:00<?, ?it/s]"
      ]
     },
     "metadata": {},
     "output_type": "display_data"
    },
    {
     "name": "stdout",
     "output_type": "stream",
     "text": [
      "{'eval_loss': 0.26412487030029297, 'eval_accuracy': 0.8984285714285715, 'eval_runtime': 42.8509, 'eval_samples_per_second': 1306.856, 'eval_steps_per_second': 163.357, 'epoch': 3.0}\n",
      "{'train_runtime': 2682.002, 'train_samples_per_second': 563.758, 'train_steps_per_second': 70.47, 'train_loss': 0.3945663015375692, 'epoch': 3.0}\n"
     ]
    },
    {
     "data": {
      "application/vnd.jupyter.widget-view+json": {
       "model_id": "0c0ee684506e4edda8eec074605665dc",
       "version_major": 2,
       "version_minor": 0
      },
      "text/plain": [
       "  0%|          | 0/7000 [00:00<?, ?it/s]"
      ]
     },
     "metadata": {},
     "output_type": "display_data"
    },
    {
     "name": "stdout",
     "output_type": "stream",
     "text": [
      "Baseline Evaluation Metrics: {'eval_loss': 0.26412487030029297, 'eval_accuracy': 0.8984285714285715, 'eval_runtime': 43.4737, 'eval_samples_per_second': 1288.135, 'eval_steps_per_second': 161.017, 'epoch': 3.0}\n"
     ]
    }
   ],
   "source": [
    "trainer_base.train()\n",
    "\n",
    "\n",
    "base_metrics = trainer_base.evaluate()\n",
    "print(\"Baseline Evaluation Metrics:\", base_metrics)"
   ]
  },
  {
   "cell_type": "code",
   "execution_count": 25,
   "metadata": {},
   "outputs": [
    {
     "name": "stderr",
     "output_type": "stream",
     "text": [
      "Some weights of BertForSequenceClassification were not initialized from the model checkpoint at prajjwal1/bert-tiny and are newly initialized: ['classifier.bias', 'classifier.weight']\n",
      "You should probably TRAIN this model on a down-stream task to be able to use it for predictions and inference.\n"
     ]
    }
   ],
   "source": [
    "model_bo = BertForSequenceClassification.from_pretrained(pre_t_model, num_labels=2).to(device)\n",
    "\n",
    "\n",
    "for k, v in model_bo.named_parameters():\n",
    "    v.requires_grad = ((\"classifier\" in k) or (\"bias\" in k))\n",
    "\n",
    "\n",
    "optimizer = AdamW(filter(lambda p: p.requires_grad, model_bo.parameters()), lr=my_lr)\n",
    "\n",
    "num_training_steps = len(train_dataset_hf) // training_args.per_device_train_batch_size * training_args.num_train_epochs\n",
    "scheduler = CosineAnnealingLR(optimizer, T_max=num_training_steps)\n",
    "\n",
    "bias_trainer = Trainer(\n",
    "    model=model_bo,\n",
    "    args=training_args,\n",
    "    train_dataset=train_dataset_hf,\n",
    "    eval_dataset=validation_dataset_hf,\n",
    "    compute_metrics=compute_metrics,\n",
    "    optimizers=(optimizer, scheduler)\n",
    ")"
   ]
  },
  {
   "cell_type": "code",
   "execution_count": 26,
   "metadata": {},
   "outputs": [
    {
     "data": {
      "application/vnd.jupyter.widget-view+json": {
       "model_id": "61ba9b8f44c941eab7ae86ea6f898022",
       "version_major": 2,
       "version_minor": 0
      },
      "text/plain": [
       "  0%|          | 0/189000 [00:00<?, ?it/s]"
      ]
     },
     "metadata": {},
     "output_type": "display_data"
    },
    {
     "name": "stdout",
     "output_type": "stream",
     "text": [
      "{'loss': 0.5965, 'grad_norm': 1.5719420909881592, 'learning_rate': 0.0009999827315381878, 'epoch': 0.01}\n",
      "{'loss': 0.543, 'grad_norm': 1.2778270244598389, 'learning_rate': 0.0009999309273455508, 'epoch': 0.02}\n",
      "{'loss': 0.501, 'grad_norm': 2.6090776920318604, 'learning_rate': 0.0009998445910004079, 'epoch': 0.02}\n",
      "{'loss': 0.4877, 'grad_norm': 1.8127431869506836, 'learning_rate': 0.0009997237284663364, 'epoch': 0.03}\n",
      "{'loss': 0.4636, 'grad_norm': 1.4270974397659302, 'learning_rate': 0.0009995683480917817, 'epoch': 0.04}\n",
      "{'loss': 0.4473, 'grad_norm': 3.2317471504211426, 'learning_rate': 0.0009993784606094616, 'epoch': 0.05}\n",
      "{'loss': 0.4383, 'grad_norm': 1.7092515230178833, 'learning_rate': 0.0009991540791356366, 'epoch': 0.06}\n",
      "{'loss': 0.4335, 'grad_norm': 4.4599289894104, 'learning_rate': 0.0009988952191691935, 'epoch': 0.06}\n",
      "{'loss': 0.4092, 'grad_norm': 1.508431077003479, 'learning_rate': 0.0009986018985905876, 'epoch': 0.07}\n",
      "{'loss': 0.4268, 'grad_norm': 2.352168321609497, 'learning_rate': 0.0009982741376606044, 'epoch': 0.08}\n",
      "{'loss': 0.4176, 'grad_norm': 2.354518413543701, 'learning_rate': 0.0009979119590189504, 'epoch': 0.09}\n",
      "{'loss': 0.4042, 'grad_norm': 1.3804954290390015, 'learning_rate': 0.0009975153876826993, 'epoch': 0.1}\n",
      "{'loss': 0.4019, 'grad_norm': 1.7018446922302246, 'learning_rate': 0.0009970844510445538, 'epoch': 0.1}\n",
      "{'loss': 0.397, 'grad_norm': 0.8882279992103577, 'learning_rate': 0.000996619178870973, 'epoch': 0.11}\n",
      "{'loss': 0.4089, 'grad_norm': 1.5056570768356323, 'learning_rate': 0.0009961196033000895, 'epoch': 0.12}\n",
      "{'loss': 0.3925, 'grad_norm': 1.62338387966156, 'learning_rate': 0.0009955857588395088, 'epoch': 0.13}\n",
      "{'loss': 0.3773, 'grad_norm': 2.4534387588500977, 'learning_rate': 0.0009950176823639236, 'epoch': 0.13}\n",
      "{'loss': 0.3715, 'grad_norm': 1.925028920173645, 'learning_rate': 0.000994415413112565, 'epoch': 0.14}\n",
      "{'loss': 0.379, 'grad_norm': 0.5761160254478455, 'learning_rate': 0.0009937789926864845, 'epoch': 0.15}\n",
      "{'loss': 0.3773, 'grad_norm': 0.9486105442047119, 'learning_rate': 0.000993108465045692, 'epoch': 0.16}\n",
      "{'loss': 0.3727, 'grad_norm': 1.5429333448410034, 'learning_rate': 0.0009924038765061086, 'epoch': 0.17}\n",
      "{'loss': 0.3901, 'grad_norm': 3.2285141944885254, 'learning_rate': 0.0009916652757363728, 'epoch': 0.17}\n",
      "{'loss': 0.3831, 'grad_norm': 1.5205034017562866, 'learning_rate': 0.0009908927137544862, 'epoch': 0.18}\n",
      "{'loss': 0.3882, 'grad_norm': 3.1846413612365723, 'learning_rate': 0.0009900862439242738, 'epoch': 0.19}\n",
      "{'loss': 0.3878, 'grad_norm': 1.3522063493728638, 'learning_rate': 0.0009892459219517126, 'epoch': 0.2}\n",
      "{'loss': 0.3878, 'grad_norm': 1.3114033937454224, 'learning_rate': 0.000988371805881074, 'epoch': 0.21}\n",
      "{'loss': 0.393, 'grad_norm': 1.160847544670105, 'learning_rate': 0.0009874639560909114, 'epoch': 0.21}\n",
      "{'loss': 0.3583, 'grad_norm': 2.151806116104126, 'learning_rate': 0.0009865224352899101, 'epoch': 0.22}\n",
      "{'loss': 0.3909, 'grad_norm': 0.5742923617362976, 'learning_rate': 0.0009855473085125352, 'epoch': 0.23}\n",
      "{'loss': 0.3648, 'grad_norm': 0.7755175828933716, 'learning_rate': 0.0009845386431145396, 'epoch': 0.24}\n",
      "{'loss': 0.3688, 'grad_norm': 2.976755142211914, 'learning_rate': 0.000983496508768321, 'epoch': 0.25}\n",
      "{'loss': 0.3862, 'grad_norm': 1.484830379486084, 'learning_rate': 0.0009824209774581152, 'epoch': 0.25}\n",
      "{'loss': 0.3677, 'grad_norm': 2.1018362045288086, 'learning_rate': 0.0009813121234750048, 'epoch': 0.26}\n",
      "{'loss': 0.3671, 'grad_norm': 1.6863775253295898, 'learning_rate': 0.000980170023411794, 'epoch': 0.27}\n",
      "{'loss': 0.3741, 'grad_norm': 2.0030176639556885, 'learning_rate': 0.000978994756157737, 'epoch': 0.28}\n",
      "{'loss': 0.3701, 'grad_norm': 1.7744213342666626, 'learning_rate': 0.0009777864028930612, 'epoch': 0.29}\n",
      "{'loss': 0.3839, 'grad_norm': 1.8454362154006958, 'learning_rate': 0.0009765450470833758, 'epoch': 0.29}\n",
      "{'loss': 0.3815, 'grad_norm': 2.7915446758270264, 'learning_rate': 0.0009752707744739031, 'epoch': 0.3}\n",
      "{'loss': 0.3766, 'grad_norm': 0.929979681968689, 'learning_rate': 0.0009739636730835557, 'epoch': 0.31}\n",
      "{'loss': 0.365, 'grad_norm': 2.2257823944091797, 'learning_rate': 0.0009726238331988534, 'epoch': 0.32}\n",
      "{'loss': 0.3733, 'grad_norm': 0.662832498550415, 'learning_rate': 0.0009712513473676916, 'epoch': 0.33}\n",
      "{'loss': 0.3748, 'grad_norm': 1.5588886737823486, 'learning_rate': 0.0009698463103929469, 'epoch': 0.33}\n",
      "{'loss': 0.3742, 'grad_norm': 2.290097236633301, 'learning_rate': 0.0009684088193259277, 'epoch': 0.34}\n",
      "{'loss': 0.3553, 'grad_norm': 0.629568338394165, 'learning_rate': 0.0009669389734596737, 'epoch': 0.35}\n",
      "{'loss': 0.3673, 'grad_norm': 0.5188210010528564, 'learning_rate': 0.0009654368743220934, 'epoch': 0.36}\n",
      "{'loss': 0.3703, 'grad_norm': 1.4022163152694702, 'learning_rate': 0.0009639026256689524, 'epoch': 0.37}\n",
      "{'loss': 0.3721, 'grad_norm': 4.107607841491699, 'learning_rate': 0.0009623363334767109, 'epoch': 0.37}\n",
      "{'loss': 0.3639, 'grad_norm': 1.692327857017517, 'learning_rate': 0.0009607381059351946, 'epoch': 0.38}\n",
      "{'loss': 0.372, 'grad_norm': 2.3715474605560303, 'learning_rate': 0.0009591080534401286, 'epoch': 0.39}\n",
      "{'loss': 0.3637, 'grad_norm': 0.7035783529281616, 'learning_rate': 0.000957446288585508, 'epoch': 0.4}\n",
      "{'loss': 0.3388, 'grad_norm': 2.1254453659057617, 'learning_rate': 0.0009557529261558284, 'epoch': 0.4}\n",
      "{'loss': 0.3748, 'grad_norm': 0.3311331868171692, 'learning_rate': 0.0009540280831181446, 'epoch': 0.41}\n",
      "{'loss': 0.3618, 'grad_norm': 0.8599694967269897, 'learning_rate': 0.0009522718786140007, 'epoch': 0.42}\n",
      "{'loss': 0.3593, 'grad_norm': 3.106839418411255, 'learning_rate': 0.0009504844339512008, 'epoch': 0.43}\n",
      "{'loss': 0.3573, 'grad_norm': 1.8116339445114136, 'learning_rate': 0.0009486658725954228, 'epoch': 0.44}\n",
      "{'loss': 0.3646, 'grad_norm': 2.88757586479187, 'learning_rate': 0.0009468163201616972, 'epoch': 0.44}\n",
      "{'loss': 0.3562, 'grad_norm': 0.8391751050949097, 'learning_rate': 0.0009449359044057262, 'epoch': 0.45}\n",
      "{'loss': 0.3589, 'grad_norm': 0.7088172435760498, 'learning_rate': 0.00094302475521506, 'epoch': 0.46}\n",
      "{'loss': 0.3806, 'grad_norm': 1.3548294305801392, 'learning_rate': 0.0009410830046001245, 'epoch': 0.47}\n",
      "{'loss': 0.3703, 'grad_norm': 0.6132526397705078, 'learning_rate': 0.0009391107866851081, 'epoch': 0.48}\n",
      "{'loss': 0.3459, 'grad_norm': 1.8523163795471191, 'learning_rate': 0.0009371082376986863, 'epoch': 0.48}\n",
      "{'loss': 0.344, 'grad_norm': 0.6124020218849182, 'learning_rate': 0.000935075495964624, 'epoch': 0.49}\n",
      "{'loss': 0.3618, 'grad_norm': 2.6966466903686523, 'learning_rate': 0.0009330127018922136, 'epoch': 0.5}\n",
      "{'loss': 0.3652, 'grad_norm': 2.4443557262420654, 'learning_rate': 0.0009309199979665752, 'epoch': 0.51}\n",
      "{'loss': 0.3496, 'grad_norm': 1.8429102897644043, 'learning_rate': 0.000928797528738824, 'epoch': 0.52}\n",
      "{'loss': 0.3525, 'grad_norm': 0.8977862596511841, 'learning_rate': 0.0009266454408160716, 'epoch': 0.52}\n",
      "{'loss': 0.3534, 'grad_norm': 0.8374360799789429, 'learning_rate': 0.0009244638828513117, 'epoch': 0.53}\n",
      "{'loss': 0.3554, 'grad_norm': 0.46431395411491394, 'learning_rate': 0.0009222530055331474, 'epoch': 0.54}\n",
      "{'loss': 0.3725, 'grad_norm': 0.7968165278434753, 'learning_rate': 0.000920012961575379, 'epoch': 0.55}\n",
      "{'loss': 0.3626, 'grad_norm': 1.602932333946228, 'learning_rate': 0.0009177439057064629, 'epoch': 0.56}\n",
      "{'loss': 0.3531, 'grad_norm': 1.9224046468734741, 'learning_rate': 0.000915445994658814, 'epoch': 0.56}\n",
      "{'loss': 0.3606, 'grad_norm': 1.381900429725647, 'learning_rate': 0.0009131193871579912, 'epoch': 0.57}\n",
      "{'loss': 0.3714, 'grad_norm': 1.6283440589904785, 'learning_rate': 0.000910764243911724, 'epoch': 0.58}\n",
      "{'loss': 0.3576, 'grad_norm': 3.026571035385132, 'learning_rate': 0.0009083807275988194, 'epoch': 0.59}\n",
      "{'loss': 0.3579, 'grad_norm': 0.5798790454864502, 'learning_rate': 0.0009059690028579189, 'epoch': 0.6}\n",
      "{'loss': 0.3573, 'grad_norm': 1.9977153539657593, 'learning_rate': 0.0009035292362761306, 'epoch': 0.6}\n",
      "{'loss': 0.372, 'grad_norm': 2.3548080921173096, 'learning_rate': 0.000901061596377514, 'epoch': 0.61}\n",
      "{'loss': 0.3615, 'grad_norm': 1.5966651439666748, 'learning_rate': 0.0008985662536114528, 'epoch': 0.62}\n",
      "{'loss': 0.3575, 'grad_norm': 1.9061955213546753, 'learning_rate': 0.0008960433803408727, 'epoch': 0.63}\n",
      "{'loss': 0.3559, 'grad_norm': 3.8630456924438477, 'learning_rate': 0.0008934931508303355, 'epoch': 0.63}\n",
      "{'loss': 0.3551, 'grad_norm': 1.5495654344558716, 'learning_rate': 0.0008909157412340074, 'epoch': 0.64}\n",
      "{'loss': 0.3501, 'grad_norm': 1.6626604795455933, 'learning_rate': 0.0008883113295834827, 'epoch': 0.65}\n",
      "{'loss': 0.3585, 'grad_norm': 1.7976645231246948, 'learning_rate': 0.0008856800957754941, 'epoch': 0.66}\n",
      "{'loss': 0.3695, 'grad_norm': 2.481328010559082, 'learning_rate': 0.0008830222215594848, 'epoch': 0.67}\n",
      "{'loss': 0.366, 'grad_norm': 2.739347219467163, 'learning_rate': 0.0008803378905250499, 'epoch': 0.67}\n",
      "{'loss': 0.3711, 'grad_norm': 0.5589552521705627, 'learning_rate': 0.000877627288089263, 'epoch': 0.68}\n",
      "{'loss': 0.3491, 'grad_norm': 1.0051060914993286, 'learning_rate': 0.0008748906014838618, 'epoch': 0.69}\n",
      "{'loss': 0.339, 'grad_norm': 0.21650680899620056, 'learning_rate': 0.0008721280197423219, 'epoch': 0.7}\n",
      "{'loss': 0.33, 'grad_norm': 0.8178962469100952, 'learning_rate': 0.0008693397336867905, 'epoch': 0.71}\n",
      "{'loss': 0.3576, 'grad_norm': 1.922789216041565, 'learning_rate': 0.0008665259359149114, 'epoch': 0.71}\n",
      "{'loss': 0.337, 'grad_norm': 0.2639082968235016, 'learning_rate': 0.0008636868207865227, 'epoch': 0.72}\n",
      "{'loss': 0.3511, 'grad_norm': 3.5308516025543213, 'learning_rate': 0.0008608225844102289, 'epoch': 0.73}\n",
      "{'loss': 0.3421, 'grad_norm': 3.564664602279663, 'learning_rate': 0.0008579334246298567, 'epoch': 0.74}\n",
      "{'loss': 0.3608, 'grad_norm': 1.0629324913024902, 'learning_rate': 0.0008550195410107888, 'epoch': 0.75}\n",
      "{'loss': 0.339, 'grad_norm': 1.4521058797836304, 'learning_rate': 0.0008520811348261747, 'epoch': 0.75}\n",
      "{'loss': 0.3433, 'grad_norm': 4.926280498504639, 'learning_rate': 0.0008491184090430356, 'epoch': 0.76}\n",
      "{'loss': 0.3521, 'grad_norm': 1.5269262790679932, 'learning_rate': 0.0008461315683082395, 'epoch': 0.77}\n",
      "{'loss': 0.3502, 'grad_norm': 0.8050002455711365, 'learning_rate': 0.0008431208189343662, 'epoch': 0.78}\n",
      "{'loss': 0.3516, 'grad_norm': 2.0122523307800293, 'learning_rate': 0.000840086368885461, 'epoch': 0.79}\n",
      "{'loss': 0.3455, 'grad_norm': 1.63983952999115, 'learning_rate': 0.000837028427762659, 'epoch': 0.79}\n",
      "{'loss': 0.3473, 'grad_norm': 3.8182849884033203, 'learning_rate': 0.0008339472067897209, 'epoch': 0.8}\n",
      "{'loss': 0.3621, 'grad_norm': 0.8445752859115601, 'learning_rate': 0.0008308429187984308, 'epoch': 0.81}\n",
      "{'loss': 0.3535, 'grad_norm': 0.8876587748527527, 'learning_rate': 0.0008277157782139064, 'epoch': 0.82}\n",
      "{'loss': 0.3483, 'grad_norm': 0.8752893805503845, 'learning_rate': 0.0008245660010397774, 'epoch': 0.83}\n",
      "{'loss': 0.362, 'grad_norm': 1.643385410308838, 'learning_rate': 0.0008213938048432697, 'epoch': 0.83}\n",
      "{'loss': 0.3586, 'grad_norm': 1.1585652828216553, 'learning_rate': 0.0008181994087401825, 'epoch': 0.84}\n",
      "{'loss': 0.3567, 'grad_norm': 1.9500782489776611, 'learning_rate': 0.0008149830333797412, 'epoch': 0.85}\n",
      "{'loss': 0.331, 'grad_norm': 3.770512104034424, 'learning_rate': 0.0008117449009293674, 'epoch': 0.86}\n",
      "{'loss': 0.343, 'grad_norm': 0.7491055130958557, 'learning_rate': 0.0008084852350593266, 'epoch': 0.87}\n",
      "{'loss': 0.3316, 'grad_norm': 3.822934150695801, 'learning_rate': 0.0008052042609272838, 'epoch': 0.87}\n",
      "{'loss': 0.3434, 'grad_norm': 0.3612067699432373, 'learning_rate': 0.0008019022051627403, 'epoch': 0.88}\n",
      "{'loss': 0.3557, 'grad_norm': 1.6061352491378784, 'learning_rate': 0.0007985792958513954, 'epoch': 0.89}\n",
      "{'loss': 0.3449, 'grad_norm': 2.0696256160736084, 'learning_rate': 0.0007952357625193784, 'epoch': 0.9}\n",
      "{'loss': 0.3213, 'grad_norm': 2.330925703048706, 'learning_rate': 0.0007918718361173983, 'epoch': 0.9}\n",
      "{'loss': 0.3477, 'grad_norm': 5.874942302703857, 'learning_rate': 0.000788487749004796, 'epoch': 0.91}\n",
      "{'loss': 0.3474, 'grad_norm': 3.2721872329711914, 'learning_rate': 0.0007850837349334848, 'epoch': 0.92}\n",
      "{'loss': 0.3599, 'grad_norm': 1.8733508586883545, 'learning_rate': 0.0007816600290318134, 'epoch': 0.93}\n",
      "{'loss': 0.3456, 'grad_norm': 2.2008819580078125, 'learning_rate': 0.0007782168677883215, 'epoch': 0.94}\n",
      "{'loss': 0.3439, 'grad_norm': 1.9213954210281372, 'learning_rate': 0.0007747544890354045, 'epoch': 0.94}\n",
      "{'loss': 0.3429, 'grad_norm': 2.9567172527313232, 'learning_rate': 0.0007712731319328822, 'epoch': 0.95}\n",
      "{'loss': 0.3511, 'grad_norm': 4.69365930557251, 'learning_rate': 0.0007677730369514809, 'epoch': 0.96}\n",
      "{'loss': 0.3561, 'grad_norm': 2.049708843231201, 'learning_rate': 0.0007642544458562289, 'epoch': 0.97}\n",
      "{'loss': 0.3451, 'grad_norm': 0.8703842759132385, 'learning_rate': 0.00076071760168975, 'epoch': 0.98}\n",
      "{'loss': 0.3385, 'grad_norm': 1.450282335281372, 'learning_rate': 0.0007571627487554779, 'epoch': 0.98}\n",
      "{'loss': 0.3526, 'grad_norm': 1.3815912008285522, 'learning_rate': 0.0007535901326007822, 'epoch': 0.99}\n",
      "{'loss': 0.3504, 'grad_norm': 2.7418971061706543, 'learning_rate': 0.0007500000000000003, 'epoch': 1.0}\n"
     ]
    },
    {
     "data": {
      "application/vnd.jupyter.widget-view+json": {
       "model_id": "6d55f9bd27f44da28e09cbd418b1e8aa",
       "version_major": 2,
       "version_minor": 0
      },
      "text/plain": [
       "  0%|          | 0/7000 [00:00<?, ?it/s]"
      ]
     },
     "metadata": {},
     "output_type": "display_data"
    },
    {
     "name": "stdout",
     "output_type": "stream",
     "text": [
      "{'eval_loss': 0.3011280298233032, 'eval_accuracy': 0.8739285714285714, 'eval_runtime': 42.462, 'eval_samples_per_second': 1318.827, 'eval_steps_per_second': 164.853, 'epoch': 1.0}\n",
      "{'loss': 0.3375, 'grad_norm': 2.1949007511138916, 'learning_rate': 0.000746392598937408, 'epoch': 1.01}\n",
      "{'loss': 0.3452, 'grad_norm': 0.9887603521347046, 'learning_rate': 0.0007427681785900739, 'epoch': 1.02}\n",
      "{'loss': 0.3494, 'grad_norm': 1.8697959184646606, 'learning_rate': 0.0007391269893106565, 'epoch': 1.02}\n",
      "{'loss': 0.3548, 'grad_norm': 0.2774420380592346, 'learning_rate': 0.0007354692826101063, 'epoch': 1.03}\n",
      "{'loss': 0.357, 'grad_norm': 2.3704824447631836, 'learning_rate': 0.0007317953111402983, 'epoch': 1.04}\n",
      "{'loss': 0.343, 'grad_norm': 2.596898317337036, 'learning_rate': 0.0007281053286765773, 'epoch': 1.05}\n",
      "{'loss': 0.3415, 'grad_norm': 1.284769058227539, 'learning_rate': 0.0007243995901002281, 'epoch': 1.06}\n",
      "{'loss': 0.3417, 'grad_norm': 2.996037483215332, 'learning_rate': 0.0007206783513808714, 'epoch': 1.06}\n",
      "{'loss': 0.3285, 'grad_norm': 5.511104106903076, 'learning_rate': 0.0007169418695587796, 'epoch': 1.07}\n",
      "{'loss': 0.3526, 'grad_norm': 1.353256106376648, 'learning_rate': 0.0007131904027271277, 'epoch': 1.08}\n",
      "{'loss': 0.335, 'grad_norm': 1.786152958869934, 'learning_rate': 0.0007094242100141628, 'epoch': 1.09}\n",
      "{'loss': 0.3537, 'grad_norm': 3.5215823650360107, 'learning_rate': 0.0007056435515653061, 'epoch': 1.1}\n",
      "{'loss': 0.331, 'grad_norm': 1.1961016654968262, 'learning_rate': 0.0007018486885251816, 'epoch': 1.1}\n",
      "{'loss': 0.3479, 'grad_norm': 2.4581799507141113, 'learning_rate': 0.0006980398830195795, 'epoch': 1.11}\n",
      "{'loss': 0.3262, 'grad_norm': 1.7233145236968994, 'learning_rate': 0.0006942173981373494, 'epoch': 1.12}\n",
      "{'loss': 0.3387, 'grad_norm': 2.855328321456909, 'learning_rate': 0.0006903814979122268, 'epoch': 1.13}\n",
      "{'loss': 0.3452, 'grad_norm': 1.2175180912017822, 'learning_rate': 0.0006865324473046005, 'epoch': 1.13}\n",
      "{'loss': 0.3368, 'grad_norm': 4.436685562133789, 'learning_rate': 0.0006826705121832004, 'epoch': 1.14}\n",
      "{'loss': 0.3547, 'grad_norm': 1.4713460206985474, 'learning_rate': 0.0006787959593067451, 'epoch': 1.15}\n",
      "{'loss': 0.341, 'grad_norm': 1.668887734413147, 'learning_rate': 0.000674909056305511, 'epoch': 1.16}\n",
      "{'loss': 0.3311, 'grad_norm': 2.987309217453003, 'learning_rate': 0.0006710100716628377, 'epoch': 1.17}\n",
      "{'loss': 0.3265, 'grad_norm': 0.9257135391235352, 'learning_rate': 0.0006670992746965958, 'epoch': 1.17}\n",
      "{'loss': 0.3521, 'grad_norm': 2.1457173824310303, 'learning_rate': 0.0006631769355405813, 'epoch': 1.18}\n",
      "{'loss': 0.3501, 'grad_norm': 1.9654570817947388, 'learning_rate': 0.0006592433251258466, 'epoch': 1.19}\n",
      "{'loss': 0.3246, 'grad_norm': 1.7382631301879883, 'learning_rate': 0.000655298715161996, 'epoch': 1.2}\n",
      "{'loss': 0.348, 'grad_norm': 0.8329317569732666, 'learning_rate': 0.0006513433781184182, 'epoch': 1.21}\n",
      "{'loss': 0.3426, 'grad_norm': 6.030394554138184, 'learning_rate': 0.0006473775872054565, 'epoch': 1.21}\n",
      "{'loss': 0.3561, 'grad_norm': 1.5623835325241089, 'learning_rate': 0.0006434016163555477, 'epoch': 1.22}\n",
      "{'loss': 0.3432, 'grad_norm': 1.8085261583328247, 'learning_rate': 0.000639415740204298, 'epoch': 1.23}\n",
      "{'loss': 0.3439, 'grad_norm': 2.9661266803741455, 'learning_rate': 0.0006354202340715055, 'epoch': 1.24}\n",
      "{'loss': 0.3455, 'grad_norm': 2.500305414199829, 'learning_rate': 0.0006314153739421495, 'epoch': 1.25}\n",
      "{'loss': 0.3211, 'grad_norm': 1.4561411142349243, 'learning_rate': 0.0006274014364473281, 'epoch': 1.25}\n",
      "{'loss': 0.3389, 'grad_norm': 1.146544337272644, 'learning_rate': 0.0006233786988451483, 'epoch': 1.26}\n",
      "{'loss': 0.3659, 'grad_norm': 2.7605884075164795, 'learning_rate': 0.0006193474390015721, 'epoch': 1.27}\n",
      "{'loss': 0.3224, 'grad_norm': 1.5559751987457275, 'learning_rate': 0.0006153079353712223, 'epoch': 1.28}\n",
      "{'loss': 0.3332, 'grad_norm': 1.358911395072937, 'learning_rate': 0.0006112604669781588, 'epoch': 1.29}\n",
      "{'loss': 0.3351, 'grad_norm': 1.9355002641677856, 'learning_rate': 0.0006072053133965967, 'epoch': 1.29}\n",
      "{'loss': 0.3386, 'grad_norm': 1.2868379354476929, 'learning_rate': 0.0006031427547315905, 'epoch': 1.3}\n",
      "{'loss': 0.3252, 'grad_norm': 3.866034984588623, 'learning_rate': 0.0005990730715996998, 'epoch': 1.31}\n",
      "{'loss': 0.3439, 'grad_norm': 2.3995864391326904, 'learning_rate': 0.0005949965451095959, 'epoch': 1.32}\n",
      "{'loss': 0.3331, 'grad_norm': 1.7742230892181396, 'learning_rate': 0.000590913456842647, 'epoch': 1.33}\n",
      "{'loss': 0.3388, 'grad_norm': 0.8020460605621338, 'learning_rate': 0.0005868240888334663, 'epoch': 1.33}\n",
      "{'loss': 0.332, 'grad_norm': 3.1591622829437256, 'learning_rate': 0.0005827287235504365, 'epoch': 1.34}\n",
      "{'loss': 0.3467, 'grad_norm': 1.932963252067566, 'learning_rate': 0.0005786276438761936, 'epoch': 1.35}\n",
      "{'loss': 0.3368, 'grad_norm': 3.505781412124634, 'learning_rate': 0.0005745211330880892, 'epoch': 1.36}\n",
      "{'loss': 0.3561, 'grad_norm': 2.296152114868164, 'learning_rate': 0.0005704094748386198, 'epoch': 1.37}\n",
      "{'loss': 0.3315, 'grad_norm': 2.627197504043579, 'learning_rate': 0.0005662929531358416, 'epoch': 1.37}\n",
      "{'loss': 0.3457, 'grad_norm': 3.6374740600585938, 'learning_rate': 0.0005621718523237435, 'epoch': 1.38}\n",
      "{'loss': 0.3691, 'grad_norm': 1.0278148651123047, 'learning_rate': 0.0005580464570626158, 'epoch': 1.39}\n",
      "{'loss': 0.3555, 'grad_norm': 2.431588649749756, 'learning_rate': 0.0005539170523093804, 'epoch': 1.4}\n",
      "{'loss': 0.3357, 'grad_norm': 0.348193496465683, 'learning_rate': 0.0005497839232979086, 'epoch': 1.4}\n",
      "{'loss': 0.3494, 'grad_norm': 1.1018027067184448, 'learning_rate': 0.0005456473555193241, 'epoch': 1.41}\n",
      "{'loss': 0.3294, 'grad_norm': 4.268649578094482, 'learning_rate': 0.0005415076347022775, 'epoch': 1.42}\n",
      "{'loss': 0.3419, 'grad_norm': 1.7938454151153564, 'learning_rate': 0.0005373650467932127, 'epoch': 1.43}\n",
      "{'loss': 0.3258, 'grad_norm': 0.27428939938545227, 'learning_rate': 0.0005332198779366119, 'epoch': 1.44}\n",
      "{'loss': 0.3483, 'grad_norm': 1.225600004196167, 'learning_rate': 0.0005290724144552388, 'epoch': 1.44}\n",
      "{'loss': 0.3516, 'grad_norm': 1.5386980772018433, 'learning_rate': 0.0005249229428303491, 'epoch': 1.45}\n",
      "{'loss': 0.3357, 'grad_norm': 1.6888453960418701, 'learning_rate': 0.0005207717496819131, 'epoch': 1.46}\n",
      "{'loss': 0.3452, 'grad_norm': 2.271475315093994, 'learning_rate': 0.0005166191217488125, 'epoch': 1.47}\n",
      "{'loss': 0.3458, 'grad_norm': 2.0729620456695557, 'learning_rate': 0.0005124653458690354, 'epoch': 1.48}\n",
      "{'loss': 0.3301, 'grad_norm': 2.412276268005371, 'learning_rate': 0.0005083107089598615, 'epoch': 1.48}\n",
      "{'loss': 0.3524, 'grad_norm': 1.5721731185913086, 'learning_rate': 0.0005041554979980473, 'epoch': 1.49}\n",
      "{'loss': 0.3248, 'grad_norm': 1.495683193206787, 'learning_rate': 0.0004999999999999977, 'epoch': 1.5}\n",
      "{'loss': 0.3464, 'grad_norm': 1.6987719535827637, 'learning_rate': 0.0004958445020019477, 'epoch': 1.51}\n",
      "{'loss': 0.3315, 'grad_norm': 0.33696460723876953, 'learning_rate': 0.0004916892910401335, 'epoch': 1.52}\n",
      "{'loss': 0.3537, 'grad_norm': 0.8748921155929565, 'learning_rate': 0.0004875346541309599, 'epoch': 1.52}\n",
      "{'loss': 0.3309, 'grad_norm': 2.569871664047241, 'learning_rate': 0.0004833808782511831, 'epoch': 1.53}\n",
      "{'loss': 0.3277, 'grad_norm': 0.8489953279495239, 'learning_rate': 0.000479228250318083, 'epoch': 1.54}\n",
      "{'loss': 0.3299, 'grad_norm': 1.6376010179519653, 'learning_rate': 0.0004750770571696477, 'epoch': 1.55}\n",
      "{'loss': 0.3211, 'grad_norm': 1.6216272115707397, 'learning_rate': 0.0004709275855447582, 'epoch': 1.56}\n",
      "{'loss': 0.3165, 'grad_norm': 3.3229241371154785, 'learning_rate': 0.0004667801220633835, 'epoch': 1.56}\n",
      "{'loss': 0.329, 'grad_norm': 0.8986523151397705, 'learning_rate': 0.00046263495320678305, 'epoch': 1.57}\n",
      "{'loss': 0.3514, 'grad_norm': 1.2308374643325806, 'learning_rate': 0.00045849236529771695, 'epoch': 1.58}\n",
      "{'loss': 0.3389, 'grad_norm': 1.102185606956482, 'learning_rate': 0.00045435264448067097, 'epoch': 1.59}\n",
      "{'loss': 0.338, 'grad_norm': 1.5278974771499634, 'learning_rate': 0.00045021607670208677, 'epoch': 1.6}\n",
      "{'loss': 0.3319, 'grad_norm': 1.1572258472442627, 'learning_rate': 0.0004460829476906153, 'epoch': 1.6}\n",
      "{'loss': 0.3285, 'grad_norm': 0.27921661734580994, 'learning_rate': 0.00044195354293738, 'epoch': 1.61}\n",
      "{'loss': 0.3104, 'grad_norm': 1.5960400104522705, 'learning_rate': 0.00043782814767625265, 'epoch': 1.62}\n",
      "{'loss': 0.3366, 'grad_norm': 1.1580125093460083, 'learning_rate': 0.00043370704686415505, 'epoch': 1.63}\n",
      "{'loss': 0.3347, 'grad_norm': 2.523340940475464, 'learning_rate': 0.0004295905251613773, 'epoch': 1.63}\n",
      "{'loss': 0.3383, 'grad_norm': 5.368892192840576, 'learning_rate': 0.00042547886691190844, 'epoch': 1.64}\n",
      "{'loss': 0.3595, 'grad_norm': 2.2315738201141357, 'learning_rate': 0.00042137235612380323, 'epoch': 1.65}\n",
      "{'loss': 0.3342, 'grad_norm': 1.866278886795044, 'learning_rate': 0.0004172712764495598, 'epoch': 1.66}\n",
      "{'loss': 0.3233, 'grad_norm': 0.723024845123291, 'learning_rate': 0.00041317591116652954, 'epoch': 1.67}\n",
      "{'loss': 0.3342, 'grad_norm': 2.091665744781494, 'learning_rate': 0.00040908654315734855, 'epoch': 1.67}\n",
      "{'loss': 0.3371, 'grad_norm': 1.9852144718170166, 'learning_rate': 0.0004050034548903993, 'epoch': 1.68}\n",
      "{'loss': 0.333, 'grad_norm': 1.239211916923523, 'learning_rate': 0.0004009269284002956, 'epoch': 1.69}\n",
      "{'loss': 0.3234, 'grad_norm': 2.4824607372283936, 'learning_rate': 0.00039685724526840647, 'epoch': 1.7}\n",
      "{'loss': 0.3415, 'grad_norm': 0.6678121089935303, 'learning_rate': 0.00039279468660340073, 'epoch': 1.71}\n",
      "{'loss': 0.3261, 'grad_norm': 0.6879016160964966, 'learning_rate': 0.0003887395330218373, 'epoch': 1.71}\n",
      "{'loss': 0.3429, 'grad_norm': 0.6964395642280579, 'learning_rate': 0.0003846920646287746, 'epoch': 1.72}\n",
      "{'loss': 0.3511, 'grad_norm': 1.7301369905471802, 'learning_rate': 0.0003806525609984258, 'epoch': 1.73}\n",
      "{'loss': 0.3336, 'grad_norm': 0.9418743848800659, 'learning_rate': 0.0003766213011548478, 'epoch': 1.74}\n",
      "{'loss': 0.3398, 'grad_norm': 1.6944472789764404, 'learning_rate': 0.00037259856355266626, 'epoch': 1.75}\n",
      "{'loss': 0.3324, 'grad_norm': 2.043924570083618, 'learning_rate': 0.00036858462605784633, 'epoch': 1.75}\n",
      "{'loss': 0.3514, 'grad_norm': 2.2238831520080566, 'learning_rate': 0.00036457976592849225, 'epoch': 1.76}\n",
      "{'loss': 0.3176, 'grad_norm': 4.160632133483887, 'learning_rate': 0.0003605842597957003, 'epoch': 1.77}\n",
      "{'loss': 0.3119, 'grad_norm': 2.2265267372131348, 'learning_rate': 0.0003565983836444507, 'epoch': 1.78}\n",
      "{'loss': 0.333, 'grad_norm': 0.4686943590641022, 'learning_rate': 0.0003526224127945441, 'epoch': 1.79}\n",
      "{'loss': 0.3361, 'grad_norm': 2.535830497741699, 'learning_rate': 0.0003486566218815836, 'epoch': 1.79}\n",
      "{'loss': 0.3318, 'grad_norm': 2.5645110607147217, 'learning_rate': 0.00034470128483800414, 'epoch': 1.8}\n",
      "{'loss': 0.3563, 'grad_norm': 3.2494354248046875, 'learning_rate': 0.0003407566748741544, 'epoch': 1.81}\n",
      "{'loss': 0.3426, 'grad_norm': 2.459894895553589, 'learning_rate': 0.0003368230644594195, 'epoch': 1.82}\n",
      "{'loss': 0.3351, 'grad_norm': 3.0252723693847656, 'learning_rate': 0.0003329007253034034, 'epoch': 1.83}\n",
      "{'loss': 0.3316, 'grad_norm': 1.36589777469635, 'learning_rate': 0.00032898992833716226, 'epoch': 1.83}\n",
      "{'loss': 0.3369, 'grad_norm': 0.620134711265564, 'learning_rate': 0.0003250909436944895, 'epoch': 1.84}\n",
      "{'loss': 0.336, 'grad_norm': 1.0263925790786743, 'learning_rate': 0.0003212040406932541, 'epoch': 1.85}\n",
      "{'loss': 0.3424, 'grad_norm': 0.9591308832168579, 'learning_rate': 0.00031732948781679963, 'epoch': 1.86}\n",
      "{'loss': 0.3274, 'grad_norm': 1.0462766885757446, 'learning_rate': 0.00031346755269539927, 'epoch': 1.87}\n",
      "{'loss': 0.3267, 'grad_norm': 3.2906246185302734, 'learning_rate': 0.0003096185020877707, 'epoch': 1.87}\n",
      "{'loss': 0.3342, 'grad_norm': 2.3379671573638916, 'learning_rate': 0.0003057826018626484, 'epoch': 1.88}\n",
      "{'loss': 0.3373, 'grad_norm': 3.0427775382995605, 'learning_rate': 0.0003019601169804173, 'epoch': 1.89}\n",
      "{'loss': 0.3395, 'grad_norm': 2.084867000579834, 'learning_rate': 0.00029815131147481407, 'epoch': 1.9}\n",
      "{'loss': 0.3361, 'grad_norm': 1.3210601806640625, 'learning_rate': 0.0002943564484346892, 'epoch': 1.9}\n",
      "{'loss': 0.3427, 'grad_norm': 0.19819886982440948, 'learning_rate': 0.0002905757899858323, 'epoch': 1.91}\n",
      "{'loss': 0.322, 'grad_norm': 2.953993082046509, 'learning_rate': 0.00028680959727286795, 'epoch': 1.92}\n",
      "{'loss': 0.3438, 'grad_norm': 1.128592848777771, 'learning_rate': 0.0002830581304412158, 'epoch': 1.93}\n",
      "{'loss': 0.3456, 'grad_norm': 1.4269729852676392, 'learning_rate': 0.00027932164861912295, 'epoch': 1.94}\n",
      "{'loss': 0.3278, 'grad_norm': 1.1664422750473022, 'learning_rate': 0.00027560040989976455, 'epoch': 1.94}\n",
      "{'loss': 0.3328, 'grad_norm': 2.5654072761535645, 'learning_rate': 0.0002718946713234148, 'epoch': 1.95}\n",
      "{'loss': 0.3335, 'grad_norm': 1.385480523109436, 'learning_rate': 0.00026820468885969424, 'epoch': 1.96}\n",
      "{'loss': 0.3397, 'grad_norm': 1.3195786476135254, 'learning_rate': 0.000264530717389887, 'epoch': 1.97}\n",
      "{'loss': 0.3191, 'grad_norm': 3.6117711067199707, 'learning_rate': 0.0002608730106893377, 'epoch': 1.98}\n",
      "{'loss': 0.3484, 'grad_norm': 1.5608317852020264, 'learning_rate': 0.00025723182140992106, 'epoch': 1.98}\n",
      "{'loss': 0.3315, 'grad_norm': 1.3085193634033203, 'learning_rate': 0.0002536074010625877, 'epoch': 1.99}\n",
      "{'loss': 0.351, 'grad_norm': 3.138443946838379, 'learning_rate': 0.0002499999999999965, 'epoch': 2.0}\n"
     ]
    },
    {
     "data": {
      "application/vnd.jupyter.widget-view+json": {
       "model_id": "866e76058b844c3fbc960eacb5e3033c",
       "version_major": 2,
       "version_minor": 0
      },
      "text/plain": [
       "  0%|          | 0/7000 [00:00<?, ?it/s]"
      ]
     },
     "metadata": {},
     "output_type": "display_data"
    },
    {
     "name": "stdout",
     "output_type": "stream",
     "text": [
      "{'eval_loss': 0.308550089597702, 'eval_accuracy': 0.8688571428571429, 'eval_runtime': 44.7734, 'eval_samples_per_second': 1250.743, 'eval_steps_per_second': 156.343, 'epoch': 2.0}\n",
      "{'loss': 0.3343, 'grad_norm': 3.1756298542022705, 'learning_rate': 0.0002464098673992169, 'epoch': 2.01}\n",
      "{'loss': 0.3361, 'grad_norm': 1.007728099822998, 'learning_rate': 0.00024283725124451996, 'epoch': 2.02}\n",
      "{'loss': 0.3301, 'grad_norm': 3.272610664367676, 'learning_rate': 0.00023928239831024807, 'epoch': 2.02}\n",
      "{'loss': 0.3477, 'grad_norm': 2.4069912433624268, 'learning_rate': 0.0002357455541437694, 'epoch': 2.03}\n",
      "{'loss': 0.3312, 'grad_norm': 1.4213545322418213, 'learning_rate': 0.00023222696304851776, 'epoch': 2.04}\n",
      "{'loss': 0.3226, 'grad_norm': 1.8949302434921265, 'learning_rate': 0.00022872686806711714, 'epoch': 2.05}\n",
      "{'loss': 0.3389, 'grad_norm': 2.0771470069885254, 'learning_rate': 0.0002252455109645942, 'epoch': 2.06}\n",
      "{'loss': 0.3272, 'grad_norm': 1.2956396341323853, 'learning_rate': 0.00022178313221167675, 'epoch': 2.06}\n",
      "{'loss': 0.3302, 'grad_norm': 2.8773486614227295, 'learning_rate': 0.00021833997096818632, 'epoch': 2.07}\n",
      "{'loss': 0.332, 'grad_norm': 1.37791907787323, 'learning_rate': 0.0002149162650665163, 'epoch': 2.08}\n",
      "{'loss': 0.3364, 'grad_norm': 1.221606731414795, 'learning_rate': 0.0002115122509952056, 'epoch': 2.09}\n",
      "{'loss': 0.3291, 'grad_norm': 1.9583600759506226, 'learning_rate': 0.00020812816388260215, 'epoch': 2.1}\n",
      "{'loss': 0.3374, 'grad_norm': 1.8046592473983765, 'learning_rate': 0.0002047642374806219, 'epoch': 2.1}\n",
      "{'loss': 0.3328, 'grad_norm': 0.8067076206207275, 'learning_rate': 0.00020142070414860401, 'epoch': 2.11}\n",
      "{'loss': 0.3123, 'grad_norm': 2.7822916507720947, 'learning_rate': 0.00019809779483725832, 'epoch': 2.12}\n",
      "{'loss': 0.3317, 'grad_norm': 1.7935965061187744, 'learning_rate': 0.00019479573907271505, 'epoch': 2.13}\n",
      "{'loss': 0.3206, 'grad_norm': 3.687098503112793, 'learning_rate': 0.00019151476494067056, 'epoch': 2.13}\n",
      "{'loss': 0.3281, 'grad_norm': 0.5550763010978699, 'learning_rate': 0.00018825509907062987, 'epoch': 2.14}\n",
      "{'loss': 0.3064, 'grad_norm': 2.040226936340332, 'learning_rate': 0.00018501696662025582, 'epoch': 2.15}\n",
      "{'loss': 0.3157, 'grad_norm': 2.1255922317504883, 'learning_rate': 0.00018180059125981468, 'epoch': 2.16}\n",
      "{'loss': 0.3368, 'grad_norm': 3.8273556232452393, 'learning_rate': 0.0001786061951567266, 'epoch': 2.17}\n",
      "{'loss': 0.3423, 'grad_norm': 0.6126759648323059, 'learning_rate': 0.00017543399896022022, 'epoch': 2.17}\n",
      "{'loss': 0.3428, 'grad_norm': 1.7592970132827759, 'learning_rate': 0.00017228422178609148, 'epoch': 2.18}\n",
      "{'loss': 0.3385, 'grad_norm': 1.5379483699798584, 'learning_rate': 0.00016915708120156744, 'epoch': 2.19}\n",
      "{'loss': 0.3249, 'grad_norm': 1.466424822807312, 'learning_rate': 0.00016605279321027858, 'epoch': 2.2}\n",
      "{'loss': 0.3264, 'grad_norm': 3.6622955799102783, 'learning_rate': 0.0001629715722373396, 'epoch': 2.21}\n",
      "{'loss': 0.3402, 'grad_norm': 0.04289115592837334, 'learning_rate': 0.00015991363111453764, 'epoch': 2.21}\n",
      "{'loss': 0.3407, 'grad_norm': 2.135558605194092, 'learning_rate': 0.00015687918106563055, 'epoch': 2.22}\n",
      "{'loss': 0.3405, 'grad_norm': 2.244669198989868, 'learning_rate': 0.00015386843169175752, 'epoch': 2.23}\n",
      "{'loss': 0.3332, 'grad_norm': 3.9982481002807617, 'learning_rate': 0.0001508815909569612, 'epoch': 2.24}\n",
      "{'loss': 0.3353, 'grad_norm': 2.5586812496185303, 'learning_rate': 0.00014791886517382172, 'epoch': 2.25}\n",
      "{'loss': 0.3286, 'grad_norm': 2.196972131729126, 'learning_rate': 0.00014498045898920768, 'epoch': 2.25}\n",
      "{'loss': 0.3183, 'grad_norm': 1.7348458766937256, 'learning_rate': 0.00014206657537013854, 'epoch': 2.26}\n",
      "{'loss': 0.335, 'grad_norm': 2.3138387203216553, 'learning_rate': 0.00013917741558976663, 'epoch': 2.27}\n",
      "{'loss': 0.3234, 'grad_norm': 0.14953573048114777, 'learning_rate': 0.00013631317921347343, 'epoch': 2.28}\n",
      "{'loss': 0.3261, 'grad_norm': 2.585029363632202, 'learning_rate': 0.00013347406408508472, 'epoch': 2.29}\n",
      "{'loss': 0.327, 'grad_norm': 0.46299558877944946, 'learning_rate': 0.0001306602663132048, 'epoch': 2.29}\n",
      "{'loss': 0.3203, 'grad_norm': 2.2147488594055176, 'learning_rate': 0.00012787198025767158, 'epoch': 2.3}\n",
      "{'loss': 0.3505, 'grad_norm': 2.494645595550537, 'learning_rate': 0.00012510939851613032, 'epoch': 2.31}\n",
      "{'loss': 0.3486, 'grad_norm': 1.6052480936050415, 'learning_rate': 0.0001223727119107301, 'epoch': 2.32}\n",
      "{'loss': 0.3206, 'grad_norm': 0.5421527624130249, 'learning_rate': 0.00011966210947494351, 'epoch': 2.33}\n",
      "{'loss': 0.3274, 'grad_norm': 0.9469114542007446, 'learning_rate': 0.00011697777844050885, 'epoch': 2.33}\n",
      "{'loss': 0.3248, 'grad_norm': 0.28911519050598145, 'learning_rate': 0.00011431990422449805, 'epoch': 2.34}\n",
      "{'loss': 0.3294, 'grad_norm': 2.6595027446746826, 'learning_rate': 0.00011168867041650883, 'epoch': 2.35}\n",
      "{'loss': 0.3384, 'grad_norm': 1.8867628574371338, 'learning_rate': 0.00010908425876598306, 'epoch': 2.36}\n",
      "{'loss': 0.3333, 'grad_norm': 1.300641417503357, 'learning_rate': 0.00010650684916965351, 'epoch': 2.37}\n",
      "{'loss': 0.3412, 'grad_norm': 0.5720813274383545, 'learning_rate': 0.00010395661965911698, 'epoch': 2.37}\n",
      "{'loss': 0.3218, 'grad_norm': 4.226802349090576, 'learning_rate': 0.00010143374638853694, 'epoch': 2.38}\n",
      "{'loss': 0.3226, 'grad_norm': 2.271239757537842, 'learning_rate': 9.89384036224764e-05, 'epoch': 2.39}\n",
      "{'loss': 0.3305, 'grad_norm': 0.5200440883636475, 'learning_rate': 9.64707637238603e-05, 'epoch': 2.4}\n",
      "{'loss': 0.3299, 'grad_norm': 1.0549458265304565, 'learning_rate': 9.403099714207015e-05, 'epoch': 2.4}\n",
      "{'loss': 0.3408, 'grad_norm': 1.443837285041809, 'learning_rate': 9.161927240117005e-05, 'epoch': 2.41}\n",
      "{'loss': 0.3289, 'grad_norm': 3.6169803142547607, 'learning_rate': 8.923575608826652e-05, 'epoch': 2.42}\n",
      "{'loss': 0.3137, 'grad_norm': 1.536583423614502, 'learning_rate': 8.688061284200114e-05, 'epoch': 2.43}\n",
      "{'loss': 0.3361, 'grad_norm': 1.9593660831451416, 'learning_rate': 8.455400534117866e-05, 'epoch': 2.44}\n",
      "{'loss': 0.3235, 'grad_norm': 2.180131435394287, 'learning_rate': 8.225609429353037e-05, 'epoch': 2.44}\n",
      "{'loss': 0.334, 'grad_norm': 0.9988478422164917, 'learning_rate': 7.998703842461281e-05, 'epoch': 2.45}\n",
      "{'loss': 0.3428, 'grad_norm': 1.3210055828094482, 'learning_rate': 7.77469944668445e-05, 'epoch': 2.46}\n",
      "{'loss': 0.3128, 'grad_norm': 0.9549775123596191, 'learning_rate': 7.553611714867988e-05, 'epoch': 2.47}\n",
      "{'loss': 0.316, 'grad_norm': 1.1714810132980347, 'learning_rate': 7.335455918392062e-05, 'epoch': 2.48}\n",
      "{'loss': 0.3298, 'grad_norm': 0.8642616868019104, 'learning_rate': 7.120247126116892e-05, 'epoch': 2.48}\n",
      "{'loss': 0.3343, 'grad_norm': 3.010511636734009, 'learning_rate': 6.908000203341678e-05, 'epoch': 2.49}\n",
      "{'loss': 0.3458, 'grad_norm': 4.155538082122803, 'learning_rate': 6.698729810777942e-05, 'epoch': 2.5}\n",
      "{'loss': 0.3067, 'grad_norm': 2.605259895324707, 'learning_rate': 6.49245040353682e-05, 'epoch': 2.51}\n",
      "{'loss': 0.3196, 'grad_norm': 3.1866812705993652, 'learning_rate': 6.289176230130584e-05, 'epoch': 2.52}\n",
      "{'loss': 0.3382, 'grad_norm': 1.2892957925796509, 'learning_rate': 6.088921331488441e-05, 'epoch': 2.52}\n",
      "{'loss': 0.3291, 'grad_norm': 2.6497676372528076, 'learning_rate': 5.8916995399866655e-05, 'epoch': 2.53}\n",
      "{'loss': 0.335, 'grad_norm': 1.74672269821167, 'learning_rate': 5.697524478493177e-05, 'epoch': 2.54}\n",
      "{'loss': 0.3361, 'grad_norm': 0.39940401911735535, 'learning_rate': 5.506409559426466e-05, 'epoch': 2.55}\n",
      "{'loss': 0.3258, 'grad_norm': 1.4001133441925049, 'learning_rate': 5.318367983829289e-05, 'epoch': 2.56}\n",
      "{'loss': 0.3317, 'grad_norm': 1.9001601934432983, 'learning_rate': 5.133412740456716e-05, 'epoch': 2.56}\n",
      "{'loss': 0.3091, 'grad_norm': 1.3188122510910034, 'learning_rate': 4.951556604878958e-05, 'epoch': 2.57}\n",
      "{'loss': 0.3239, 'grad_norm': 2.9627785682678223, 'learning_rate': 4.772812138598956e-05, 'epoch': 2.58}\n",
      "{'loss': 0.323, 'grad_norm': 2.413097381591797, 'learning_rate': 4.597191688184664e-05, 'epoch': 2.59}\n",
      "{'loss': 0.3421, 'grad_norm': 0.7800941467285156, 'learning_rate': 4.4247073844162534e-05, 'epoch': 2.6}\n",
      "{'loss': 0.3186, 'grad_norm': 0.5911285281181335, 'learning_rate': 4.255371141448179e-05, 'epoch': 2.6}\n",
      "{'loss': 0.3113, 'grad_norm': 1.9438077211380005, 'learning_rate': 4.0891946559862215e-05, 'epoch': 2.61}\n",
      "{'loss': 0.3227, 'grad_norm': 1.7837798595428467, 'learning_rate': 3.9261894064795426e-05, 'epoch': 2.62}\n",
      "{'loss': 0.3312, 'grad_norm': 4.686606407165527, 'learning_rate': 3.766366652327848e-05, 'epoch': 2.63}\n",
      "{'loss': 0.3255, 'grad_norm': 1.2697325944900513, 'learning_rate': 3.609737433103657e-05, 'epoch': 2.63}\n",
      "{'loss': 0.3255, 'grad_norm': 0.7853116989135742, 'learning_rate': 3.456312567789721e-05, 'epoch': 2.64}\n",
      "{'loss': 0.3261, 'grad_norm': 1.1114546060562134, 'learning_rate': 3.306102654031753e-05, 'epoch': 2.65}\n",
      "{'loss': 0.3291, 'grad_norm': 1.5584619045257568, 'learning_rate': 3.1591180674063915e-05, 'epoch': 2.66}\n",
      "{'loss': 0.3222, 'grad_norm': 1.6499205827713013, 'learning_rate': 3.0153689607045202e-05, 'epoch': 2.67}\n",
      "{'loss': 0.3319, 'grad_norm': 0.2351410835981369, 'learning_rate': 2.8748652632299765e-05, 'epoch': 2.67}\n",
      "{'loss': 0.3324, 'grad_norm': 1.3670721054077148, 'learning_rate': 2.7376166801137074e-05, 'epoch': 2.68}\n",
      "{'loss': 0.3206, 'grad_norm': 2.3516108989715576, 'learning_rate': 2.6036326916433665e-05, 'epoch': 2.69}\n",
      "{'loss': 0.3354, 'grad_norm': 2.2598087787628174, 'learning_rate': 2.4729225526085132e-05, 'epoch': 2.7}\n",
      "{'loss': 0.3356, 'grad_norm': 0.7307800054550171, 'learning_rate': 2.345495291661315e-05, 'epoch': 2.71}\n",
      "{'loss': 0.3436, 'grad_norm': 1.9382610321044922, 'learning_rate': 2.221359710692938e-05, 'epoch': 2.71}\n",
      "{'loss': 0.3196, 'grad_norm': 1.9683542251586914, 'learning_rate': 2.1005243842255252e-05, 'epoch': 2.72}\n",
      "{'loss': 0.3305, 'grad_norm': 1.4066522121429443, 'learning_rate': 1.9829976588199807e-05, 'epoch': 2.73}\n",
      "{'loss': 0.3429, 'grad_norm': 3.8579261302948, 'learning_rate': 1.8687876524993672e-05, 'epoch': 2.74}\n",
      "{'loss': 0.329, 'grad_norm': 3.621772527694702, 'learning_rate': 1.757902254188226e-05, 'epoch': 2.75}\n",
      "{'loss': 0.3141, 'grad_norm': 3.4081194400787354, 'learning_rate': 1.6503491231676197e-05, 'epoch': 2.75}\n",
      "{'loss': 0.3335, 'grad_norm': 0.41169360280036926, 'learning_rate': 1.5461356885460844e-05, 'epoch': 2.76}\n",
      "{'loss': 0.3184, 'grad_norm': 2.132136344909668, 'learning_rate': 1.4452691487464886e-05, 'epoch': 2.77}\n",
      "{'loss': 0.3355, 'grad_norm': 2.638719081878662, 'learning_rate': 1.3477564710087961e-05, 'epoch': 2.78}\n",
      "{'loss': 0.3292, 'grad_norm': 3.640308141708374, 'learning_rate': 1.2536043909088062e-05, 'epoch': 2.79}\n",
      "{'loss': 0.3114, 'grad_norm': 1.012223482131958, 'learning_rate': 1.162819411892927e-05, 'epoch': 2.79}\n",
      "{'loss': 0.3379, 'grad_norm': 3.0596120357513428, 'learning_rate': 1.0754078048289139e-05, 'epoch': 2.8}\n",
      "{'loss': 0.3289, 'grad_norm': 1.954204797744751, 'learning_rate': 9.913756075727901e-06, 'epoch': 2.81}\n",
      "{'loss': 0.3243, 'grad_norm': 1.515636920928955, 'learning_rate': 9.107286245516942e-06, 'epoch': 2.82}\n",
      "{'loss': 0.3311, 'grad_norm': 2.709669589996338, 'learning_rate': 8.334724263630135e-06, 'epoch': 2.83}\n",
      "{'loss': 0.3164, 'grad_norm': 1.301953911781311, 'learning_rate': 7.596123493895839e-06, 'epoch': 2.83}\n",
      "{'loss': 0.3239, 'grad_norm': 1.7641478776931763, 'learning_rate': 6.891534954310753e-06, 'epoch': 2.84}\n",
      "{'loss': 0.3392, 'grad_norm': 1.6968467235565186, 'learning_rate': 6.2210073135160345e-06, 'epoch': 2.85}\n",
      "{'loss': 0.3401, 'grad_norm': 1.9246875047683716, 'learning_rate': 5.584586887435621e-06, 'epoch': 2.86}\n",
      "{'loss': 0.3313, 'grad_norm': 1.520396113395691, 'learning_rate': 4.98231763607665e-06, 'epoch': 2.87}\n",
      "{'loss': 0.3317, 'grad_norm': 4.453578472137451, 'learning_rate': 4.4142411604934994e-06, 'epoch': 2.87}\n",
      "{'loss': 0.3254, 'grad_norm': 1.2110676765441895, 'learning_rate': 3.88039669991387e-06, 'epoch': 2.88}\n",
      "{'loss': 0.3215, 'grad_norm': 2.5385684967041016, 'learning_rate': 3.3808211290284016e-06, 'epoch': 2.89}\n",
      "{'loss': 0.3515, 'grad_norm': 0.7813808917999268, 'learning_rate': 2.9155489554438585e-06, 'epoch': 2.9}\n",
      "{'loss': 0.3288, 'grad_norm': 3.2792203426361084, 'learning_rate': 2.4846123172992313e-06, 'epoch': 2.9}\n",
      "{'loss': 0.3404, 'grad_norm': 0.4873098134994507, 'learning_rate': 2.0880409810460338e-06, 'epoch': 2.91}\n",
      "{'loss': 0.3362, 'grad_norm': 1.4917651414871216, 'learning_rate': 1.725862339392212e-06, 'epoch': 2.92}\n",
      "{'loss': 0.3264, 'grad_norm': 1.454838514328003, 'learning_rate': 1.3981014094098976e-06, 'epoch': 2.93}\n",
      "{'loss': 0.3377, 'grad_norm': 1.3991634845733643, 'learning_rate': 1.104780830807477e-06, 'epoch': 2.94}\n",
      "{'loss': 0.3283, 'grad_norm': 0.42730990052223206, 'learning_rate': 8.459208643658891e-07, 'epoch': 2.94}\n",
      "{'loss': 0.3398, 'grad_norm': 1.1411113739013672, 'learning_rate': 6.215393905388115e-07, 'epoch': 2.95}\n",
      "{'loss': 0.327, 'grad_norm': 0.8326317667961121, 'learning_rate': 4.3165190821791137e-07, 'epoch': 2.96}\n",
      "{'loss': 0.3289, 'grad_norm': 1.2480015754699707, 'learning_rate': 2.762715336622133e-07, 'epoch': 2.97}\n",
      "{'loss': 0.3366, 'grad_norm': 0.5158100128173828, 'learning_rate': 1.5540899959187384e-07, 'epoch': 2.98}\n",
      "{'loss': 0.327, 'grad_norm': 1.0617462396621704, 'learning_rate': 6.907265444716493e-08, 'epoch': 2.98}\n",
      "{'loss': 0.3163, 'grad_norm': 1.2791367769241333, 'learning_rate': 1.7268461811547803e-08, 'epoch': 2.99}\n",
      "{'loss': 0.3376, 'grad_norm': 1.6245471239089966, 'learning_rate': 0.0, 'epoch': 3.0}\n"
     ]
    },
    {
     "data": {
      "application/vnd.jupyter.widget-view+json": {
       "model_id": "8dc89b108c794eea979d417e69c9732e",
       "version_major": 2,
       "version_minor": 0
      },
      "text/plain": [
       "  0%|          | 0/7000 [00:00<?, ?it/s]"
      ]
     },
     "metadata": {},
     "output_type": "display_data"
    },
    {
     "name": "stdout",
     "output_type": "stream",
     "text": [
      "{'eval_loss': 0.2939109206199646, 'eval_accuracy': 0.8771607142857143, 'eval_runtime': 44.3504, 'eval_samples_per_second': 1262.673, 'eval_steps_per_second': 157.834, 'epoch': 3.0}\n",
      "{'train_runtime': 2273.6144, 'train_samples_per_second': 665.02, 'train_steps_per_second': 83.128, 'train_loss': 0.34639559863862535, 'epoch': 3.0}\n"
     ]
    },
    {
     "data": {
      "application/vnd.jupyter.widget-view+json": {
       "model_id": "caceeeb7490f458893292071597fcc41",
       "version_major": 2,
       "version_minor": 0
      },
      "text/plain": [
       "  0%|          | 0/7000 [00:00<?, ?it/s]"
      ]
     },
     "metadata": {},
     "output_type": "display_data"
    },
    {
     "name": "stdout",
     "output_type": "stream",
     "text": [
      "Bias-only Evaluation Metrics: {'eval_loss': 0.2939109206199646, 'eval_accuracy': 0.8771607142857143, 'eval_runtime': 45.9629, 'eval_samples_per_second': 1218.373, 'eval_steps_per_second': 152.297, 'epoch': 3.0}\n"
     ]
    }
   ],
   "source": [
    "bias_trainer.train()\n",
    "\n",
    "bias_o_metrics = bias_trainer.evaluate()\n",
    "print(\"Bias-only Evaluation Metrics:\", bias_o_metrics)"
   ]
  },
  {
   "cell_type": "code",
   "execution_count": 27,
   "metadata": {},
   "outputs": [
    {
     "name": "stdout",
     "output_type": "stream",
     "text": [
      "1\n"
     ]
    }
   ],
   "source": [
    "print(1)"
   ]
  }
 ],
 "metadata": {
  "kernelspec": {
   "display_name": ".venv",
   "language": "python",
   "name": "python3"
  },
  "language_info": {
   "codemirror_mode": {
    "name": "ipython",
    "version": 3
   },
   "file_extension": ".py",
   "mimetype": "text/x-python",
   "name": "python",
   "nbconvert_exporter": "python",
   "pygments_lexer": "ipython3",
   "version": "3.11.9"
  }
 },
 "nbformat": 4,
 "nbformat_minor": 2
}
